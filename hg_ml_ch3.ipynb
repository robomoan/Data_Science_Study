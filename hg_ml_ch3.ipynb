{
  "nbformat": 4,
  "nbformat_minor": 0,
  "metadata": {
    "colab": {
      "name": "hg_ml_ch3.ipynb",
      "provenance": [],
      "collapsed_sections": [],
      "authorship_tag": "ABX9TyN8VtL18Db2skYQVJyOhXuz",
      "include_colab_link": true
    },
    "kernelspec": {
      "name": "python3",
      "display_name": "Python 3"
    }
  },
  "cells": [
    {
      "cell_type": "markdown",
      "metadata": {
        "id": "view-in-github",
        "colab_type": "text"
      },
      "source": [
        "<a href=\"https://colab.research.google.com/github/robomoan/Data_Science_Study/blob/main/hg_ml_ch3.ipynb\" target=\"_parent\"><img src=\"https://colab.research.google.com/assets/colab-badge.svg\" alt=\"Open In Colab\"/></a>"
      ]
    },
    {
      "cell_type": "markdown",
      "metadata": {
        "id": "OsTVjPQuMBNX"
      },
      "source": [
        "#Ch3. 회귀 알고리즘과 모델 규제\r\n",
        "농어의 무게 예측하기"
      ]
    },
    {
      "cell_type": "markdown",
      "metadata": {
        "id": "UrA5XNWEMVaA"
      },
      "source": [
        "## K-최근접 이웃 회귀"
      ]
    },
    {
      "cell_type": "markdown",
      "metadata": {
        "id": "jE2MiPLIMjTz"
      },
      "source": [
        "###데이터 준비"
      ]
    },
    {
      "cell_type": "markdown",
      "metadata": {
        "id": "Y8BBqkY1M5bm"
      },
      "source": [
        "농어의 길이와 무게 데이터 [링크](https://gist.github.com/rickiepark/2cd82455e985001542047d7d55d50630)"
      ]
    },
    {
      "cell_type": "code",
      "metadata": {
        "id": "9rEcqOFBL1kB"
      },
      "source": [
        "import numpy as np"
      ],
      "execution_count": 1,
      "outputs": []
    },
    {
      "cell_type": "code",
      "metadata": {
        "id": "r1s7BzctL-hM"
      },
      "source": [
        "# 데이터 부르기\r\n",
        "# 농어 길이\r\n",
        "perch_length = np.array([8.4, 13.7, 15.0, 16.2, 17.4, 18.0, 18.7, 19.0, 19.6, 20.0, 21.0,\r\n",
        "       21.0, 21.0, 21.3, 22.0, 22.0, 22.0, 22.0, 22.0, 22.5, 22.5, 22.7,\r\n",
        "       23.0, 23.5, 24.0, 24.0, 24.6, 25.0, 25.6, 26.5, 27.3, 27.5, 27.5,\r\n",
        "       27.5, 28.0, 28.7, 30.0, 32.8, 34.5, 35.0, 36.5, 36.0, 37.0, 37.0,\r\n",
        "       39.0, 39.0, 39.0, 40.0, 40.0, 40.0, 40.0, 42.0, 43.0, 43.0, 43.5,\r\n",
        "       44.0])\r\n",
        "# 농어 무게\r\n",
        "perch_weight = np.array([5.9, 32.0, 40.0, 51.5, 70.0, 100.0, 78.0, 80.0, 85.0, 85.0, 110.0,\r\n",
        "       115.0, 125.0, 130.0, 120.0, 120.0, 130.0, 135.0, 110.0, 130.0,\r\n",
        "       150.0, 145.0, 150.0, 170.0, 225.0, 145.0, 188.0, 180.0, 197.0,\r\n",
        "       218.0, 300.0, 260.0, 265.0, 250.0, 250.0, 300.0, 320.0, 514.0,\r\n",
        "       556.0, 840.0, 685.0, 700.0, 700.0, 690.0, 900.0, 650.0, 820.0,\r\n",
        "       850.0, 900.0, 1015.0, 820.0, 1100.0, 1000.0, 1100.0, 1000.0,\r\n",
        "       1000.0])"
      ],
      "execution_count": 2,
      "outputs": []
    },
    {
      "cell_type": "code",
      "metadata": {
        "colab": {
          "base_uri": "https://localhost:8080/",
          "height": 279
        },
        "id": "8vG2l5G4NXj-",
        "outputId": "ba17b688-d866-44c6-926f-77e53bf7d41c"
      },
      "source": [
        "# 산점도 그리기\r\n",
        "import matplotlib.pyplot as plt\r\n",
        "plt.scatter(perch_length, perch_weight)\r\n",
        "plt.xlabel('Length')\r\n",
        "plt.ylabel('Weight')\r\n",
        "plt.show()"
      ],
      "execution_count": 3,
      "outputs": [
        {
          "output_type": "display_data",
          "data": {
            "image/png": "[encoded data removed]",
            "text/plain": [
              "<Figure size 432x288 with 1 Axes>"
            ]
          },
          "metadata": {
            "tags": [],
            "needs_background": "light"
          }
        }
      ]
    },
    {
      "cell_type": "code",
      "metadata": {
        "id": "kDjCvDPrNpNw"
      },
      "source": [
        "# 훈련 세트와 테스트 세트로 나누기\r\n",
        "from sklearn.model_selection import train_test_split\r\n",
        "train_input, test_input, train_target, test_target = train_test_split(perch_length, perch_weight, random_state=42)"
      ],
      "execution_count": 4,
      "outputs": []
    },
    {
      "cell_type": "code",
      "metadata": {
        "colab": {
          "base_uri": "https://localhost:8080/"
        },
        "id": "O3Lao5nWOhza",
        "outputId": "97ebbdb6-67c5-4948-d2a7-c7dc972b444a"
      },
      "source": [
        "print(train_input.shape, test_input.shape)"
      ],
      "execution_count": 5,
      "outputs": [
        {
          "output_type": "stream",
          "text": [
            "(42,) (14,)\n"
          ],
          "name": "stdout"
        }
      ]
    },
    {
      "cell_type": "code",
      "metadata": {
        "colab": {
          "base_uri": "https://localhost:8080/"
        },
        "id": "Jc1Xm8rnOrg9",
        "outputId": "ed521210-ad9d-44c9-81f3-4edda53270c4"
      },
      "source": [
        "# 넘파이의 reshape로 input 데이터를 2차원 배열로 바꾸기\r\n",
        "train_input = train_input.reshape(-1, 1)\r\n",
        "test_input = test_input.reshape(-1, 1)\r\n",
        "print(train_input.shape, test_input.shape)"
      ],
      "execution_count": 6,
      "outputs": [
        {
          "output_type": "stream",
          "text": [
            "(42, 1) (14, 1)\n"
          ],
          "name": "stdout"
        }
      ]
    },
    {
      "cell_type": "markdown",
      "metadata": {
        "id": "3tfG6FjbPNhA"
      },
      "source": [
        "###결정계수($R^2$)"
      ]
    },
    {
      "cell_type": "markdown",
      "metadata": {
        "id": "-GBye7xlPofC"
      },
      "source": [
        "결정계수는 회귀식의 적합도를 나타내는 척도\r\n",
        "<br>$R^2 = 1- \\frac{\\sum (타깃 - 예측) ^2}{\\sum (타깃 - 평균)^2}$\r\n",
        "<br>결정계수는 0과 1 사이의 값을 가지며 1에 가까울 수록 예측이 타깃에 가까워진다."
      ]
    },
    {
      "cell_type": "code",
      "metadata": {
        "colab": {
          "base_uri": "https://localhost:8080/"
        },
        "id": "J9sYO9lXPHpp",
        "outputId": "41dcf2aa-6129-43d2-be0e-e6d2896d99c1"
      },
      "source": [
        "# K-최근접 이웃 회귀 알고리즘 이용\r\n",
        "from sklearn.neighbors import KNeighborsRegressor\r\n",
        "\r\n",
        "knr = KNeighborsRegressor()\r\n",
        "\r\n",
        "# 모델 훈련하기\r\n",
        "knr.fit(train_input, train_target)"
      ],
      "execution_count": 7,
      "outputs": [
        {
          "output_type": "execute_result",
          "data": {
            "text/plain": [
              "KNeighborsRegressor(algorithm='auto', leaf_size=30, metric='minkowski',\n",
              "                    metric_params=None, n_jobs=None, n_neighbors=5, p=2,\n",
              "                    weights='uniform')"
            ]
          },
          "metadata": {
            "tags": []
          },
          "execution_count": 7
        }
      ]
    },
    {
      "cell_type": "code",
      "metadata": {
        "colab": {
          "base_uri": "https://localhost:8080/"
        },
        "id": "GjQAucD1SHAm",
        "outputId": "544fb1c9-d211-4225-e49a-80f90afb0cb5"
      },
      "source": [
        "# score 메서드의 출력값이 결정계수\r\n",
        "print(knr.score(test_input, test_target))"
      ],
      "execution_count": 8,
      "outputs": [
        {
          "output_type": "stream",
          "text": [
            "0.9928094061010639\n"
          ],
          "name": "stdout"
        }
      ]
    },
    {
      "cell_type": "markdown",
      "metadata": {
        "id": "IB-Nr9qxShJf"
      },
      "source": [
        "결정계수가 아닌 또 다른 측정값으로는\r\n",
        "- 평균 절댓값 오차 Mean absolute error (MAE)\r\n",
        "- 평균 제곱근 오차 Root mean square error (RMSE)\r\n",
        "가 있다."
      ]
    },
    {
      "cell_type": "code",
      "metadata": {
        "colab": {
          "base_uri": "https://localhost:8080/"
        },
        "id": "a7ND_KSJSZRh",
        "outputId": "90d66263-3081-494b-ba7d-faa377792dad"
      },
      "source": [
        "from sklearn.metrics import mean_absolute_error\r\n",
        "from sklearn.metrics import mean_squared_error\r\n",
        "\r\n",
        "# 테스트 세트에 대한 예측\r\n",
        "test_prediction = knr.predict(test_input)\r\n",
        "\r\n",
        "# 평균 절댓값 오차\r\n",
        "mae = mean_absolute_error(test_target, test_prediction)\r\n",
        "print(mae)\r\n",
        "\r\n",
        "# 평균 제곱근 오차\r\n",
        "rmse = mean_squared_error(test_target, test_prediction, squared = False)\r\n",
        "print(rmse)"
      ],
      "execution_count": 9,
      "outputs": [
        {
          "output_type": "stream",
          "text": [
            "19.157142857142862\n",
            "26.865192562655704\n"
          ],
          "name": "stdout"
        }
      ]
    },
    {
      "cell_type": "markdown",
      "metadata": {
        "id": "Q6mNrouAJewx"
      },
      "source": [
        "#### K-최근접 이웃 가중치 회귀"
      ]
    },
    {
      "cell_type": "code",
      "metadata": {
        "colab": {
          "base_uri": "https://localhost:8080/"
        },
        "id": "_tf-mdJCJnQH",
        "outputId": "b4e058df-cbeb-4140-ae0e-f376f4051a95"
      },
      "source": [
        "# 거리에 따른 가중치 부여\r\n",
        "knwr = KNeighborsRegressor(weights='distance') # 디폴트 값은 'uniform'\r\n",
        "\r\n",
        "# 모델 훈련하기\r\n",
        "knwr.fit(train_input, train_target)\r\n",
        "\r\n",
        "# 테스트 세트의 결정계수\r\n",
        "print(knwr.score(test_input, test_target))\r\n",
        "\r\n",
        "# 훈련 세트의 결정계수\r\n",
        "print(knwr.score(train_input, train_target))"
      ],
      "execution_count": 10,
      "outputs": [
        {
          "output_type": "stream",
          "text": [
            "0.9683683793800699\n",
            "0.9927796343304285\n"
          ],
          "name": "stdout"
        }
      ]
    },
    {
      "cell_type": "markdown",
      "metadata": {
        "id": "0qkYuTohWqQ_"
      },
      "source": [
        "### 과대적합 vs 과소적합"
      ]
    },
    {
      "cell_type": "markdown",
      "metadata": {
        "id": "6ySy9xYsXIj4"
      },
      "source": [
        "- 훈련 세트에서는 점수가 좋았는데 테스트 세트에서는 점수가 굉장히 나쁘다면 **과대적합**\r\n",
        "- 훈련 세트보다 테스트 세트의 점수가 더 높게 나오거나 두 점수가 모두 낮은 경우 **과소적합**"
      ]
    },
    {
      "cell_type": "code",
      "metadata": {
        "colab": {
          "base_uri": "https://localhost:8080/"
        },
        "id": "1Aty4G4WWXJs",
        "outputId": "4b530d31-5d8f-4745-e5ea-4ffd33c8f83f"
      },
      "source": [
        "# 테스트 세트의 결정계수\r\n",
        "print(knr.score(test_input, test_target))\r\n",
        "\r\n",
        "# 훈련 세트의 결정계수\r\n",
        "print(knr.score(train_input, train_target))"
      ],
      "execution_count": 11,
      "outputs": [
        {
          "output_type": "stream",
          "text": [
            "0.9928094061010639\n",
            "0.9698823289099255\n"
          ],
          "name": "stdout"
        }
      ]
    },
    {
      "cell_type": "markdown",
      "metadata": {
        "id": "dpqcfCwNXrcg"
      },
      "source": [
        "모델이 훈련세트에 **과소적합**되었다.\r\n",
        "<br>과소적합이 되는 이유는 주로 테스트 세트와 훈련 세트의 크기가 작아서이다.\r\n",
        "<br>이를 해결하기 위해 모델을 더 복잡하게 만든다. 모델을 복잡하게 하기 위해 참고하는 이웃의 수를 줄인다.\r\n",
        "\r\n"
      ]
    },
    {
      "cell_type": "code",
      "metadata": {
        "colab": {
          "base_uri": "https://localhost:8080/"
        },
        "id": "mcvZlSfxXBTF",
        "outputId": "a5b0a396-5b64-48c0-d8a5-551ed475dc98"
      },
      "source": [
        "# 이웃의 개수를 3으로 설정\r\n",
        "knr.n_neighbors = 3\r\n",
        "\r\n",
        "# 모델을 다시 훈련\r\n",
        "knr.fit(train_input, train_target)\r\n",
        "print(knr.score(train_input, train_target))\r\n",
        "print(knr.score(test_input, test_target))"
      ],
      "execution_count": 12,
      "outputs": [
        {
          "output_type": "stream",
          "text": [
            "0.9804899950518966\n",
            "0.974645996398761\n"
          ],
          "name": "stdout"
        }
      ]
    },
    {
      "cell_type": "markdown",
      "metadata": {
        "id": "STOSowgnlD_I"
      },
      "source": [
        "##선형회귀"
      ]
    },
    {
      "cell_type": "markdown",
      "metadata": {
        "id": "MrDp98d-lGlG"
      },
      "source": [
        "###K-최근접 이웃 회귀 모델의 한계"
      ]
    },
    {
      "cell_type": "code",
      "metadata": {
        "id": "r3jDPRXvkp3Y"
      },
      "source": [
        "# 데이터 불러오기\r\n",
        "# 농어의 길이\r\n",
        "perch_length = np.array([8.4, 13.7, 15.0, 16.2, 17.4, 18.0, 18.7, 19.0, 19.6, 20.0, 21.0,\r\n",
        "       21.0, 21.0, 21.3, 22.0, 22.0, 22.0, 22.0, 22.0, 22.5, 22.5, 22.7,\r\n",
        "       23.0, 23.5, 24.0, 24.0, 24.6, 25.0, 25.6, 26.5, 27.3, 27.5, 27.5,\r\n",
        "       27.5, 28.0, 28.7, 30.0, 32.8, 34.5, 35.0, 36.5, 36.0, 37.0, 37.0,\r\n",
        "       39.0, 39.0, 39.0, 40.0, 40.0, 40.0, 40.0, 42.0, 43.0, 43.0, 43.5,\r\n",
        "       44.0])\r\n",
        "\r\n",
        "# 농어의 무게\r\n",
        "perch_weight = np.array([5.9, 32.0, 40.0, 51.5, 70.0, 100.0, 78.0, 80.0, 85.0, 85.0, 110.0,\r\n",
        "       115.0, 125.0, 130.0, 120.0, 120.0, 130.0, 135.0, 110.0, 130.0,\r\n",
        "       150.0, 145.0, 150.0, 170.0, 225.0, 145.0, 188.0, 180.0, 197.0,\r\n",
        "       218.0, 300.0, 260.0, 265.0, 250.0, 250.0, 300.0, 320.0, 514.0,\r\n",
        "       556.0, 840.0, 685.0, 700.0, 700.0, 690.0, 900.0, 650.0, 820.0,\r\n",
        "       850.0, 900.0, 1015.0, 820.0, 1100.0, 1000.0, 1100.0, 1000.0,\r\n",
        "       1000.0])"
      ],
      "execution_count": 13,
      "outputs": []
    },
    {
      "cell_type": "code",
      "metadata": {
        "id": "RhlLrJGnldF2"
      },
      "source": [
        "from sklearn.model_selection import train_test_split\r\n",
        "\r\n",
        "# 훈련 세트와 테스트 세트로 나누기\r\n",
        "train_input, test_input, train_target, test_target = train_test_split(perch_length, perch_weight, random_state=42)\r\n",
        "\r\n",
        "# 2차원 배열로 바꾸기\r\n",
        "train_input = train_input.reshape(-1, 1)\r\n",
        "test_input = test_input.reshape(-1, 1)"
      ],
      "execution_count": 14,
      "outputs": []
    },
    {
      "cell_type": "code",
      "metadata": {
        "colab": {
          "base_uri": "https://localhost:8080/"
        },
        "id": "J_eX2hTa6ZmL",
        "outputId": "97faf110-8bf2-40bd-e550-9e7ab55ece99"
      },
      "source": [
        "from sklearn.neighbors import KNeighborsRegressor\r\n",
        "\r\n",
        "# 최근접 이웃을 3개로 하는 회귀 모형 만들기\r\n",
        "knr = KNeighborsRegressor(n_neighbors=3)\r\n",
        "\r\n",
        "# 모델 훈련하기\r\n",
        "knr.fit(train_input, train_target)"
      ],
      "execution_count": 15,
      "outputs": [
        {
          "output_type": "execute_result",
          "data": {
            "text/plain": [
              "KNeighborsRegressor(algorithm='auto', leaf_size=30, metric='minkowski',\n",
              "                    metric_params=None, n_jobs=None, n_neighbors=3, p=2,\n",
              "                    weights='uniform')"
            ]
          },
          "metadata": {
            "tags": []
          },
          "execution_count": 15
        }
      ]
    },
    {
      "cell_type": "code",
      "metadata": {
        "colab": {
          "base_uri": "https://localhost:8080/"
        },
        "id": "iPk-X9NT6zgr",
        "outputId": "750905cc-8996-4ae5-e027-feb503f9d144"
      },
      "source": [
        "# 길이가 50cm인 농어의 무게 예측하기\r\n",
        "print(knr.predict([[50]]))"
      ],
      "execution_count": 16,
      "outputs": [
        {
          "output_type": "stream",
          "text": [
            "[1033.33333333]\n"
          ],
          "name": "stdout"
        }
      ]
    },
    {
      "cell_type": "code",
      "metadata": {
        "colab": {
          "base_uri": "https://localhost:8080/",
          "height": 279
        },
        "id": "G-sDgn-B7AtA",
        "outputId": "2a208e31-d44e-4329-ea21-46b71c4107f3"
      },
      "source": [
        "# 산점도 그리기\r\n",
        "import matplotlib.pyplot as plt\r\n",
        "\r\n",
        "# 50cm 농어의 이웃 구하기\r\n",
        "distances, indexes = knr.kneighbors([[50]])\r\n",
        "\r\n",
        "# 훈련 세트의 산점도 그리기\r\n",
        "plt.scatter(train_input, train_target)\r\n",
        "\r\n",
        "# 이웃 샘플을 다른 마커로 표시하기\r\n",
        "plt.scatter(train_input[indexes], train_target[indexes], marker=\"D\")\r\n",
        "\r\n",
        "# 50cm 농어 데이터\r\n",
        "plt.scatter(50, 1033, marker='^')\r\n",
        "plt.xlabel('Length')\r\n",
        "plt.ylabel('Weight')\r\n",
        "plt.show()"
      ],
      "execution_count": 17,
      "outputs": [
        {
          "output_type": "display_data",
          "data": {
            "image/png": "[encoded data removed]",
            "text/plain": [
              "<Figure size 432x288 with 1 Axes>"
            ]
          },
          "metadata": {
            "tags": [],
            "needs_background": "light"
          }
        }
      ]
    },
    {
      "cell_type": "markdown",
      "metadata": {
        "id": "7cEvscnD9sr-"
      },
      "source": [
        "50cm 농어의 데이터가 다른 데이터와의 경향성과는 많이 동떨어져있다."
      ]
    },
    {
      "cell_type": "code",
      "metadata": {
        "colab": {
          "base_uri": "https://localhost:8080/"
        },
        "id": "izAZLlW49dx7",
        "outputId": "34e4eedf-9d3a-44ad-f0e6-c9849cd60c71"
      },
      "source": [
        "# 이웃 샘플의 타깃의 평균\r\n",
        "print(np.mean(train_target[indexes]))"
      ],
      "execution_count": 18,
      "outputs": [
        {
          "output_type": "stream",
          "text": [
            "1033.3333333333333\n"
          ],
          "name": "stdout"
        }
      ]
    },
    {
      "cell_type": "markdown",
      "metadata": {
        "id": "RDtZPPDC-Kxq"
      },
      "source": [
        "K-최근접 이웃 회귀는 가까운 이웃을 찾아 타깃을 평균낸다.\r\n",
        "<br>따라서 새로운 샘플이 훈련 세트의 범위를 벗어나면 엉뚱한 값이 예측된다."
      ]
    },
    {
      "cell_type": "code",
      "metadata": {
        "colab": {
          "base_uri": "https://localhost:8080/"
        },
        "id": "OxNs6Ovc-G-W",
        "outputId": "5a57836c-4492-4ebb-893c-f6c775e993aa"
      },
      "source": [
        "# 100cm 농어의 무게 예측\r\n",
        "print(knr.predict([[100]]))"
      ],
      "execution_count": 19,
      "outputs": [
        {
          "output_type": "stream",
          "text": [
            "[1033.33333333]\n"
          ],
          "name": "stdout"
        }
      ]
    },
    {
      "cell_type": "code",
      "metadata": {
        "colab": {
          "base_uri": "https://localhost:8080/",
          "height": 279
        },
        "id": "oQ60NOJw-uMS",
        "outputId": "c73c6bf2-8268-483d-b507-a9a5815e3cb6"
      },
      "source": [
        "# 산점도 그리기\r\n",
        "import matplotlib.pyplot as plt\r\n",
        "\r\n",
        "# 훈련 세트의 산점도 그리기\r\n",
        "plt.scatter(train_input, train_target)\r\n",
        "\r\n",
        "# 이웃 샘플을 다른 마커로 표시하기\r\n",
        "plt.scatter(train_input[indexes], train_target[indexes], marker=\"D\")\r\n",
        "\r\n",
        "# 100cm 농어 데이터\r\n",
        "plt.scatter(100, 1033, marker='^')\r\n",
        "plt.xlabel('Length')\r\n",
        "plt.ylabel('Weight')\r\n",
        "plt.show()"
      ],
      "execution_count": 20,
      "outputs": [
        {
          "output_type": "display_data",
          "data": {
            "image/png": "[encoded data removed]",
            "text/plain": [
              "<Figure size 432x288 with 1 Axes>"
            ]
          },
          "metadata": {
            "tags": [],
            "needs_background": "light"
          }
        }
      ]
    },
    {
      "cell_type": "markdown",
      "metadata": {
        "id": "Lot3uphQ-__F"
      },
      "source": [
        "### 선형회귀"
      ]
    },
    {
      "cell_type": "markdown",
      "metadata": {
        "id": "pfl2z5lr_NsJ"
      },
      "source": [
        "데이터의 특성을 잘 나타내는 선형회귀곡선을 예측하는 알고리즘"
      ]
    },
    {
      "cell_type": "code",
      "metadata": {
        "colab": {
          "base_uri": "https://localhost:8080/"
        },
        "id": "h4WrypjE-55F",
        "outputId": "b7867f48-8054-4e09-9f19-a0d96506929f"
      },
      "source": [
        "# 선형 회귀 알고리즘을 위한 클래스\r\n",
        "from sklearn.linear_model import LinearRegression\r\n",
        "lr = LinearRegression()\r\n",
        "\r\n",
        "# 선형 회귀 모델 훈련\r\n",
        "lr.fit(train_input, train_target)\r\n",
        "\r\n",
        "# 50cm 농어 무게 예측하기\r\n",
        "lr.predict([[50]])"
      ],
      "execution_count": 21,
      "outputs": [
        {
          "output_type": "execute_result",
          "data": {
            "text/plain": [
              "array([1241.83860323])"
            ]
          },
          "metadata": {
            "tags": []
          },
          "execution_count": 21
        }
      ]
    },
    {
      "cell_type": "markdown",
      "metadata": {
        "id": "dPhjRmvdAZnV"
      },
      "source": [
        "선형회귀모형: $y = \\beta_{0} + \\beta_{1}x$\r\n",
        "<br>$\\beta_{0}$와 $\\beta_{1}$ 구하기"
      ]
    },
    {
      "cell_type": "code",
      "metadata": {
        "colab": {
          "base_uri": "https://localhost:8080/"
        },
        "id": "PJDSo0xiAPTj",
        "outputId": "d6c18496-59c1-4b31-eb50-f015923a374a"
      },
      "source": [
        "print(lr.coef_, lr.intercept_)"
      ],
      "execution_count": 22,
      "outputs": [
        {
          "output_type": "stream",
          "text": [
            "[39.01714496] -709.0186449535477\n"
          ],
          "name": "stdout"
        }
      ]
    },
    {
      "cell_type": "markdown",
      "metadata": {
        "id": "SQ_JbHWLDe8U"
      },
      "source": [
        "$\\beta_{0} = -709.02$, $\\beta_{1} = 39.02$"
      ]
    },
    {
      "cell_type": "code",
      "metadata": {
        "colab": {
          "base_uri": "https://localhost:8080/",
          "height": 279
        },
        "id": "s4Dc4N6vBGIo",
        "outputId": "33ea348a-d0f1-4e87-b8ad-d3e176edc00b"
      },
      "source": [
        "# 산점도 그리기\r\n",
        "plt.scatter(train_input, train_target)\r\n",
        "\r\n",
        "# x 범위 15에서 50까지 회귀직선 그리기\r\n",
        "plt.plot([15, 50], [15*lr.coef_ + lr.intercept_, 50*lr.coef_ + lr.intercept_])\r\n",
        "\r\n",
        "# 50cm 농어 데이터\r\n",
        "plt.scatter(50, 1241.8, marker='^')\r\n",
        "plt.xlabel('Length')\r\n",
        "plt.ylabel('Weight')\r\n",
        "plt.show()"
      ],
      "execution_count": 23,
      "outputs": [
        {
          "output_type": "display_data",
          "data": {
            "image/png": "[encoded data removed]",
            "text/plain": [
              "<Figure size 432x288 with 1 Axes>"
            ]
          },
          "metadata": {
            "tags": [],
            "needs_background": "light"
          }
        }
      ]
    },
    {
      "cell_type": "code",
      "metadata": {
        "colab": {
          "base_uri": "https://localhost:8080/"
        },
        "id": "bha1MDFxByPQ",
        "outputId": "a0ad8d05-f311-407f-d57c-57bda4f67e23"
      },
      "source": [
        "# 모델에 대한 결정계수 구하기\r\n",
        "# 훈련 세트\r\n",
        "print(lr.score(train_input, train_target))\r\n",
        "\r\n",
        "# 테스트 세트\r\n",
        "print(lr.score(test_input, test_target))"
      ],
      "execution_count": 24,
      "outputs": [
        {
          "output_type": "stream",
          "text": [
            "0.9398463339976039\n",
            "0.8247503123313558\n"
          ],
          "name": "stdout"
        }
      ]
    },
    {
      "cell_type": "markdown",
      "metadata": {
        "id": "ThQlVvp4CYOf"
      },
      "source": [
        "결정계수가 양 세트에서 모두 낮게 나왔다. 모델이 단순하여 작은 길이의 농어는 무게가 음수로 예측 될 수도 있다."
      ]
    },
    {
      "cell_type": "markdown",
      "metadata": {
        "id": "MaQFiBZ-CfKl"
      },
      "source": [
        "### 다항회귀"
      ]
    },
    {
      "cell_type": "markdown",
      "metadata": {
        "id": "EdwhkKA_CnWy"
      },
      "source": [
        "직선이 아닌 곡선 형태의 회귀모형을 찾아보자\r\n",
        "<br>모형: $y = \\beta_{0} + \\beta_{1}x + \\beta_{2}x^2$"
      ]
    },
    {
      "cell_type": "code",
      "metadata": {
        "id": "hxFBc3BBCSKT"
      },
      "source": [
        "# 훈련 세트와 테스트 세트의 제곱항 새로 만들기\r\n",
        "train_poly = np.column_stack((train_input**2, train_input))\r\n",
        "test_poly = np.column_stack((test_input**2, test_input))"
      ],
      "execution_count": 25,
      "outputs": []
    },
    {
      "cell_type": "code",
      "metadata": {
        "colab": {
          "base_uri": "https://localhost:8080/"
        },
        "id": "n7gugMzkDV3A",
        "outputId": "2fe6470f-e016-49bc-d28d-8ab2ca66e1fd"
      },
      "source": [
        "# 모델 훈련하기\r\n",
        "lr = LinearRegression()\r\n",
        "lr.fit(train_poly, train_target)\r\n",
        "\r\n",
        "# 50cm 농어 무게 예측하기\r\n",
        "print(lr.predict([[50**2, 50]]))"
      ],
      "execution_count": 26,
      "outputs": [
        {
          "output_type": "stream",
          "text": [
            "[1573.98423528]\n"
          ],
          "name": "stdout"
        }
      ]
    },
    {
      "cell_type": "code",
      "metadata": {
        "colab": {
          "base_uri": "https://localhost:8080/"
        },
        "id": "VRPYeRRpEQhX",
        "outputId": "decf45a7-2617-4c24-8dde-1b80fd33a295"
      },
      "source": [
        "# 계수 구하기\r\n",
        "print(lr.coef_, lr.intercept_)"
      ],
      "execution_count": 27,
      "outputs": [
        {
          "output_type": "stream",
          "text": [
            "[  1.01433211 -21.55792498] 116.05021078278276\n"
          ],
          "name": "stdout"
        }
      ]
    },
    {
      "cell_type": "markdown",
      "metadata": {
        "id": "QvjvireZKNoh"
      },
      "source": [
        "$\\beta_{0} = 116.05$, $\\beta_{1} = -21.56$, $\\beta_{2}=1.01$"
      ]
    },
    {
      "cell_type": "code",
      "metadata": {
        "colab": {
          "base_uri": "https://localhost:8080/",
          "height": 279
        },
        "id": "DDQly1LlKLQC",
        "outputId": "273a5bba-9a49-4f6c-cec6-687b33df615e"
      },
      "source": [
        "# 구간별 직선을 그리기 위해 정수 배열 만들기\r\n",
        "point = np.arange(15, 50)\r\n",
        "\r\n",
        "# 훈련 세트의 산점도 그리기\r\n",
        "plt.scatter(train_input, train_target)\r\n",
        "\r\n",
        "# 15에서 49까지 2차 방정식 그래프 그리기\r\n",
        "plt.plot(point, 116.05 - 21.06*point + 1.01*point**2)\r\n",
        "\r\n",
        "# 50cm 농어 데이터\r\n",
        "plt.scatter(50, 1574, marker = '^')\r\n",
        "plt.xlabel('Length')\r\n",
        "plt.ylabel('Weight')\r\n",
        "plt.show()"
      ],
      "execution_count": 28,
      "outputs": [
        {
          "output_type": "display_data",
          "data": {
            "image/png": "[encoded data removed]",
            "text/plain": [
              "<Figure size 432x288 with 1 Axes>"
            ]
          },
          "metadata": {
            "tags": [],
            "needs_background": "light"
          }
        }
      ]
    },
    {
      "cell_type": "code",
      "metadata": {
        "colab": {
          "base_uri": "https://localhost:8080/"
        },
        "id": "qsVzhDy6LkFU",
        "outputId": "ad30a700-c68c-4677-c3e1-920c4b45c61b"
      },
      "source": [
        "# 모델에 대한 결정계수 구하기\r\n",
        "\r\n",
        "# 훈련 세트\r\n",
        "print(lr.score(train_poly, train_target))\r\n",
        "\r\n",
        "# 테스트 세트\r\n",
        "print(lr.score(test_poly, test_target))"
      ],
      "execution_count": 29,
      "outputs": [
        {
          "output_type": "stream",
          "text": [
            "0.9706807451768623\n",
            "0.9775935108325122\n"
          ],
          "name": "stdout"
        }
      ]
    },
    {
      "cell_type": "markdown",
      "metadata": {
        "id": "umiNEbobMZ4-"
      },
      "source": [
        "## 특성 공학과 규제"
      ]
    },
    {
      "cell_type": "markdown",
      "metadata": {
        "id": "5w5iQwdwMd6B"
      },
      "source": [
        "## 다중 회귀"
      ]
    },
    {
      "cell_type": "markdown",
      "metadata": {
        "id": "hKnbqUcsMmui"
      },
      "source": [
        "여러개의 특성을 사용한 선형회귀다.\r\n",
        "<br>농어의 길이 뿐만 아니라 높이와 두께 데이터도 함께 활용한다.\r\n",
        "<br>'길이 x 높이' 같이 기존의 특성을 이용하여 새로운 특성을 만드는 것을 **특성 공학**이라고 한다."
      ]
    },
    {
      "cell_type": "markdown",
      "metadata": {
        "id": "3ogaDpnBOywO"
      },
      "source": [
        "농어의 길이, 높이 두께 데이터 [링크](https://raw.githubusercontent.com/rickiepark/hongong-ml/master/perch_full.csv)"
      ]
    },
    {
      "cell_type": "code",
      "metadata": {
        "colab": {
          "base_uri": "https://localhost:8080/"
        },
        "id": "3Rg54qqNMr54",
        "outputId": "52234745-03b5-4f19-eca5-b5aec7e1c57c"
      },
      "source": [
        "# 데이터 불러오기\r\n",
        "import pandas as pd\r\n",
        "df = pd.read_csv(\"https://raw.githubusercontent.com/rickiepark/hongong-ml/master/perch_full.csv\")\r\n",
        "\r\n",
        "# 판다스 데이터프레임형을 넘파이 배열형으로 바꾸기\r\n",
        "perch_full = df.to_numpy()\r\n",
        "\r\n",
        "print(perch_full)\r\n"
      ],
      "execution_count": 30,
      "outputs": [
        {
          "output_type": "stream",
          "text": [
            "[[ 8.4   2.11  1.41]\n",
            " [13.7   3.53  2.  ]\n",
            " [15.    3.82  2.43]\n",
            " [16.2   4.59  2.63]\n",
            " [17.4   4.59  2.94]\n",
            " [18.    5.22  3.32]\n",
            " [18.7   5.2   3.12]\n",
            " [19.    5.64  3.05]\n",
            " [19.6   5.14  3.04]\n",
            " [20.    5.08  2.77]\n",
            " [21.    5.69  3.56]\n",
            " [21.    5.92  3.31]\n",
            " [21.    5.69  3.67]\n",
            " [21.3   6.38  3.53]\n",
            " [22.    6.11  3.41]\n",
            " [22.    5.64  3.52]\n",
            " [22.    6.11  3.52]\n",
            " [22.    5.88  3.52]\n",
            " [22.    5.52  4.  ]\n",
            " [22.5   5.86  3.62]\n",
            " [22.5   6.79  3.62]\n",
            " [22.7   5.95  3.63]\n",
            " [23.    5.22  3.63]\n",
            " [23.5   6.28  3.72]\n",
            " [24.    7.29  3.72]\n",
            " [24.    6.38  3.82]\n",
            " [24.6   6.73  4.17]\n",
            " [25.    6.44  3.68]\n",
            " [25.6   6.56  4.24]\n",
            " [26.5   7.17  4.14]\n",
            " [27.3   8.32  5.14]\n",
            " [27.5   7.17  4.34]\n",
            " [27.5   7.05  4.34]\n",
            " [27.5   7.28  4.57]\n",
            " [28.    7.82  4.2 ]\n",
            " [28.7   7.59  4.64]\n",
            " [30.    7.62  4.77]\n",
            " [32.8  10.03  6.02]\n",
            " [34.5  10.26  6.39]\n",
            " [35.   11.49  7.8 ]\n",
            " [36.5  10.88  6.86]\n",
            " [36.   10.61  6.74]\n",
            " [37.   10.84  6.26]\n",
            " [37.   10.57  6.37]\n",
            " [39.   11.14  7.49]\n",
            " [39.   11.14  6.  ]\n",
            " [39.   12.43  7.35]\n",
            " [40.   11.93  7.11]\n",
            " [40.   11.73  7.22]\n",
            " [40.   12.38  7.46]\n",
            " [40.   11.14  6.63]\n",
            " [42.   12.8   6.87]\n",
            " [43.   11.93  7.28]\n",
            " [43.   12.51  7.42]\n",
            " [43.5  12.6   8.14]\n",
            " [44.   12.49  7.6 ]]\n"
          ],
          "name": "stdout"
        }
      ]
    },
    {
      "cell_type": "code",
      "metadata": {
        "id": "sLv-tZJdPhkz"
      },
      "source": [
        "# 타깃 데이터 불러오기\r\n",
        "import numpy as np\r\n",
        "perch_weight = np.array([5.9, 32.0, 40.0, 51.5, 70.0, 100.0, 78.0, 80.0, 85.0, 85.0, 110.0,\r\n",
        "       115.0, 125.0, 130.0, 120.0, 120.0, 130.0, 135.0, 110.0, 130.0,\r\n",
        "       150.0, 145.0, 150.0, 170.0, 225.0, 145.0, 188.0, 180.0, 197.0,\r\n",
        "       218.0, 300.0, 260.0, 265.0, 250.0, 250.0, 300.0, 320.0, 514.0,\r\n",
        "       556.0, 840.0, 685.0, 700.0, 700.0, 690.0, 900.0, 650.0, 820.0,\r\n",
        "       850.0, 900.0, 1015.0, 820.0, 1100.0, 1000.0, 1100.0, 1000.0,\r\n",
        "       1000.0])"
      ],
      "execution_count": 31,
      "outputs": []
    },
    {
      "cell_type": "code",
      "metadata": {
        "id": "wJdSy7AWP2aW"
      },
      "source": [
        "# 훈련 세트와 데이터 세트로 나누기\r\n",
        "from sklearn.model_selection import train_test_split\r\n",
        "train_input, test_input, train_target, test_target = train_test_split(perch_full, perch_weight, random_state=42)"
      ],
      "execution_count": 32,
      "outputs": []
    },
    {
      "cell_type": "markdown",
      "metadata": {
        "id": "L5hHbwJ4QeNl"
      },
      "source": [
        "### 사이킷런의 변환기"
      ]
    },
    {
      "cell_type": "markdown",
      "metadata": {
        "id": "SMuqm5tiQsdt"
      },
      "source": [
        "변환기 클래스에는 모두 fit(), transform() 매서드를 제공한다."
      ]
    },
    {
      "cell_type": "code",
      "metadata": {
        "id": "gZdubrdcQ039"
      },
      "source": [
        "from sklearn.preprocessing import PolynomialFeatures"
      ],
      "execution_count": 33,
      "outputs": []
    },
    {
      "cell_type": "code",
      "metadata": {
        "colab": {
          "base_uri": "https://localhost:8080/"
        },
        "id": "527OsmaeQ78d",
        "outputId": "fe7ff410-bfb8-4b5b-d9e7-659a22cfe79d"
      },
      "source": [
        "# 예로 2, 3으로 이뤄진 샘플을 적용함\r\n",
        "poly = PolynomialFeatures()\r\n",
        "poly.fit([[2, 3]])\r\n",
        "print(poly.transform([[2, 3]]))"
      ],
      "execution_count": 34,
      "outputs": [
        {
          "output_type": "stream",
          "text": [
            "[[1. 2. 3. 4. 6. 9.]]\n"
          ],
          "name": "stdout"
        }
      ]
    },
    {
      "cell_type": "markdown",
      "metadata": {
        "id": "XTYZXcxiR9Nu"
      },
      "source": [
        "1은 절편을 나타내는 값이므로 1을 생략할 수 있다."
      ]
    },
    {
      "cell_type": "code",
      "metadata": {
        "colab": {
          "base_uri": "https://localhost:8080/"
        },
        "id": "ubDkFmD_RhNM",
        "outputId": "871004a5-69f2-45fd-8ec1-bcf4ac4efa28"
      },
      "source": [
        "poly = PolynomialFeatures(include_bias=False)\r\n",
        "poly.fit([[2, 3]])\r\n",
        "print(poly.transform([[2, 3]]))"
      ],
      "execution_count": 35,
      "outputs": [
        {
          "output_type": "stream",
          "text": [
            "[[2. 3. 4. 6. 9.]]\n"
          ],
          "name": "stdout"
        }
      ]
    },
    {
      "cell_type": "markdown",
      "metadata": {
        "id": "Zv5MjvuvSHfd"
      },
      "source": [
        "굳이 생략하지 않아도 사이킷런 모델은 자동으로 특성에 추가된 절편 항을 무시함"
      ]
    },
    {
      "cell_type": "code",
      "metadata": {
        "colab": {
          "base_uri": "https://localhost:8080/"
        },
        "id": "6hpTpqDMSF4s",
        "outputId": "1178d3be-4f3e-4dcd-b201-dbf065d16131"
      },
      "source": [
        "# 변환기를 train_input에 적용\r\n",
        "poly = PolynomialFeatures(include_bias=False)\r\n",
        "poly.fit(train_input)\r\n",
        "train_poly = poly.transform(train_input)\r\n",
        "print(train_poly.shape)\r\n"
      ],
      "execution_count": 36,
      "outputs": [
        {
          "output_type": "stream",
          "text": [
            "(42, 9)\n"
          ],
          "name": "stdout"
        }
      ]
    },
    {
      "cell_type": "code",
      "metadata": {
        "colab": {
          "base_uri": "https://localhost:8080/"
        },
        "id": "44BiJNn8SqCo",
        "outputId": "b7b49e4c-9d86-48cd-e157-fbc29ced63f9"
      },
      "source": [
        "# 9개의 특성이 각각 어떤 입력의 조합으로 만들어졌는지 출력\r\n",
        "poly.get_feature_names()"
      ],
      "execution_count": 37,
      "outputs": [
        {
          "output_type": "execute_result",
          "data": {
            "text/plain": [
              "['x0', 'x1', 'x2', 'x0^2', 'x0 x1', 'x0 x2', 'x1^2', 'x1 x2', 'x2^2']"
            ]
          },
          "metadata": {
            "tags": []
          },
          "execution_count": 37
        }
      ]
    },
    {
      "cell_type": "code",
      "metadata": {
        "id": "-3Mv-oMaTDZJ"
      },
      "source": [
        "# 테스트 세트 변환\r\n",
        "test_poly = poly.transform(test_input)"
      ],
      "execution_count": 38,
      "outputs": []
    },
    {
      "cell_type": "markdown",
      "metadata": {
        "id": "U0ffeP67TeUO"
      },
      "source": [
        "fit() 매서드로는 특성 조합을 준비하기만 하고 값을 구하지는 않는다.<br>훈련 세트와 테스트 세트의 조합을 동일하게 맞추기 위해 훈련 세트에 적용한 변환기로 테스트 세트를 변환하는 것이 좋다."
      ]
    },
    {
      "cell_type": "markdown",
      "metadata": {
        "id": "I7d7hUR6T7Eu"
      },
      "source": [
        "### 다중 회귀 모델 훈련하기"
      ]
    },
    {
      "cell_type": "code",
      "metadata": {
        "colab": {
          "base_uri": "https://localhost:8080/"
        },
        "id": "5QOHqb2YTNdj",
        "outputId": "0dfd7be8-a460-4019-eb4b-2307b7cc61ff"
      },
      "source": [
        "# 모델 훈련 후 훈련 세트에 대한 결정계수 구하기\r\n",
        "from sklearn.linear_model import LinearRegression\r\n",
        "lr = LinearRegression()\r\n",
        "lr.fit(train_poly, train_target)\r\n",
        "print(lr.score(train_poly, train_target))"
      ],
      "execution_count": 39,
      "outputs": [
        {
          "output_type": "stream",
          "text": [
            "0.9903183436982124\n"
          ],
          "name": "stdout"
        }
      ]
    },
    {
      "cell_type": "code",
      "metadata": {
        "colab": {
          "base_uri": "https://localhost:8080/"
        },
        "id": "1RsVjO9LUfcq",
        "outputId": "fc1e0d3a-f0fd-43a7-b351-1347ba8b69f2"
      },
      "source": [
        "# 테스트 세트에 대한 결정계수 구하기\r\n",
        "print(lr.score(test_poly, test_target))"
      ],
      "execution_count": 40,
      "outputs": [
        {
          "output_type": "stream",
          "text": [
            "0.9714559911594132\n"
          ],
          "name": "stdout"
        }
      ]
    },
    {
      "cell_type": "markdown",
      "metadata": {
        "id": "varxin6a31gR"
      },
      "source": [
        "만약 특성을 더 많이 추가한다면..."
      ]
    },
    {
      "cell_type": "code",
      "metadata": {
        "colab": {
          "base_uri": "https://localhost:8080/"
        },
        "id": "Ag5wf7yy3xtl",
        "outputId": "9dc22daf-4d81-4bc5-cc16-27e4141d600c"
      },
      "source": [
        "# 5제곱까지 특성을 만들어 출력하기\r\n",
        "poly = PolynomialFeatures(degree=5, include_bias=False)\r\n",
        "poly.fit(train_input)\r\n",
        "train_poly = poly.transform(train_input)\r\n",
        "test_poly = poly.transform(test_input)\r\n",
        "print(train_poly.shape)"
      ],
      "execution_count": 41,
      "outputs": [
        {
          "output_type": "stream",
          "text": [
            "(42, 55)\n"
          ],
          "name": "stdout"
        }
      ]
    },
    {
      "cell_type": "code",
      "metadata": {
        "colab": {
          "base_uri": "https://localhost:8080/"
        },
        "id": "VwA24cXa4SnJ",
        "outputId": "73977dfd-8972-4080-9119-659e27116a2d"
      },
      "source": [
        "# 모델을 훈련하고 결정계수 구하기\r\n",
        "lr.fit(train_poly, train_target)\r\n",
        "print(lr.score(train_poly, train_target)) # 훈련 세트\r\n",
        "print(lr.score(test_poly, test_target)) # 테스트 세트"
      ],
      "execution_count": 42,
      "outputs": [
        {
          "output_type": "stream",
          "text": [
            "0.9999999999991096\n",
            "-144.40579242335605\n"
          ],
          "name": "stdout"
        }
      ]
    },
    {
      "cell_type": "markdown",
      "metadata": {
        "id": "G5QTA7tr4yRJ"
      },
      "source": [
        "훈련모델에 과대적합되었다."
      ]
    },
    {
      "cell_type": "markdown",
      "metadata": {
        "id": "KyU7iP_e46gi"
      },
      "source": [
        "### 규제"
      ]
    },
    {
      "cell_type": "markdown",
      "metadata": {
        "id": "QDDCXRQA6V5P"
      },
      "source": [
        "규제는 머신러닝 모델이 훈련 세트를 과도하게 학습하여 과대적합되지 못하도록 패널티를 주는 역할을 한다."
      ]
    },
    {
      "cell_type": "markdown",
      "metadata": {
        "id": "9HwKNh9_4_K-"
      },
      "source": [
        "길이, 무게, 두께에 대한 스케일을 정규화하기\r\n",
        "<br>사이킷런의 StandardScaler를 이용"
      ]
    },
    {
      "cell_type": "code",
      "metadata": {
        "id": "bnXwKEwJ4wOO"
      },
      "source": [
        "from sklearn.preprocessing import StandardScaler\r\n",
        "ss = StandardScaler()\r\n",
        "ss.fit(train_poly)\r\n",
        "train_scaled = ss.transform(train_poly)\r\n",
        "test_scaled = ss.transform(test_poly)"
      ],
      "execution_count": 43,
      "outputs": []
    },
    {
      "cell_type": "markdown",
      "metadata": {
        "id": "qtZl_TvP6p7q"
      },
      "source": [
        "#### 릿지 회귀"
      ]
    },
    {
      "cell_type": "code",
      "metadata": {
        "colab": {
          "base_uri": "https://localhost:8080/"
        },
        "id": "a2P1uDRn6Pqy",
        "outputId": "afff753a-4d94-4adb-bea5-203b701c2b00"
      },
      "source": [
        "from sklearn.linear_model import Ridge\r\n",
        "ridge = Ridge()\r\n",
        "ridge.fit(train_scaled, train_target)\r\n",
        "print(ridge.score(train_scaled, train_target)) # 훈련 세트\r\n",
        "print(ridge.score(test_scaled, test_target)) # 테스트 세트"
      ],
      "execution_count": 44,
      "outputs": [
        {
          "output_type": "stream",
          "text": [
            "0.9896101671037343\n",
            "0.9790693977615398\n"
          ],
          "name": "stdout"
        }
      ]
    },
    {
      "cell_type": "markdown",
      "metadata": {
        "id": "ZF-MSrAC8Fsp"
      },
      "source": [
        "alpha 값으로 규제의 강도를 조절함\r\n",
        "<br>alpha 값에 따른 결정계수의 변화 알아보기"
      ]
    },
    {
      "cell_type": "code",
      "metadata": {
        "id": "AXKd4CmG7_eb"
      },
      "source": [
        "# score() 메서드의 결과를 저장할 리스트 만들기\r\n",
        "import matplotlib.pyplot as plt\r\n",
        "train_score = []\r\n",
        "test_score = []"
      ],
      "execution_count": 45,
      "outputs": []
    },
    {
      "cell_type": "code",
      "metadata": {
        "id": "H3ZBjpDw8tNc"
      },
      "source": [
        "alpha_list = [0.001, 0.01, 0.1, 1, 10, 100]\r\n",
        "for alpha in alpha_list:\r\n",
        "  ridge = Ridge(alpha=alpha)\r\n",
        "  ridge.fit(train_scaled, train_target)\r\n",
        "  train_score.append(ridge.score(train_scaled, train_target))\r\n",
        "  test_score.append(ridge.score(test_scaled, test_target))"
      ],
      "execution_count": 46,
      "outputs": []
    },
    {
      "cell_type": "code",
      "metadata": {
        "colab": {
          "base_uri": "https://localhost:8080/",
          "height": 279
        },
        "id": "8JZgUlX-9O8-",
        "outputId": "29bcd561-9f2b-4105-cbd5-d376f1f19ef7"
      },
      "source": [
        "# log(alpha)값에 따른 결정계수 그래프 그리기\r\n",
        "plt.plot(np.log10(alpha_list), train_score)\r\n",
        "plt.plot(np.log10(alpha_list), test_score)\r\n",
        "plt.xlabel('alpha')\r\n",
        "plt.ylabel('R^2')\r\n",
        "plt.show()"
      ],
      "execution_count": 47,
      "outputs": [
        {
          "output_type": "display_data",
          "data": {
            "image/png": "[encoded data removed]",
            "text/plain": [
              "<Figure size 432x288 with 1 Axes>"
            ]
          },
          "metadata": {
            "tags": [],
            "needs_background": "light"
          }
        }
      ]
    },
    {
      "cell_type": "markdown",
      "metadata": {
        "id": "xWXz29nF90q7"
      },
      "source": [
        "alpha가 0.1일때 가장 효과적임을 알 수 있음"
      ]
    },
    {
      "cell_type": "code",
      "metadata": {
        "colab": {
          "base_uri": "https://localhost:8080/"
        },
        "id": "XC_AFwGN9vQ5",
        "outputId": "f12636bc-e725-43c6-c23f-02fb966752bb"
      },
      "source": [
        "# alpha = 0.1일때 점수 구하기\r\n",
        "ridge = Ridge(alpha = 0.1)\r\n",
        "ridge.fit(train_scaled, train_target)\r\n",
        "print(ridge.score(train_scaled, train_target)) # 훈련 세트\r\n",
        "print(ridge.score(test_scaled, test_target)) # 테스트 세트"
      ],
      "execution_count": 48,
      "outputs": [
        {
          "output_type": "stream",
          "text": [
            "0.9903815817570366\n",
            "0.9827976465386927\n"
          ],
          "name": "stdout"
        }
      ]
    },
    {
      "cell_type": "markdown",
      "metadata": {
        "id": "UkzACBcB_L-x"
      },
      "source": [
        "#### 라쏘 회귀"
      ]
    },
    {
      "cell_type": "code",
      "metadata": {
        "colab": {
          "base_uri": "https://localhost:8080/"
        },
        "id": "WBpia_wm-X7P",
        "outputId": "f40efd2b-358f-4e07-b6cd-455df6bbe88e"
      },
      "source": [
        "from sklearn.linear_model import Lasso\r\n",
        "lasso = Lasso()\r\n",
        "lasso.fit(train_scaled, train_target)\r\n",
        "print(lasso.score(train_scaled, train_target)) # 훈련 세트\r\n",
        "print(lasso.score(test_scaled, test_target)) # 테스트 세트"
      ],
      "execution_count": 49,
      "outputs": [
        {
          "output_type": "stream",
          "text": [
            "0.9897898972080961\n",
            "0.9800593698421883\n"
          ],
          "name": "stdout"
        }
      ]
    },
    {
      "cell_type": "code",
      "metadata": {
        "colab": {
          "base_uri": "https://localhost:8080/"
        },
        "id": "qW7z7-NQ_zTa",
        "outputId": "c48f5506-5dfa-44b4-c8e2-7fe1fe2bd286"
      },
      "source": [
        "# alpha에 따른 결정계수 구하기\r\n",
        "train_score = []\r\n",
        "test_score = []\r\n",
        "alpha_list = [0.001, 0.01, 0.1, 1, 10, 100]\r\n",
        "for alpha in alpha_list:\r\n",
        "  lasso = Lasso(alpha = alpha, max_iter=10000) # 반복수를 10000개로 설정\r\n",
        "  lasso.fit(train_scaled, train_target)\r\n",
        "  train_score.append(lasso.score(train_scaled, train_target))\r\n",
        "  test_score.append(lasso.score(test_scaled, test_target))"
      ],
      "execution_count": 50,
      "outputs": [
        {
          "output_type": "stream",
          "text": [
            "/usr/local/lib/python3.7/dist-packages/sklearn/linear_model/_coordinate_descent.py:476: ConvergenceWarning: Objective did not converge. You might want to increase the number of iterations. Duality gap: 18778.697957792876, tolerance: 518.2793833333334\n",
            "  positive)\n",
            "/usr/local/lib/python3.7/dist-packages/sklearn/linear_model/_coordinate_descent.py:476: ConvergenceWarning: Objective did not converge. You might want to increase the number of iterations. Duality gap: 12972.821345404844, tolerance: 518.2793833333334\n",
            "  positive)\n"
          ],
          "name": "stderr"
        }
      ]
    },
    {
      "cell_type": "code",
      "metadata": {
        "colab": {
          "base_uri": "https://localhost:8080/",
          "height": 279
        },
        "id": "2YP97N8yArbq",
        "outputId": "35ce5167-a64d-4a1a-967c-196461966eb0"
      },
      "source": [
        "# log(alpha) 값에 따른 결정계수 그래프 그리기\r\n",
        "plt.plot(np.log10(alpha_list), train_score)\r\n",
        "plt.plot(np.log10(alpha_list), test_score)\r\n",
        "plt.xlabel('alpha')\r\n",
        "plt.ylabel('R^2')\r\n",
        "plt.show()"
      ],
      "execution_count": 51,
      "outputs": [
        {
          "output_type": "display_data",
          "data": {
            "image/png": "[encoded data removed]",
            "text/plain": [
              "<Figure size 432x288 with 1 Axes>"
            ]
          },
          "metadata": {
            "tags": [],
            "needs_background": "light"
          }
        }
      ]
    },
    {
      "cell_type": "markdown",
      "metadata": {
        "id": "LSakBIXtBQaE"
      },
      "source": [
        "alpha가 10일때 가장 효과적임을 알 수 있음"
      ]
    },
    {
      "cell_type": "code",
      "metadata": {
        "colab": {
          "base_uri": "https://localhost:8080/"
        },
        "id": "sQhQpGa1BLIX",
        "outputId": "9f68a4ab-dcb2-49f9-eb50-a1a04621458c"
      },
      "source": [
        "# alpha = 10일때 점수 구하기\r\n",
        "lasso = Lasso(alpha = 10)\r\n",
        "lasso.fit(train_scaled, train_target)\r\n",
        "print(lasso.score(train_scaled, train_target)) # 훈련 세트\r\n",
        "print(lasso.score(test_scaled, test_target)) # 테스트 세트"
      ],
      "execution_count": 52,
      "outputs": [
        {
          "output_type": "stream",
          "text": [
            "0.9888067471131867\n",
            "0.9824470598706695\n"
          ],
          "name": "stdout"
        }
      ]
    },
    {
      "cell_type": "markdown",
      "metadata": {
        "id": "RJA5B8eRCKZY"
      },
      "source": [
        "라쏘 회귀는 알고리즘 특성상 계수 값을 0으로 만들 수 있다."
      ]
    },
    {
      "cell_type": "code",
      "metadata": {
        "colab": {
          "base_uri": "https://localhost:8080/"
        },
        "id": "OOU4knKkBuIE",
        "outputId": "c38acdb0-045b-4b2a-ae84-c13d829d5da4"
      },
      "source": [
        "# 계수값가 0인 계수의 개수 구하기\r\n",
        "print(np.sum(lasso.coef_ == 0))"
      ],
      "execution_count": 53,
      "outputs": [
        {
          "output_type": "stream",
          "text": [
            "40\n"
          ],
          "name": "stdout"
        }
      ]
    },
    {
      "cell_type": "markdown",
      "metadata": {
        "id": "GdoObztxC8AR"
      },
      "source": [
        "55개의 특성 중 라쏘 회귀로 사용된 특성을 15개임을 알 수 있다."
      ]
    }
  ]
}