{
  "nbformat": 4,
  "nbformat_minor": 0,
  "metadata": {
    "kernelspec": {
      "name": "python3",
      "display_name": "Python 3"
    },
    "colab": {
      "name": "PythonCheatSheet_ko_patch.ipynb",
      "provenance": [],
      "include_colab_link": true
    },
    "accelerator": "GPU"
  },
  "cells": [
    {
      "cell_type": "markdown",
      "metadata": {
        "id": "view-in-github",
        "colab_type": "text"
      },
      "source": [
        "<a href=\"https://colab.research.google.com/github/robomoan/Data_Science_Study/blob/main/Python%20Study/PythonCheatSheet_ko_patch.ipynb\" target=\"_parent\"><img src=\"https://colab.research.google.com/assets/colab-badge.svg\" alt=\"Open In Colab\"/></a>"
      ]
    },
    {
      "cell_type": "markdown",
      "metadata": {
        "id": "FwMlrfKWo6Ox"
      },
      "source": [
        "# Python 치트 시트 "
      ]
    },
    {
      "cell_type": "markdown",
      "metadata": {
        "id": "pHSwCAzAo6O1"
      },
      "source": [
        "## 목차  \n",
        "1. <a href='#section1'>구문 및 공백</a>\n",
        "2. <a href='#section2'>주석</a>\n",
        "3. <a href='#section3'>숫자 및 연산</a>\n",
        "4. <a href='#section4'>문자열 조작</a>\n",
        "5. <a href='#section5'>리스트, 튜플 및 사전</a>\n",
        "6. <a href='#section6'>JSON</a>\n",
        "7. <a href='#section7'>루프</a>\n",
        "8. <a href='#section8'>파일 처리</a>\n",
        "9. <a href='#section9'>함수</a>\n",
        "10. <a href='#section10'>datetime 작업</a>\n",
        "11. <a href='#section11'>NumPy</a>\n",
        "12. <a href='#section12'>Pandas</a>"
      ]
    },
    {
      "cell_type": "markdown",
      "metadata": {
        "id": "YJpIhkhWo6O2"
      },
      "source": [
        "셀을 실행하려면 **Shift+Enter**를 누르거나 페이지 상단에서 **실행**을 클릭합니다."
      ]
    },
    {
      "cell_type": "markdown",
      "metadata": {
        "id": "4GfPdgsHo6O2"
      },
      "source": [
        "<a id=\"section_1\"></a>\n",
        "\n",
        "## 1. 구문 및 공백\n",
        "Python은 들여쓰기 공백을 사용하여 문의 레벨을 나타냅니다. 다음 셀은 '**if**' 및 '**else**'는 같은 레벨이지만, '**print**'는 공백으로 구분되어 다른 레벨인 것을 보여주는 예제입니다. 같은 레벨의 항목은 공백 간격이 동일해야 합니다."
      ]
    },
    {
      "cell_type": "code",
      "metadata": {
        "id": "esXuNosro6O2",
        "colab": {
          "base_uri": "https://localhost:8080/"
        },
        "outputId": "e0855012-c366-4e3d-ace0-6a9adea79d90"
      },
      "source": [
        "student_number = input(\"Enter your student number:\")\n",
        "if student_number != 0:\n",
        "    print(\"Welcome student {}\".format(student_number))\n",
        "else:\n",
        "    print(\"Try again!\")"
      ],
      "execution_count": 1,
      "outputs": [
        {
          "output_type": "stream",
          "text": [
            "Enter your student number:20\n",
            "Welcome student 20\n"
          ],
          "name": "stdout"
        }
      ]
    },
    {
      "cell_type": "code",
      "metadata": {
        "colab": {
          "base_uri": "https://localhost:8080/"
        },
        "id": "bTpfrKW_UJCc",
        "outputId": "86610428-4bbc-40a2-8d1d-7b9d2dd21507"
      },
      "source": [
        "!ls -al ./sample_data/"
      ],
      "execution_count": 2,
      "outputs": [
        {
          "output_type": "stream",
          "text": [
            "total 55512\n",
            "drwxr-xr-x 1 root root     4096 Mar  1 14:35 .\n",
            "drwxr-xr-x 1 root root     4096 Mar  1 14:35 ..\n",
            "-rwxr-xr-x 1 root root     1697 Jan  1  2000 anscombe.json\n",
            "-rw-r--r-- 1 root root   301141 Mar  1 14:35 california_housing_test.csv\n",
            "-rw-r--r-- 1 root root  1706430 Mar  1 14:35 california_housing_train.csv\n",
            "-rw-r--r-- 1 root root 18289443 Mar  1 14:35 mnist_test.csv\n",
            "-rw-r--r-- 1 root root 36523880 Mar  1 14:35 mnist_train_small.csv\n",
            "-rwxr-xr-x 1 root root      930 Jan  1  2000 README.md\n"
          ],
          "name": "stdout"
        }
      ]
    },
    {
      "cell_type": "code",
      "metadata": {
        "colab": {
          "base_uri": "https://localhost:8080/"
        },
        "id": "pTakvjZPUm06",
        "outputId": "ba4b293a-da91-4598-c22c-f285ade1a1a8"
      },
      "source": [
        "student_number.isnumeric()"
      ],
      "execution_count": 3,
      "outputs": [
        {
          "output_type": "execute_result",
          "data": {
            "text/plain": [
              "True"
            ]
          },
          "metadata": {
            "tags": []
          },
          "execution_count": 3
        }
      ]
    },
    {
      "cell_type": "markdown",
      "metadata": {
        "id": "eXIaNc3No6O3"
      },
      "source": [
        "<a id='section2'></a>\n",
        "\n",
        "## 2. 주석\n",
        "Python에서 주석은 해시 '#'로 시작하여 줄의 끝까지 이어집니다. '#'는 줄의 시작 부분이나 코드 뒤에 위치할 수 있습니다. "
      ]
    },
    {
      "cell_type": "code",
      "metadata": {
        "id": "GBAK3B0Po6O3",
        "colab": {
          "base_uri": "https://localhost:8080/"
        },
        "outputId": "3f4978ca-d3a2-4db0-f1df-e61484ca8b3c"
      },
      "source": [
        "# hello world를 인쇄하는 코드입니다!\n",
        "\n",
        "print(\"Hello world!\") # hello world에 대한 인쇄 문\n",
        "print(\"# is not a comment in this case\")"
      ],
      "execution_count": 4,
      "outputs": [
        {
          "output_type": "stream",
          "text": [
            "Hello world!\n",
            "# is not a comment in this case\n"
          ],
          "name": "stdout"
        }
      ]
    },
    {
      "cell_type": "markdown",
      "metadata": {
        "id": "48tOm6Pao6O3"
      },
      "source": [
        "<a id='section3'></a>\n",
        "\n",
        "## 3. 숫자 및 연산\n",
        "\n",
        "다른 프로그래밍 언어와 마찬가지로 다음과 같은 네 가지 유형의 숫자가 있습니다. \n",
        "- *int*로 표시되는 정수(예: 1, 20, 45, 1000)\n",
        "- *float*로 표시되는 부동 소수점 수(예: 1.25, 20.35, 1000.00)\n",
        "- 긴 정수 \n",
        "- 복소수(예: x가 알려진 경우의 x+2y)"
      ]
    },
    {
      "cell_type": "markdown",
      "metadata": {
        "id": "xwSToNIuo6O3"
      },
      "source": [
        "연산 | 결과\n",
        "----------------|-------------------------------------               \n",
        "x + y | x와 y의 합계\t\n",
        "x – y | x와 y의 차이\t\n",
        "x * y | x와 y의 곱하기\t\n",
        "x / y | x와 y의 나누기\n",
        "x // y | x와 y의 나누기(소수점 제외)\n",
        "x % y | x/y의 나머지\n",
        "abs(x) | x의 절대값\t\n",
        "int(x) | x를 정수로 변환\n",
        "long(x) | x를 긴 정수로 변환\n",
        "float(x) | x를 부동 소수점으로 변환\t\n",
        "pow(x, y) | x의 y 제곱근\t\n",
        "x ** y | x의 y 제곱근\t"
      ]
    },
    {
      "cell_type": "code",
      "metadata": {
        "id": "41-e9bFIo6O4",
        "colab": {
          "base_uri": "https://localhost:8080/"
        },
        "outputId": "4fd4e841-5e6e-43c0-f775-c4c8e5a53a52"
      },
      "source": [
        "# 숫자 예제\n",
        "a = 5 + 8\n",
        "print(\"Sum of int numbers: {} and number format is {}\".format(a, type(a)))\n",
        "\n",
        "b = 5 + 2.3\n",
        "print (\"Sum of int and {} and number format is {}\".format(b, type(b)))"
      ],
      "execution_count": 5,
      "outputs": [
        {
          "output_type": "stream",
          "text": [
            "Sum of int numbers: 13 and number format is <class 'int'>\n",
            "Sum of int and 7.3 and number format is <class 'float'>\n"
          ],
          "name": "stdout"
        }
      ]
    },
    {
      "cell_type": "markdown",
      "metadata": {
        "id": "gDFdGAdFo6O4"
      },
      "source": [
        "<a id='section4'></a>\n",
        "\n",
        "## 4. 문자열 조작\n",
        "\n",
        "Python에는 다른 프로그래밍 언어들처럼 문자열 조작을 위한 다양한 기능이 있습니다."
      ]
    },
    {
      "cell_type": "code",
      "metadata": {
        "id": "8oheqTUTo6O4",
        "colab": {
          "base_uri": "https://localhost:8080/"
        },
        "outputId": "f00f3950-5d5b-4669-ecb2-0fe32e0ef7d0"
      },
      "source": [
        "# 변수에 문자열 저장\n",
        "test_word = \"hello world to everyone\"\n",
        "\n",
        "# test_word 값 인쇄\n",
        "print(test_word)\n",
        "\n",
        "# []를 사용하여 문자열의 문자에 액세스합니다. 첫 번째 문자는 '0'으로 표시됩니다.\n",
        "print(test_word[0])\n",
        "\n",
        "# len() 함수를 사용하여 문자열의 길이를 찾습니다.\n",
        "print(len(test_word))\n",
        "\n",
        "# 문자열에서 찾기를 보여주는 몇 가지 예제\n",
        "print(test_word.count('l')) # 문자열에서 I가 반복되는 횟수 계산\n",
        "print(test_word.find(\"o\")) # 문자열에서 글자 'o'를 찾습니다. 첫 번째로 일치한 위치를 반환합니다.\n",
        "print(test_word.count(' ')) # 문자열에서 공백 수를 계산\n",
        "print(test_word.upper()) # 문자열을 대문자로 변경\n",
        "print(test_word.lower()) # 문자열을 소문자로 변경\n",
        "print(test_word.replace(\"everyone\",\"you\")) # \"everyone\"이라는 단어를 \"you\"로 대체\n",
        "print(test_word.title()) # 문자열을 제목 형식으로 변경\n",
        "print(test_word + \"!!!\") # 문자열을 연결\n",
        "print(\":\".join(test_word)) # 각 글자 사이에 \":\" 추가\n",
        "print(\"\".join(reversed(test_word))) # 문자열을 반전시키기 reverse 함수는 iterator를 출력"
      ],
      "execution_count": 7,
      "outputs": [
        {
          "output_type": "stream",
          "text": [
            "hello world to everyone\n",
            "h\n",
            "23\n",
            "3\n",
            "4\n",
            "3\n",
            "HELLO WORLD TO EVERYONE\n",
            "hello world to everyone\n",
            "hello world to you\n",
            "Hello World To Everyone\n",
            "hello world to everyone!!!\n",
            "h:e:l:l:o: :w:o:r:l:d: :t:o: :e:v:e:r:y:o:n:e\n",
            "enoyreve ot dlrow olleh\n"
          ],
          "name": "stdout"
        }
      ]
    },
    {
      "cell_type": "markdown",
      "metadata": {
        "id": "oh4DL1S2o6O4"
      },
      "source": [
        "<a id='section5'></a>\n",
        "\n",
        "## 5. 리스트, 튜플 및 사전\n",
        "\n",
        "Python은 리스트, 튜플, 사전 및 배열과 같은 데이터 유형을 지원합니다."
      ]
    },
    {
      "cell_type": "markdown",
      "metadata": {
        "id": "ezEBOxXjo6O4"
      },
      "source": [
        "### 리스트\n",
        "\n",
        "모든 항목(요소)을 대괄호 \\[ ] 안에 쉼표로 구분하여 배치하면 리스트가 생성됩니다. 리스트에는 여러 항목이 포함될 수 있으며, 다양한 유형(정수, 부동 소수점, 문자열 등)이 될 수 있습니다."
      ]
    },
    {
      "cell_type": "code",
      "metadata": {
        "id": "qjujBVUVo6O5"
      },
      "source": [
        "# Python 리스트는 배열과 비슷합니다. 빈 리스트도 생성할 수 있습니다.\n",
        "\n",
        "my_list = []\n",
        "\n",
        "first_list = [3, 5, 7, 10]\n",
        "second_list = [1, 'python', 3]"
      ],
      "execution_count": 8,
      "outputs": []
    },
    {
      "cell_type": "code",
      "metadata": {
        "id": "vNCbxsnno6O5",
        "colab": {
          "base_uri": "https://localhost:8080/"
        },
        "outputId": "a1e3889c-bff7-4555-b78d-c121bc6e7250"
      },
      "source": [
        "# 여러 리스트 중첩\n",
        "nested_list = [first_list, second_list]\n",
        "nested_list"
      ],
      "execution_count": 9,
      "outputs": [
        {
          "output_type": "execute_result",
          "data": {
            "text/plain": [
              "[[3, 5, 7, 10], [1, 'python', 3]]"
            ]
          },
          "metadata": {
            "tags": []
          },
          "execution_count": 9
        }
      ]
    },
    {
      "cell_type": "code",
      "metadata": {
        "id": "9K6G2B9_o6O5",
        "colab": {
          "base_uri": "https://localhost:8080/"
        },
        "outputId": "3a9473ae-16db-4910-e550-3a79c943eda4"
      },
      "source": [
        "# 여러 리스트 결합\n",
        "combined_list = first_list + second_list\n",
        "combined_list"
      ],
      "execution_count": 10,
      "outputs": [
        {
          "output_type": "execute_result",
          "data": {
            "text/plain": [
              "[3, 5, 7, 10, 1, 'python', 3]"
            ]
          },
          "metadata": {
            "tags": []
          },
          "execution_count": 10
        }
      ]
    },
    {
      "cell_type": "code",
      "metadata": {
        "id": "m_xomtoOo6O5",
        "colab": {
          "base_uri": "https://localhost:8080/"
        },
        "outputId": "faaaf43a-9d83-4475-c40d-638d78f2687c"
      },
      "source": [
        "# 문자열과 마찬가지로 리스트도 분할 가능\n",
        "combined_list[0:3]"
      ],
      "execution_count": 11,
      "outputs": [
        {
          "output_type": "execute_result",
          "data": {
            "text/plain": [
              "[3, 5, 7]"
            ]
          },
          "metadata": {
            "tags": []
          },
          "execution_count": 11
        }
      ]
    },
    {
      "cell_type": "code",
      "metadata": {
        "id": "NLdo1xKpo6O5",
        "colab": {
          "base_uri": "https://localhost:8080/"
        },
        "outputId": "e9976e5c-6d53-4c2f-f7a7-674e830345da"
      },
      "source": [
        "# 리스트에 새 항목 추가\n",
        "combined_list.append(600)\n",
        "combined_list"
      ],
      "execution_count": 12,
      "outputs": [
        {
          "output_type": "execute_result",
          "data": {
            "text/plain": [
              "[3, 5, 7, 10, 1, 'python', 3, 600]"
            ]
          },
          "metadata": {
            "tags": []
          },
          "execution_count": 12
        }
      ]
    },
    {
      "cell_type": "code",
      "metadata": {
        "id": "fUN4RZ6mo6O5",
        "colab": {
          "base_uri": "https://localhost:8080/"
        },
        "outputId": "15c3cf63-bfbd-4266-9afc-b81ef7933ab3"
      },
      "source": [
        "# 리스트에서 마지막 항목 제거\n",
        "combined_list.pop()"
      ],
      "execution_count": 13,
      "outputs": [
        {
          "output_type": "execute_result",
          "data": {
            "text/plain": [
              "600"
            ]
          },
          "metadata": {
            "tags": []
          },
          "execution_count": 13
        }
      ]
    },
    {
      "cell_type": "code",
      "metadata": {
        "id": "JEYoYb6xo6O6",
        "colab": {
          "base_uri": "https://localhost:8080/"
        },
        "outputId": "2f79445b-b7a4-4cdb-c91e-845dfa04b7b4"
      },
      "source": [
        "# 리스트 반복\n",
        "for item in combined_list:\n",
        "    print(item)    "
      ],
      "execution_count": 14,
      "outputs": [
        {
          "output_type": "stream",
          "text": [
            "3\n",
            "5\n",
            "7\n",
            "10\n",
            "1\n",
            "python\n",
            "3\n"
          ],
          "name": "stdout"
        }
      ]
    },
    {
      "cell_type": "markdown",
      "metadata": {
        "id": "9syF96x5o6O6"
      },
      "source": [
        "### 튜플\n",
        "\n",
        "튜플은 리스트와 유사하지만 대괄호 대신 괄호()와 함께 사용합니다. 가장 큰 차이점은 튜플은 변경 불가능하지만 리스트는 변경 가능하다는 것입니다."
      ]
    },
    {
      "cell_type": "code",
      "metadata": {
        "id": "iIhevMYFo6O6",
        "colab": {
          "base_uri": "https://localhost:8080/"
        },
        "outputId": "1b71f4ef-f247-4d7e-bd62-02dbf8cd5b42"
      },
      "source": [
        "my_tuple = (1, 2, 3, 4, 5)\n",
        "my_tuple[1:4]"
      ],
      "execution_count": 15,
      "outputs": [
        {
          "output_type": "execute_result",
          "data": {
            "text/plain": [
              "(2, 3, 4)"
            ]
          },
          "metadata": {
            "tags": []
          },
          "execution_count": 15
        }
      ]
    },
    {
      "cell_type": "markdown",
      "metadata": {
        "id": "LiK4xE8yo6O6"
      },
      "source": [
        "### 딕셔너리\n",
        "\n",
        "딕셔너리는 연관 배열이라고도 합니다. 딕셔너리는 키–값 페어 모음으로 구성됩니다. 각 키–값 페어는 키를 연결된 값에 매핑합니다."
      ]
    },
    {
      "cell_type": "code",
      "metadata": {
        "id": "rSx8allSo6O6",
        "colab": {
          "base_uri": "https://localhost:8080/"
        },
        "outputId": "41218489-40da-45a9-956e-a6c5ef686963"
      },
      "source": [
        "desk_location = {'jack': 123, 'joe': 234, 'hary': 543}\n",
        "desk_location['jack']"
      ],
      "execution_count": 16,
      "outputs": [
        {
          "output_type": "execute_result",
          "data": {
            "text/plain": [
              "123"
            ]
          },
          "metadata": {
            "tags": []
          },
          "execution_count": 16
        }
      ]
    },
    {
      "cell_type": "markdown",
      "metadata": {
        "id": "7OCta5DOo6O6"
      },
      "source": [
        "<a id='section6'></a>\n",
        "\n",
        "## 6. JSON \n",
        "\n",
        "JSON은 JavaScript Object Notation으로 작성된 텍스트입니다. Python에는 JSON 데이터 작업에 사용할 수 있는 `json`이라는 기본 제공 패키지가 있습니다."
      ]
    },
    {
      "cell_type": "code",
      "metadata": {
        "id": "_Uw9RrjSo6O7",
        "colab": {
          "base_uri": "https://localhost:8080/"
        },
        "outputId": "92071ee0-df74-4cb4-c8c1-642dd59be0f9"
      },
      "source": [
        "import json\n",
        "\n",
        "# JSON 데이터 샘플\n",
        "x = '{\"first_name\":\"Jane\", \"last_name\":\"Doe\", \"age\":25, \"city\":\"Chicago\"}'\n",
        "\n",
        "# JSON 데이터 읽기\n",
        "y = json.loads(x)\n",
        "\n",
        "# 사전과 유사한 출력 인쇄\n",
        "print(\"Employee name is \"+ y[\"first_name\"] + \" \" + y[\"last_name\"])"
      ],
      "execution_count": 17,
      "outputs": [
        {
          "output_type": "stream",
          "text": [
            "Employee name is Jane Doe\n"
          ],
          "name": "stdout"
        }
      ]
    },
    {
      "cell_type": "markdown",
      "metadata": {
        "id": "0JkhFeVco6O7"
      },
      "source": [
        "<a id='section7'></a>\n",
        "\n",
        "## 7. 루프\n",
        "**If, Else, ElIf 루프**: Python은 다른 프로그래밍 언어와 마찬가지로 조건문을 지원합니다. Python은 들여쓰기(줄 시작 부분의 공백)를 사용하여 코드의 범위를 정의합니다. "
      ]
    },
    {
      "cell_type": "code",
      "metadata": {
        "id": "yF7GV0qfo6O7",
        "colab": {
          "base_uri": "https://localhost:8080/"
        },
        "outputId": "43a6d796-7448-4704-8657-ad04c1d91e51"
      },
      "source": [
        "a = 22\n",
        "b = 33\n",
        "c = 100\n",
        "\n",
        "# if ... else example\n",
        "if a > b:\n",
        "    print(\"a is greater than b\")\n",
        "else:\n",
        "    print(\"b is greater than a\")\n",
        "    \n",
        "    \n",
        "# if .. else .. elif example\n",
        "\n",
        "if a > b:\n",
        "    print(\"a is greater than b\")\n",
        "elif b > c:\n",
        "    print(\"b is greater than c\")\n",
        "else:\n",
        "    print(\"b is greater than a and c is greater than b\")"
      ],
      "execution_count": 18,
      "outputs": [
        {
          "output_type": "stream",
          "text": [
            "b is greater than a\n",
            "b is greater than a and c is greater than b\n"
          ],
          "name": "stdout"
        }
      ]
    },
    {
      "cell_type": "markdown",
      "metadata": {
        "id": "WcoABI1Co6O7"
      },
      "source": [
        "**While 루프:** 조건이 true인 경우 일련의 문을 실행합니다."
      ]
    },
    {
      "cell_type": "code",
      "metadata": {
        "id": "3W7q7uKdo6O7",
        "colab": {
          "base_uri": "https://localhost:8080/"
        },
        "outputId": "ba565b59-296f-4a9a-950f-c38d5c353635"
      },
      "source": [
        "# while 예제 샘플\n",
        "i = 1\n",
        "while i < 10:\n",
        "    print(\"count is \" + str(i))\n",
        "    i += 1\n",
        "\n",
        "print(\"=\"*10)\n",
        "\n",
        "# x가 2인 경우 다음 반복으로 계속 진행합니다. 마지막으로 조건이 false이면 메시지를 인쇄합니다.\n",
        "\n",
        "x = 0\n",
        "while x < 5:\n",
        "    x += 1\n",
        "    if x == 2:\n",
        "        continue\n",
        "    print(x)\n",
        "else:\n",
        "    print(\"x is no longer less than 5\")"
      ],
      "execution_count": 19,
      "outputs": [
        {
          "output_type": "stream",
          "text": [
            "count is 1\n",
            "count is 2\n",
            "count is 3\n",
            "count is 4\n",
            "count is 5\n",
            "count is 6\n",
            "count is 7\n",
            "count is 8\n",
            "count is 9\n",
            "==========\n",
            "1\n",
            "3\n",
            "4\n",
            "5\n",
            "x is no longer less than 5\n"
          ],
          "name": "stdout"
        }
      ]
    },
    {
      "cell_type": "markdown",
      "metadata": {
        "id": "F197V8mxo6O7"
      },
      "source": [
        "**For 루프:** '`For` 루프는 Python의 반복기와 비슷합니다. `For` 루프는 시퀀스(리스트, 튜플, 사전, 세트, 문자열 또는 범위)를 반복하는 데 사용됩니다."
      ]
    },
    {
      "cell_type": "code",
      "metadata": {
        "id": "34zxhTnBo6O8",
        "colab": {
          "base_uri": "https://localhost:8080/"
        },
        "outputId": "d2f13a7e-60cb-416a-eb1c-c6d3dff8650e"
      },
      "source": [
        "# 루프 예제 샘플\n",
        "fruits = [\"orange\", \"banana\", \"apple\", \"grape\", \"cherry\"]\n",
        "for fruit in fruits:\n",
        "    print(fruit)\n",
        "\n",
        "print(\"\\n\")\n",
        "print(\"=\"*10)\n",
        "print(\"\\n\")\n",
        "\n",
        "# 범위 반복\n",
        "for x in range(1, 10, 2):\n",
        "    print(x)\n",
        "else:\n",
        "    print(\"task complete\")\n",
        "\n",
        "print(\"\\n\")\n",
        "print(\"=\"*10)\n",
        "print(\"\\n\")\n",
        "\n",
        "# 여러 리스트 반복\n",
        "traffic_lights = [\"red\", \"yellow\", \"green\"]\n",
        "action = [\"stop\", \"slow down\", \"go\"]\n",
        "\n",
        "for light in traffic_lights:\n",
        "    for task in action:\n",
        "        print(light, task)"
      ],
      "execution_count": 20,
      "outputs": [
        {
          "output_type": "stream",
          "text": [
            "orange\n",
            "banana\n",
            "apple\n",
            "grape\n",
            "cherry\n",
            "\n",
            "\n",
            "==========\n",
            "\n",
            "\n",
            "1\n",
            "3\n",
            "5\n",
            "7\n",
            "9\n",
            "task complete\n",
            "\n",
            "\n",
            "==========\n",
            "\n",
            "\n",
            "red stop\n",
            "red slow down\n",
            "red go\n",
            "yellow stop\n",
            "yellow slow down\n",
            "yellow go\n",
            "green stop\n",
            "green slow down\n",
            "green go\n"
          ],
          "name": "stdout"
        }
      ]
    },
    {
      "cell_type": "markdown",
      "metadata": {
        "id": "ou1v68aHo6O8"
      },
      "source": [
        "<a id='section8'></a>\n",
        "\n",
        "## 8. 파일 처리\n",
        "Python에서 파일 작업을 위한 핵심 함수는 `open()` 함수입니다. `open()` 함수는 파일 이름과 모드라는 두 가지 파라미터를 사용합니다.\n",
        "\n",
        "파일을 여는 메서드(모드)는 다음과 같이 네 가지가 있습니다.\n",
        "\n",
        "- \"r\" – 읽기\n",
        "- \"a\" – 추가\n",
        "- \"w\" – 쓰기\n",
        "- \"x\" – 생성\n",
        "\n",
        "또한 파일을 이진 또는 텍스트 모드로 처리할지 여부를 지정할 수 있습니다.\n",
        "\n",
        "- \"t\" – 텍스트\n",
        "- \"b\" – 이진"
      ]
    },
    {
      "cell_type": "code",
      "metadata": {
        "id": "10XZQW9-o6O8"
      },
      "source": [
        "# 검정 텍스트 파일을 생성하겠습니다.\n",
        "!echo \"This is a test file with text in it. This is the first line.\" > test.txt\n",
        "!echo \"This is the second line.\" >> test.txt\n",
        "!echo \"This is the third line.\" >> test.txt"
      ],
      "execution_count": 21,
      "outputs": []
    },
    {
      "cell_type": "code",
      "metadata": {
        "id": "Bvp6qsA0o6O8",
        "colab": {
          "base_uri": "https://localhost:8080/"
        },
        "outputId": "9b964809-8081-4040-8a66-69f6a8903a47"
      },
      "source": [
        "# 파일 읽기\n",
        "file = open('test.txt', 'r')\n",
        "print(file.read())\n",
        "file.close()\n",
        "\n",
        "print(\"\\n\")\n",
        "print(\"=\"*10)\n",
        "print(\"\\n\")\n",
        "\n",
        "# 파일의 처음 10자 읽기\n",
        "file = open('test.txt', 'r')\n",
        "print(file.read(10))\n",
        "file.close()\n",
        "\n",
        "print(\"\\n\")\n",
        "print(\"=\"*10)\n",
        "print(\"\\n\")\n",
        "\n",
        "# 파일에서 줄 읽기\n",
        "\n",
        "file = open('test.txt', 'r')\n",
        "print(file.readline())\n",
        "file.close()"
      ],
      "execution_count": 22,
      "outputs": [
        {
          "output_type": "stream",
          "text": [
            "This is a test file with text in it. This is the first line.\n",
            "This is the second line.\n",
            "This is the third line.\n",
            "\n",
            "\n",
            "\n",
            "==========\n",
            "\n",
            "\n",
            "This is a \n",
            "\n",
            "\n",
            "==========\n",
            "\n",
            "\n",
            "This is a test file with text in it. This is the first line.\n",
            "\n"
          ],
          "name": "stdout"
        }
      ]
    },
    {
      "cell_type": "code",
      "metadata": {
        "id": "egPb9i6ao6O8",
        "colab": {
          "base_uri": "https://localhost:8080/"
        },
        "outputId": "e0b4974d-ba25-4f74-8a1b-8b0794462402"
      },
      "source": [
        "# 새로운 파일 생성\n",
        "\n",
        "file = open('test2.txt', 'w')\n",
        "file.write(\"This is content in the new test2 file.\")\n",
        "file.close()\n",
        "\n",
        "# 새로운 파일의 콘텐츠 읽기\n",
        "file = open('test2.txt', 'r')\n",
        "print(file.read())\n",
        "file.close()"
      ],
      "execution_count": 23,
      "outputs": [
        {
          "output_type": "stream",
          "text": [
            "This is content in the new test2 file.\n"
          ],
          "name": "stdout"
        }
      ]
    },
    {
      "cell_type": "code",
      "metadata": {
        "id": "qdN5YbUzo6O8",
        "colab": {
          "base_uri": "https://localhost:8080/"
        },
        "outputId": "a4def09f-61f3-4319-a5e8-82489a8635ac"
      },
      "source": [
        "# 파일 업데이트\n",
        "file = open('test2.txt', 'a')\n",
        "file.write(\"\\nThis is additional content in the new file.\")\n",
        "file.close()\n",
        "\n",
        "# 새로운 파일의 콘텐츠 읽기\n",
        "file = open('test2.txt', 'r')\n",
        "print(file.read())\n",
        "file.close()"
      ],
      "execution_count": 24,
      "outputs": [
        {
          "output_type": "stream",
          "text": [
            "This is content in the new test2 file.\n",
            "This is additional content in the new file.\n"
          ],
          "name": "stdout"
        }
      ]
    },
    {
      "cell_type": "code",
      "metadata": {
        "id": "okInO2Glo6O9",
        "colab": {
          "base_uri": "https://localhost:8080/"
        },
        "outputId": "7e65369a-b3e5-4c55-aec3-36330bdfd945"
      },
      "source": [
        "# 파일 삭제\n",
        "import os\n",
        "file_names = [\"test.txt\", \"test2.txt\"]\n",
        "for item in file_names:\n",
        "    if os.path.exists(item):\n",
        "        os.remove(item)\n",
        "        print(f\"File {item} removed successfully!\")\n",
        "    else:\n",
        "        print(f\"{item} file does not exist.\")"
      ],
      "execution_count": 25,
      "outputs": [
        {
          "output_type": "stream",
          "text": [
            "File test.txt removed successfully!\n",
            "File test2.txt removed successfully!\n"
          ],
          "name": "stdout"
        }
      ]
    },
    {
      "cell_type": "markdown",
      "metadata": {
        "id": "29T3AFjYo6O9"
      },
      "source": [
        "<a id='section9'></a>\n",
        "\n",
        "## 9. 함수\n",
        "\n",
        "함수는 호출될 때 실행되는 코드 블록입니다. 데이터 또는 *파라미터*를 함수에 전달할 수 있습니다. Python에서 함수는 `def`로 정의됩니다."
      ]
    },
    {
      "cell_type": "code",
      "metadata": {
        "id": "5ng2ZQeMo6O9",
        "colab": {
          "base_uri": "https://localhost:8080/"
        },
        "outputId": "7ce3fc36-396f-4448-cb0f-041d9f207a41"
      },
      "source": [
        "# 함수 정의\n",
        "def new_funct():\n",
        "    print(\"A simple function\")\n",
        "\n",
        "# 함수 호출\n",
        "new_funct()"
      ],
      "execution_count": 26,
      "outputs": [
        {
          "output_type": "stream",
          "text": [
            "A simple function\n"
          ],
          "name": "stdout"
        }
      ]
    },
    {
      "cell_type": "code",
      "metadata": {
        "id": "V0TgtcmBo6O9",
        "colab": {
          "base_uri": "https://localhost:8080/"
        },
        "outputId": "0234175a-c202-47aa-8d45-5dc2b4be64b3"
      },
      "source": [
        "# 파라미터를 사용한 함수 샘플\n",
        "\n",
        "def param_funct(first_name):\n",
        "    print(f\"Employee name is {first_name}.\")\n",
        "\n",
        "param_funct(\"Harry\")\n",
        "param_funct(\"Larry\")\n",
        "param_funct(\"Shally\")"
      ],
      "execution_count": 27,
      "outputs": [
        {
          "output_type": "stream",
          "text": [
            "Employee name is Harry.\n",
            "Employee name is Larry.\n",
            "Employee name is Shally.\n"
          ],
          "name": "stdout"
        }
      ]
    },
    {
      "cell_type": "markdown",
      "metadata": {
        "id": "D_uO5cs0o6O9"
      },
      "source": [
        "**익명 함수(lambda):** Lambda는 작은 익명 함수입니다. Lambda 함수는 여러 개의 인수를 사용할 수 있지만 식은 하나만 사용할 수 있습니다."
      ]
    },
    {
      "cell_type": "code",
      "metadata": {
        "id": "CpFmbJ3Eo6O9",
        "colab": {
          "base_uri": "https://localhost:8080/"
        },
        "outputId": "f2047a06-dd04-4e56-b057-554dfaab72a2"
      },
      "source": [
        "# Lambda 예제 샘플\n",
        "x = lambda y: y + 100\n",
        "print(x(15))\n",
        "\n",
        "print(\"\\n\")\n",
        "print(\"=\"*10)\n",
        "print(\"\\n\")\n",
        "\n",
        "x = lambda a, b: a*b/100\n",
        "print(x(2,4))"
      ],
      "execution_count": 28,
      "outputs": [
        {
          "output_type": "stream",
          "text": [
            "115\n",
            "\n",
            "\n",
            "==========\n",
            "\n",
            "\n",
            "0.08\n"
          ],
          "name": "stdout"
        }
      ]
    },
    {
      "cell_type": "markdown",
      "metadata": {
        "id": "DrFT70-Po6O-"
      },
      "source": [
        "<a id='section10'></a>\n",
        "\n",
        "## 10. datetime 작업 \n",
        "\n",
        "Python의 `datetime` 모듈은 날짜 객체 작업에 사용할 수 있습니다."
      ]
    },
    {
      "cell_type": "code",
      "metadata": {
        "id": "bbtpMJUfo6O-",
        "colab": {
          "base_uri": "https://localhost:8080/"
        },
        "outputId": "ae1aa634-06d1-4a08-9770-dee729f3441a"
      },
      "source": [
        "import datetime\n",
        "\n",
        "x = datetime.datetime.now()\n",
        "\n",
        "print(x)\n",
        "print(x.year)\n",
        "print(x.strftime(\"%A\"))\n",
        "print(x.strftime(\"%B\"))\n",
        "print(x.strftime(\"%d\"))\n",
        "print(x.strftime(\"%H:%M:%S %p\"))"
      ],
      "execution_count": 29,
      "outputs": [
        {
          "output_type": "stream",
          "text": [
            "2021-03-08 12:10:13.028428\n",
            "2021\n",
            "Monday\n",
            "March\n",
            "08\n",
            "12:10:13 PM\n"
          ],
          "name": "stdout"
        }
      ]
    },
    {
      "cell_type": "markdown",
      "metadata": {
        "id": "sJpvofXno6PA"
      },
      "source": [
        "<a id='section11'></a>\n",
        "\n",
        "## 11. NumPy\n",
        "\n",
        "NumPy는 Python을 사용한 과학 컴퓨팅의 기본 패키지입니다. 무엇보다 여기에는 다음이 포함됩니다.\n",
        "\n",
        "- 강력한 N차원 배열 객체\n",
        "- 정교한(브로드캐스팅) 함수\n",
        "- C/C++ 및 Fortran 코드를 통합할 수 있는 도구\n",
        "- 유용한 선형 대수, 푸리에 변환 및 난수 기능"
      ]
    },
    {
      "cell_type": "code",
      "metadata": {
        "id": "AkCgsq_Mo6PB",
        "colab": {
          "base_uri": "https://localhost:8080/"
        },
        "outputId": "26a261d0-e41c-4de7-b82b-967ff580f988"
      },
      "source": [
        "# pip를 사용하여 NumPy 설치\n",
        "!pip install numpy"
      ],
      "execution_count": 30,
      "outputs": [
        {
          "output_type": "stream",
          "text": [
            "Requirement already satisfied: numpy in /usr/local/lib/python3.7/dist-packages (1.19.5)\n"
          ],
          "name": "stdout"
        }
      ]
    },
    {
      "cell_type": "code",
      "metadata": {
        "id": "lye50vYko6PB"
      },
      "source": [
        "# NumPy 모듈 가져오기\n",
        "import numpy as np"
      ],
      "execution_count": 31,
      "outputs": []
    },
    {
      "cell_type": "markdown",
      "metadata": {
        "id": "B8-r0-9co6PB"
      },
      "source": [
        "### 배열 검사"
      ]
    },
    {
      "cell_type": "code",
      "metadata": {
        "id": "yj9EAvK5o6PB"
      },
      "source": [
        "# 배열 생성\n",
        "a = np.arange(15).reshape(3, 5) # 0~14 범위의 배열을 3x5 차원으로 생성\n",
        "b = np.zeros((3,5)) # 0으로 배열 생성\n",
        "c = np.ones( (2,3,4), dtype=np.int16 ) # 1로 배열 생성 및 데이터 유형 정의\n",
        "d = np.ones((3,5))"
      ],
      "execution_count": 32,
      "outputs": []
    },
    {
      "cell_type": "code",
      "metadata": {
        "id": "zHH3H3Oko6PC",
        "colab": {
          "base_uri": "https://localhost:8080/"
        },
        "outputId": "f622f019-3e9b-4d7d-91e2-9407e786bc12"
      },
      "source": [
        "a.shape # 배열 차원"
      ],
      "execution_count": 33,
      "outputs": [
        {
          "output_type": "execute_result",
          "data": {
            "text/plain": [
              "(3, 5)"
            ]
          },
          "metadata": {
            "tags": []
          },
          "execution_count": 33
        }
      ]
    },
    {
      "cell_type": "code",
      "metadata": {
        "id": "3MVSiInNo6PC",
        "colab": {
          "base_uri": "https://localhost:8080/"
        },
        "outputId": "08baac7f-d2aa-4679-b6f3-1b7b426bb592"
      },
      "source": [
        "len(b) # 배열 길이"
      ],
      "execution_count": 34,
      "outputs": [
        {
          "output_type": "execute_result",
          "data": {
            "text/plain": [
              "3"
            ]
          },
          "metadata": {
            "tags": []
          },
          "execution_count": 34
        }
      ]
    },
    {
      "cell_type": "code",
      "metadata": {
        "id": "FGQrd-Uto6PC",
        "colab": {
          "base_uri": "https://localhost:8080/"
        },
        "outputId": "0784d7cb-7aac-46f2-c12a-e95c19bda9dd"
      },
      "source": [
        "c.ndim # 배열 차원 수"
      ],
      "execution_count": 35,
      "outputs": [
        {
          "output_type": "execute_result",
          "data": {
            "text/plain": [
              "3"
            ]
          },
          "metadata": {
            "tags": []
          },
          "execution_count": 35
        }
      ]
    },
    {
      "cell_type": "code",
      "metadata": {
        "id": "Fo6ijh2jo6PC",
        "colab": {
          "base_uri": "https://localhost:8080/"
        },
        "outputId": "20968b41-85c0-4dcb-b7ec-a4850d257233"
      },
      "source": [
        "a.size # 배열 요소의 수"
      ],
      "execution_count": 36,
      "outputs": [
        {
          "output_type": "execute_result",
          "data": {
            "text/plain": [
              "15"
            ]
          },
          "metadata": {
            "tags": []
          },
          "execution_count": 36
        }
      ]
    },
    {
      "cell_type": "code",
      "metadata": {
        "id": "RdAWZZV7o6PC",
        "colab": {
          "base_uri": "https://localhost:8080/"
        },
        "outputId": "c99abeef-a80c-44e8-a36f-0cba85973eba"
      },
      "source": [
        "b.dtype # 배열 요소의 데이터 형식"
      ],
      "execution_count": 37,
      "outputs": [
        {
          "output_type": "execute_result",
          "data": {
            "text/plain": [
              "dtype('float64')"
            ]
          },
          "metadata": {
            "tags": []
          },
          "execution_count": 37
        }
      ]
    },
    {
      "cell_type": "code",
      "metadata": {
        "id": "at4JRV3Co6PC",
        "colab": {
          "base_uri": "https://localhost:8080/",
          "height": 36
        },
        "outputId": "2c2386d8-27c7-4b63-e19d-6f5659164b57"
      },
      "source": [
        "c.dtype.name # 데이터 유형 이름"
      ],
      "execution_count": 38,
      "outputs": [
        {
          "output_type": "execute_result",
          "data": {
            "application/vnd.google.colaboratory.intrinsic+json": {
              "type": "string"
            },
            "text/plain": [
              "'int16'"
            ]
          },
          "metadata": {
            "tags": []
          },
          "execution_count": 38
        }
      ]
    },
    {
      "cell_type": "code",
      "metadata": {
        "id": "H8kn_wLxo6PC",
        "colab": {
          "base_uri": "https://localhost:8080/"
        },
        "outputId": "9d49c00c-1afb-4317-8d98-9d80d34017d9"
      },
      "source": [
        "c.astype(float) # 배열 유형을 다른 유형으로 변환"
      ],
      "execution_count": 39,
      "outputs": [
        {
          "output_type": "execute_result",
          "data": {
            "text/plain": [
              "array([[[1., 1., 1., 1.],\n",
              "        [1., 1., 1., 1.],\n",
              "        [1., 1., 1., 1.]],\n",
              "\n",
              "       [[1., 1., 1., 1.],\n",
              "        [1., 1., 1., 1.],\n",
              "        [1., 1., 1., 1.]]])"
            ]
          },
          "metadata": {
            "tags": []
          },
          "execution_count": 39
        }
      ]
    },
    {
      "cell_type": "markdown",
      "metadata": {
        "id": "gQ7pGeLto6PC"
      },
      "source": [
        "### 기본 수학 연산"
      ]
    },
    {
      "cell_type": "code",
      "metadata": {
        "id": "HtELnbiCo6PD"
      },
      "source": [
        "# 배열 생성\n",
        "a = np.arange(15).reshape(3, 5) # 0~14 범위의 배열을 3x5 차원으로 생성\n",
        "b = np.zeros((3,5)) # 0으로 배열 생성\n",
        "c = np.ones( (2,3,4), dtype=np.int16 ) # 1로 배열 생성 및 데이터 유형 정의\n",
        "d = np.ones((3,5))"
      ],
      "execution_count": 40,
      "outputs": []
    },
    {
      "cell_type": "code",
      "metadata": {
        "id": "I5Vpyfzlo6PD",
        "colab": {
          "base_uri": "https://localhost:8080/"
        },
        "outputId": "273d0281-207c-4224-8967-3fdc42b0c908"
      },
      "source": [
        "np.add(a,b) # 더하기"
      ],
      "execution_count": 41,
      "outputs": [
        {
          "output_type": "execute_result",
          "data": {
            "text/plain": [
              "array([[ 0.,  1.,  2.,  3.,  4.],\n",
              "       [ 5.,  6.,  7.,  8.,  9.],\n",
              "       [10., 11., 12., 13., 14.]])"
            ]
          },
          "metadata": {
            "tags": []
          },
          "execution_count": 41
        }
      ]
    },
    {
      "cell_type": "code",
      "metadata": {
        "id": "A0WVEEf-o6PD",
        "colab": {
          "base_uri": "https://localhost:8080/"
        },
        "outputId": "1a64ec1b-88d1-427f-f2d9-f548e00fd54c"
      },
      "source": [
        "np.subtract(a,b) # 빼기"
      ],
      "execution_count": 42,
      "outputs": [
        {
          "output_type": "execute_result",
          "data": {
            "text/plain": [
              "array([[ 0.,  1.,  2.,  3.,  4.],\n",
              "       [ 5.,  6.,  7.,  8.,  9.],\n",
              "       [10., 11., 12., 13., 14.]])"
            ]
          },
          "metadata": {
            "tags": []
          },
          "execution_count": 42
        }
      ]
    },
    {
      "cell_type": "code",
      "metadata": {
        "id": "CoMRPXu7o6PD",
        "colab": {
          "base_uri": "https://localhost:8080/"
        },
        "outputId": "7014a86c-121d-41b5-dd7c-1800271c1404"
      },
      "source": [
        "np.divide(a,d) # 나누기"
      ],
      "execution_count": 43,
      "outputs": [
        {
          "output_type": "execute_result",
          "data": {
            "text/plain": [
              "array([[ 0.,  1.,  2.,  3.,  4.],\n",
              "       [ 5.,  6.,  7.,  8.,  9.],\n",
              "       [10., 11., 12., 13., 14.]])"
            ]
          },
          "metadata": {
            "tags": []
          },
          "execution_count": 43
        }
      ]
    },
    {
      "cell_type": "code",
      "metadata": {
        "id": "IUtUhQY7o6PD",
        "colab": {
          "base_uri": "https://localhost:8080/"
        },
        "outputId": "ac6ced1a-74a9-442d-c929-10b84ce3deb4"
      },
      "source": [
        "np.multiply(a,d) # 곱하기"
      ],
      "execution_count": 44,
      "outputs": [
        {
          "output_type": "execute_result",
          "data": {
            "text/plain": [
              "array([[ 0.,  1.,  2.,  3.,  4.],\n",
              "       [ 5.,  6.,  7.,  8.,  9.],\n",
              "       [10., 11., 12., 13., 14.]])"
            ]
          },
          "metadata": {
            "tags": []
          },
          "execution_count": 44
        }
      ]
    },
    {
      "cell_type": "code",
      "metadata": {
        "id": "3yuFlFn2o6PD",
        "colab": {
          "base_uri": "https://localhost:8080/"
        },
        "outputId": "217c212a-aed6-4f63-efbb-88ddf4a12755"
      },
      "source": [
        "np.array_equal(a,b) # 비교 - 배열별"
      ],
      "execution_count": 45,
      "outputs": [
        {
          "output_type": "execute_result",
          "data": {
            "text/plain": [
              "False"
            ]
          },
          "metadata": {
            "tags": []
          },
          "execution_count": 45
        }
      ]
    },
    {
      "cell_type": "markdown",
      "metadata": {
        "id": "1W-dgL4wo6PD"
      },
      "source": [
        "### 집계 함수"
      ]
    },
    {
      "cell_type": "code",
      "metadata": {
        "id": "9x6Eu2BUo6PE"
      },
      "source": [
        "# 배열 생성\n",
        "a = np.arange(15).reshape(3, 5) # 0~14 범위의 배열을 3x5 차원으로 생성\n",
        "b = np.zeros((3,5)) # zeros로 배열 생성\n",
        "c = np.ones( (2,3,4), dtype=np.int16 ) # ones로 배열 생성 및 데이터 유형 정의\n",
        "d = np.ones((3,5))"
      ],
      "execution_count": 46,
      "outputs": []
    },
    {
      "cell_type": "code",
      "metadata": {
        "id": "zsRsUqe4o6PE",
        "colab": {
          "base_uri": "https://localhost:8080/"
        },
        "outputId": "0f073195-bf13-49ea-da95-941da5fda8ef"
      },
      "source": [
        "a.sum() # 배열별 합계"
      ],
      "execution_count": 47,
      "outputs": [
        {
          "output_type": "execute_result",
          "data": {
            "text/plain": [
              "105"
            ]
          },
          "metadata": {
            "tags": []
          },
          "execution_count": 47
        }
      ]
    },
    {
      "cell_type": "code",
      "metadata": {
        "id": "zGh7UPdWo6PE",
        "colab": {
          "base_uri": "https://localhost:8080/"
        },
        "outputId": "da65552c-a3ad-49c7-ee63-7b4b08a31b92"
      },
      "source": [
        "a.min() # 배열별 최소값"
      ],
      "execution_count": 48,
      "outputs": [
        {
          "output_type": "execute_result",
          "data": {
            "text/plain": [
              "0"
            ]
          },
          "metadata": {
            "tags": []
          },
          "execution_count": 48
        }
      ]
    },
    {
      "cell_type": "code",
      "metadata": {
        "id": "oKVynHZjo6PE",
        "colab": {
          "base_uri": "https://localhost:8080/"
        },
        "outputId": "21c4f3b1-332a-40a8-b1fa-0862ae45674c"
      },
      "source": [
        "a.mean() # 배열별 평균"
      ],
      "execution_count": 49,
      "outputs": [
        {
          "output_type": "execute_result",
          "data": {
            "text/plain": [
              "7.0"
            ]
          },
          "metadata": {
            "tags": []
          },
          "execution_count": 49
        }
      ]
    },
    {
      "cell_type": "code",
      "metadata": {
        "id": "BlXlXWRdo6PE",
        "colab": {
          "base_uri": "https://localhost:8080/"
        },
        "outputId": "be20d064-f2b2-422b-eee8-0d742f9cbe49"
      },
      "source": [
        "a.max(axis=0) # 배열 행의 최대값"
      ],
      "execution_count": 50,
      "outputs": [
        {
          "output_type": "execute_result",
          "data": {
            "text/plain": [
              "array([10, 11, 12, 13, 14])"
            ]
          },
          "metadata": {
            "tags": []
          },
          "execution_count": 50
        }
      ]
    },
    {
      "cell_type": "code",
      "metadata": {
        "id": "AGQ3tFl-o6PF",
        "colab": {
          "base_uri": "https://localhost:8080/"
        },
        "outputId": "3332da86-9e71-4077-b2ad-355bc852f02f"
      },
      "source": [
        "np.std(a) # 표준 편차"
      ],
      "execution_count": 51,
      "outputs": [
        {
          "output_type": "execute_result",
          "data": {
            "text/plain": [
              "4.320493798938574"
            ]
          },
          "metadata": {
            "tags": []
          },
          "execution_count": 51
        }
      ]
    },
    {
      "cell_type": "markdown",
      "metadata": {
        "id": "5FUqj9mko6PF"
      },
      "source": [
        "### 하위 설정, 조각화 및 인덱싱"
      ]
    },
    {
      "cell_type": "code",
      "metadata": {
        "id": "B3HBKBlMo6PF"
      },
      "source": [
        "# 배열 생성\n",
        "a = np.arange(15).reshape(3, 5) # 0~14 범위의 배열을 3x5 차원으로 생성\n",
        "b = np.zeros((3,5)) # zeros로 배열 생성\n",
        "c = np.ones( (2,3,4), dtype=np.int16 ) # ones로 배열 생성 및 데이터 유형 정의\n",
        "d = np.ones((3,5))"
      ],
      "execution_count": 52,
      "outputs": []
    },
    {
      "cell_type": "code",
      "metadata": {
        "id": "Goo2Aduuo6PF",
        "colab": {
          "base_uri": "https://localhost:8080/"
        },
        "outputId": "1fa706a3-b5b1-480c-90cf-2b3c7d6bb528"
      },
      "source": [
        "a[1,2] # 행 1과 열 2의 요소 선택"
      ],
      "execution_count": 53,
      "outputs": [
        {
          "output_type": "execute_result",
          "data": {
            "text/plain": [
              "7"
            ]
          },
          "metadata": {
            "tags": []
          },
          "execution_count": 53
        }
      ]
    },
    {
      "cell_type": "code",
      "metadata": {
        "id": "oLjgwnb9o6PF",
        "colab": {
          "base_uri": "https://localhost:8080/"
        },
        "outputId": "d2021f0e-6bbb-4e61-889e-81549e86a8c5"
      },
      "source": [
        "a[0:2] # 인덱스 0과 1에서 항목 선택"
      ],
      "execution_count": 54,
      "outputs": [
        {
          "output_type": "execute_result",
          "data": {
            "text/plain": [
              "array([[0, 1, 2, 3, 4],\n",
              "       [5, 6, 7, 8, 9]])"
            ]
          },
          "metadata": {
            "tags": []
          },
          "execution_count": 54
        }
      ]
    },
    {
      "cell_type": "code",
      "metadata": {
        "id": "wHOLMeJno6PF",
        "colab": {
          "base_uri": "https://localhost:8080/"
        },
        "outputId": "b0d43636-5288-457a-aea8-4580a3788340"
      },
      "source": [
        "a[:1] # 행 0의 모든 항목 선택"
      ],
      "execution_count": 55,
      "outputs": [
        {
          "output_type": "execute_result",
          "data": {
            "text/plain": [
              "array([[0, 1, 2, 3, 4]])"
            ]
          },
          "metadata": {
            "tags": []
          },
          "execution_count": 55
        }
      ]
    },
    {
      "cell_type": "code",
      "metadata": {
        "id": "zG6QE0P-o6PG",
        "colab": {
          "base_uri": "https://localhost:8080/"
        },
        "outputId": "002f30c7-5076-4515-d1b4-4a6e89db7b84"
      },
      "source": [
        "a[-1:] # 마지막 행에서 모든 항목 선택"
      ],
      "execution_count": 56,
      "outputs": [
        {
          "output_type": "execute_result",
          "data": {
            "text/plain": [
              "array([[10, 11, 12, 13, 14]])"
            ]
          },
          "metadata": {
            "tags": []
          },
          "execution_count": 56
        }
      ]
    },
    {
      "cell_type": "code",
      "metadata": {
        "id": "sPO0nhXQo6PG",
        "colab": {
          "base_uri": "https://localhost:8080/"
        },
        "outputId": "7e18e326-d3e8-4211-c37f-2eaede6225a8"
      },
      "source": [
        "a[a<2] # 'a'에서 2보다 작은 요소 선택"
      ],
      "execution_count": 57,
      "outputs": [
        {
          "output_type": "execute_result",
          "data": {
            "text/plain": [
              "array([0, 1])"
            ]
          },
          "metadata": {
            "tags": []
          },
          "execution_count": 57
        }
      ]
    },
    {
      "cell_type": "markdown",
      "metadata": {
        "id": "idqVU1Xvo6PG"
      },
      "source": [
        "### 배열 조작"
      ]
    },
    {
      "cell_type": "code",
      "metadata": {
        "id": "s_HnO8H5o6PG"
      },
      "source": [
        "# 배열 생성\n",
        "a = np.arange(15).reshape(3, 5) # 0~14 범위의 배열을 3x5 차원으로 생성\n",
        "b = np.zeros((3,5)) # zeros로 배열 생성\n",
        "c = np.ones( (2,3,4), dtype=np.int16 ) # ones로 배열 생성 및 데이터 유형 정의\n",
        "d = np.ones((3,5))"
      ],
      "execution_count": 58,
      "outputs": []
    },
    {
      "cell_type": "code",
      "metadata": {
        "id": "NHoHL8guo6PG",
        "colab": {
          "base_uri": "https://localhost:8080/"
        },
        "outputId": "b2cee171-1432-44b1-e888-467ebddd8b3f"
      },
      "source": [
        "np.transpose(a) # 배열 'a' 바꾸기"
      ],
      "execution_count": 59,
      "outputs": [
        {
          "output_type": "execute_result",
          "data": {
            "text/plain": [
              "array([[ 0,  5, 10],\n",
              "       [ 1,  6, 11],\n",
              "       [ 2,  7, 12],\n",
              "       [ 3,  8, 13],\n",
              "       [ 4,  9, 14]])"
            ]
          },
          "metadata": {
            "tags": []
          },
          "execution_count": 59
        }
      ]
    },
    {
      "cell_type": "code",
      "metadata": {
        "id": "6cfBhqEYo6PG",
        "colab": {
          "base_uri": "https://localhost:8080/"
        },
        "outputId": "c25d3905-d7df-482d-cd09-c1993e055ef7"
      },
      "source": [
        "a.ravel() # 배열 평면화"
      ],
      "execution_count": 60,
      "outputs": [
        {
          "output_type": "execute_result",
          "data": {
            "text/plain": [
              "array([ 0,  1,  2,  3,  4,  5,  6,  7,  8,  9, 10, 11, 12, 13, 14])"
            ]
          },
          "metadata": {
            "tags": []
          },
          "execution_count": 60
        }
      ]
    },
    {
      "cell_type": "code",
      "metadata": {
        "id": "-3ph8alZo6PH",
        "colab": {
          "base_uri": "https://localhost:8080/"
        },
        "outputId": "b29f0246-41e8-4098-e7cf-a5a64f93a6d9"
      },
      "source": [
        "a.reshape(5,-2) # 형태를 변경하되 데이터는 변경하지 않음"
      ],
      "execution_count": 61,
      "outputs": [
        {
          "output_type": "execute_result",
          "data": {
            "text/plain": [
              "array([[ 0,  1,  2],\n",
              "       [ 3,  4,  5],\n",
              "       [ 6,  7,  8],\n",
              "       [ 9, 10, 11],\n",
              "       [12, 13, 14]])"
            ]
          },
          "metadata": {
            "tags": []
          },
          "execution_count": 61
        }
      ]
    },
    {
      "cell_type": "code",
      "metadata": {
        "id": "6IMzCRrTo6PH",
        "colab": {
          "base_uri": "https://localhost:8080/"
        },
        "outputId": "01e09dfe-8c6b-4ee6-e6cc-db5bd9640684"
      },
      "source": [
        "np.append(a,b) # 항목을 배열에 추가"
      ],
      "execution_count": 62,
      "outputs": [
        {
          "output_type": "execute_result",
          "data": {
            "text/plain": [
              "array([ 0.,  1.,  2.,  3.,  4.,  5.,  6.,  7.,  8.,  9., 10., 11., 12.,\n",
              "       13., 14.,  0.,  0.,  0.,  0.,  0.,  0.,  0.,  0.,  0.,  0.,  0.,\n",
              "        0.,  0.,  0.,  0.])"
            ]
          },
          "metadata": {
            "tags": []
          },
          "execution_count": 62
        }
      ]
    },
    {
      "cell_type": "code",
      "metadata": {
        "id": "cDqsQ0SLo6PH",
        "colab": {
          "base_uri": "https://localhost:8080/"
        },
        "outputId": "8f14341d-ea73-4e0c-b6ae-6cf40c463e6d"
      },
      "source": [
        "np.concatenate((a,d), axis=0) # 배열 연결"
      ],
      "execution_count": 63,
      "outputs": [
        {
          "output_type": "execute_result",
          "data": {
            "text/plain": [
              "array([[ 0.,  1.,  2.,  3.,  4.],\n",
              "       [ 5.,  6.,  7.,  8.,  9.],\n",
              "       [10., 11., 12., 13., 14.],\n",
              "       [ 1.,  1.,  1.,  1.,  1.],\n",
              "       [ 1.,  1.,  1.,  1.,  1.],\n",
              "       [ 1.,  1.,  1.,  1.,  1.]])"
            ]
          },
          "metadata": {
            "tags": []
          },
          "execution_count": 63
        }
      ]
    },
    {
      "cell_type": "code",
      "metadata": {
        "id": "qEy2EJI2o6PH",
        "colab": {
          "base_uri": "https://localhost:8080/"
        },
        "outputId": "7b8a77f9-ba5c-4853-a039-eb1eee154252"
      },
      "source": [
        "np.vsplit(a,3) # 3번째 인덱스에서 수직으로 배열 분할"
      ],
      "execution_count": 64,
      "outputs": [
        {
          "output_type": "execute_result",
          "data": {
            "text/plain": [
              "[array([[0, 1, 2, 3, 4]]),\n",
              " array([[5, 6, 7, 8, 9]]),\n",
              " array([[10, 11, 12, 13, 14]])]"
            ]
          },
          "metadata": {
            "tags": []
          },
          "execution_count": 64
        }
      ]
    },
    {
      "cell_type": "code",
      "metadata": {
        "id": "3BBed6uMo6PH",
        "colab": {
          "base_uri": "https://localhost:8080/"
        },
        "outputId": "4fbb77b2-1253-4f77-c3ad-3c410d5cf9b8"
      },
      "source": [
        "np.hsplit(a,5) # 5번째 인덱스에서 수평으로 배열 분할"
      ],
      "execution_count": 65,
      "outputs": [
        {
          "output_type": "execute_result",
          "data": {
            "text/plain": [
              "[array([[ 0],\n",
              "        [ 5],\n",
              "        [10]]), array([[ 1],\n",
              "        [ 6],\n",
              "        [11]]), array([[ 2],\n",
              "        [ 7],\n",
              "        [12]]), array([[ 3],\n",
              "        [ 8],\n",
              "        [13]]), array([[ 4],\n",
              "        [ 9],\n",
              "        [14]])]"
            ]
          },
          "metadata": {
            "tags": []
          },
          "execution_count": 65
        }
      ]
    },
    {
      "cell_type": "markdown",
      "metadata": {
        "id": "k_KKqpSKo6PH"
      },
      "source": [
        "<a id='section12'></a>\n",
        "\n",
        "## Pandas\n",
        "\n",
        "Pandas는 Python 프로그래밍 언어를 위한 고성능의 사용이 간편한 데이터 구조와 데이터 분석 도구를 제공하는 BSD 라이선스 라이브러리로 오픈 소스입니다.\n",
        "\n",
        "Pandas DataFrames는 Python 내에서 가장 널리 사용되는 복잡한 데이터 모음의 인 메모리 표현입니다."
      ]
    },
    {
      "cell_type": "code",
      "metadata": {
        "id": "QERyc1zAo6PI",
        "colab": {
          "base_uri": "https://localhost:8080/"
        },
        "outputId": "56974ef1-3da0-4736-b296-a0516a17da96"
      },
      "source": [
        "# pip를 사용하여 pandas, xlrd 및 openpyxl 설치\n",
        "!pip install pandas\n",
        "!pip install xlrd openpyxl"
      ],
      "execution_count": 66,
      "outputs": [
        {
          "output_type": "stream",
          "text": [
            "Requirement already satisfied: pandas in /usr/local/lib/python3.7/dist-packages (1.1.5)\n",
            "Requirement already satisfied: python-dateutil>=2.7.3 in /usr/local/lib/python3.7/dist-packages (from pandas) (2.8.1)\n",
            "Requirement already satisfied: pytz>=2017.2 in /usr/local/lib/python3.7/dist-packages (from pandas) (2018.9)\n",
            "Requirement already satisfied: numpy>=1.15.4 in /usr/local/lib/python3.7/dist-packages (from pandas) (1.19.5)\n",
            "Requirement already satisfied: six>=1.5 in /usr/local/lib/python3.7/dist-packages (from python-dateutil>=2.7.3->pandas) (1.15.0)\n",
            "Requirement already satisfied: xlrd in /usr/local/lib/python3.7/dist-packages (1.1.0)\n",
            "Requirement already satisfied: openpyxl in /usr/local/lib/python3.7/dist-packages (2.5.9)\n",
            "Requirement already satisfied: jdcal in /usr/local/lib/python3.7/dist-packages (from openpyxl) (1.4.1)\n",
            "Requirement already satisfied: et-xmlfile in /usr/local/lib/python3.7/dist-packages (from openpyxl) (1.0.1)\n"
          ],
          "name": "stdout"
        }
      ]
    },
    {
      "cell_type": "code",
      "metadata": {
        "id": "IHnZHtoao6PI"
      },
      "source": [
        "# NumPy 및 Pandas 모듈 가져오기\n",
        "import numpy as np\n",
        "import pandas as pd"
      ],
      "execution_count": 67,
      "outputs": []
    },
    {
      "cell_type": "code",
      "metadata": {
        "id": "mejaJciGo6PI",
        "colab": {
          "base_uri": "https://localhost:8080/",
          "height": 171
        },
        "outputId": "49c2529e-a572-4bfc-d154-9bac864182a6"
      },
      "source": [
        "# dataframe df 샘플\n",
        "df = pd.DataFrame({'num_legs': [2, 4, np.nan, 0],\n",
        "                   'num_wings': [2, 0, 0, 0],\n",
        "                   'num_specimen_seen': [10, np.nan, 1, 8]},\n",
        "                   index=['falcon', 'dog', 'spider', 'fish'])\n",
        "df # dataframe df 표시"
      ],
      "execution_count": 68,
      "outputs": [
        {
          "output_type": "execute_result",
          "data": {
            "text/html": [
              "<div>\n",
              "<style scoped>\n",
              "    .dataframe tbody tr th:only-of-type {\n",
              "        vertical-align: middle;\n",
              "    }\n",
              "\n",
              "    .dataframe tbody tr th {\n",
              "        vertical-align: top;\n",
              "    }\n",
              "\n",
              "    .dataframe thead th {\n",
              "        text-align: right;\n",
              "    }\n",
              "</style>\n",
              "<table border=\"1\" class=\"dataframe\">\n",
              "  <thead>\n",
              "    <tr style=\"text-align: right;\">\n",
              "      <th></th>\n",
              "      <th>num_legs</th>\n",
              "      <th>num_wings</th>\n",
              "      <th>num_specimen_seen</th>\n",
              "    </tr>\n",
              "  </thead>\n",
              "  <tbody>\n",
              "    <tr>\n",
              "      <th>falcon</th>\n",
              "      <td>2.0</td>\n",
              "      <td>2</td>\n",
              "      <td>10.0</td>\n",
              "    </tr>\n",
              "    <tr>\n",
              "      <th>dog</th>\n",
              "      <td>4.0</td>\n",
              "      <td>0</td>\n",
              "      <td>NaN</td>\n",
              "    </tr>\n",
              "    <tr>\n",
              "      <th>spider</th>\n",
              "      <td>NaN</td>\n",
              "      <td>0</td>\n",
              "      <td>1.0</td>\n",
              "    </tr>\n",
              "    <tr>\n",
              "      <th>fish</th>\n",
              "      <td>0.0</td>\n",
              "      <td>0</td>\n",
              "      <td>8.0</td>\n",
              "    </tr>\n",
              "  </tbody>\n",
              "</table>\n",
              "</div>"
            ],
            "text/plain": [
              "        num_legs  num_wings  num_specimen_seen\n",
              "falcon       2.0          2               10.0\n",
              "dog          4.0          0                NaN\n",
              "spider       NaN          0                1.0\n",
              "fish         0.0          0                8.0"
            ]
          },
          "metadata": {
            "tags": []
          },
          "execution_count": 68
        }
      ]
    },
    {
      "cell_type": "code",
      "metadata": {
        "id": "D7lWZS6No6PI",
        "colab": {
          "base_uri": "https://localhost:8080/",
          "height": 233
        },
        "outputId": "923c89da-1c09-45c6-96e7-b168424b52b1"
      },
      "source": [
        "# 또 다른 dataframe df1 샘플 – datetime 인덱스 및 레이블이 지정된 열이 포함된 NumPy 배열 사용\n",
        "df1 = pd.date_range('20130101', periods=6)\n",
        "df1 = pd.DataFrame(np.random.randn(6, 4), index=df1, columns=list('ABCD'))\n",
        "df1 # dataframe df1 표시"
      ],
      "execution_count": 69,
      "outputs": [
        {
          "output_type": "execute_result",
          "data": {
            "text/html": [
              "<div>\n",
              "<style scoped>\n",
              "    .dataframe tbody tr th:only-of-type {\n",
              "        vertical-align: middle;\n",
              "    }\n",
              "\n",
              "    .dataframe tbody tr th {\n",
              "        vertical-align: top;\n",
              "    }\n",
              "\n",
              "    .dataframe thead th {\n",
              "        text-align: right;\n",
              "    }\n",
              "</style>\n",
              "<table border=\"1\" class=\"dataframe\">\n",
              "  <thead>\n",
              "    <tr style=\"text-align: right;\">\n",
              "      <th></th>\n",
              "      <th>A</th>\n",
              "      <th>B</th>\n",
              "      <th>C</th>\n",
              "      <th>D</th>\n",
              "    </tr>\n",
              "  </thead>\n",
              "  <tbody>\n",
              "    <tr>\n",
              "      <th>2013-01-01</th>\n",
              "      <td>-1.013837</td>\n",
              "      <td>1.882453</td>\n",
              "      <td>-0.985358</td>\n",
              "      <td>-1.068367</td>\n",
              "    </tr>\n",
              "    <tr>\n",
              "      <th>2013-01-02</th>\n",
              "      <td>2.233526</td>\n",
              "      <td>0.446492</td>\n",
              "      <td>0.988191</td>\n",
              "      <td>0.625813</td>\n",
              "    </tr>\n",
              "    <tr>\n",
              "      <th>2013-01-03</th>\n",
              "      <td>-0.110140</td>\n",
              "      <td>-0.614665</td>\n",
              "      <td>0.320431</td>\n",
              "      <td>-0.813705</td>\n",
              "    </tr>\n",
              "    <tr>\n",
              "      <th>2013-01-04</th>\n",
              "      <td>-0.496589</td>\n",
              "      <td>0.101746</td>\n",
              "      <td>-1.173712</td>\n",
              "      <td>1.994266</td>\n",
              "    </tr>\n",
              "    <tr>\n",
              "      <th>2013-01-05</th>\n",
              "      <td>-0.442674</td>\n",
              "      <td>2.327744</td>\n",
              "      <td>-1.015889</td>\n",
              "      <td>-2.079330</td>\n",
              "    </tr>\n",
              "    <tr>\n",
              "      <th>2013-01-06</th>\n",
              "      <td>1.361685</td>\n",
              "      <td>1.362349</td>\n",
              "      <td>-0.079095</td>\n",
              "      <td>0.634053</td>\n",
              "    </tr>\n",
              "  </tbody>\n",
              "</table>\n",
              "</div>"
            ],
            "text/plain": [
              "                   A         B         C         D\n",
              "2013-01-01 -1.013837  1.882453 -0.985358 -1.068367\n",
              "2013-01-02  2.233526  0.446492  0.988191  0.625813\n",
              "2013-01-03 -0.110140 -0.614665  0.320431 -0.813705\n",
              "2013-01-04 -0.496589  0.101746 -1.173712  1.994266\n",
              "2013-01-05 -0.442674  2.327744 -1.015889 -2.079330\n",
              "2013-01-06  1.361685  1.362349 -0.079095  0.634053"
            ]
          },
          "metadata": {
            "tags": []
          },
          "execution_count": 69
        }
      ]
    },
    {
      "cell_type": "markdown",
      "metadata": {
        "id": "hwARplG6o6PI"
      },
      "source": [
        "### 데이터 보기"
      ]
    },
    {
      "cell_type": "code",
      "metadata": {
        "id": "lD8WD4Bxo6PI"
      },
      "source": [
        "df1 = pd.date_range('20130101', periods=6)\n",
        "df1 = pd.DataFrame(np.random.randn(6, 4), index=df1, columns=list('ABCD'))"
      ],
      "execution_count": 70,
      "outputs": []
    },
    {
      "cell_type": "code",
      "metadata": {
        "id": "9ASSFeRbo6PI",
        "colab": {
          "base_uri": "https://localhost:8080/",
          "height": 110
        },
        "outputId": "0b2db515-abe2-422e-eaf8-63d68a6834cc"
      },
      "source": [
        "df1.head(2) # 상위 데이터 보기"
      ],
      "execution_count": 71,
      "outputs": [
        {
          "output_type": "execute_result",
          "data": {
            "text/html": [
              "<div>\n",
              "<style scoped>\n",
              "    .dataframe tbody tr th:only-of-type {\n",
              "        vertical-align: middle;\n",
              "    }\n",
              "\n",
              "    .dataframe tbody tr th {\n",
              "        vertical-align: top;\n",
              "    }\n",
              "\n",
              "    .dataframe thead th {\n",
              "        text-align: right;\n",
              "    }\n",
              "</style>\n",
              "<table border=\"1\" class=\"dataframe\">\n",
              "  <thead>\n",
              "    <tr style=\"text-align: right;\">\n",
              "      <th></th>\n",
              "      <th>A</th>\n",
              "      <th>B</th>\n",
              "      <th>C</th>\n",
              "      <th>D</th>\n",
              "    </tr>\n",
              "  </thead>\n",
              "  <tbody>\n",
              "    <tr>\n",
              "      <th>2013-01-01</th>\n",
              "      <td>0.470700</td>\n",
              "      <td>1.693577</td>\n",
              "      <td>-0.856934</td>\n",
              "      <td>-1.771975</td>\n",
              "    </tr>\n",
              "    <tr>\n",
              "      <th>2013-01-02</th>\n",
              "      <td>-0.669532</td>\n",
              "      <td>-0.793803</td>\n",
              "      <td>0.724367</td>\n",
              "      <td>-0.370503</td>\n",
              "    </tr>\n",
              "  </tbody>\n",
              "</table>\n",
              "</div>"
            ],
            "text/plain": [
              "                   A         B         C         D\n",
              "2013-01-01  0.470700  1.693577 -0.856934 -1.771975\n",
              "2013-01-02 -0.669532 -0.793803  0.724367 -0.370503"
            ]
          },
          "metadata": {
            "tags": []
          },
          "execution_count": 71
        }
      ]
    },
    {
      "cell_type": "code",
      "metadata": {
        "id": "lshHPUS5o6PI",
        "colab": {
          "base_uri": "https://localhost:8080/",
          "height": 110
        },
        "outputId": "e9707861-f16b-4eb3-8d30-45ef46ed0302"
      },
      "source": [
        "df1.tail(2) # 하위 데이터 보기"
      ],
      "execution_count": 72,
      "outputs": [
        {
          "output_type": "execute_result",
          "data": {
            "text/html": [
              "<div>\n",
              "<style scoped>\n",
              "    .dataframe tbody tr th:only-of-type {\n",
              "        vertical-align: middle;\n",
              "    }\n",
              "\n",
              "    .dataframe tbody tr th {\n",
              "        vertical-align: top;\n",
              "    }\n",
              "\n",
              "    .dataframe thead th {\n",
              "        text-align: right;\n",
              "    }\n",
              "</style>\n",
              "<table border=\"1\" class=\"dataframe\">\n",
              "  <thead>\n",
              "    <tr style=\"text-align: right;\">\n",
              "      <th></th>\n",
              "      <th>A</th>\n",
              "      <th>B</th>\n",
              "      <th>C</th>\n",
              "      <th>D</th>\n",
              "    </tr>\n",
              "  </thead>\n",
              "  <tbody>\n",
              "    <tr>\n",
              "      <th>2013-01-05</th>\n",
              "      <td>0.701538</td>\n",
              "      <td>-0.659270</td>\n",
              "      <td>0.243455</td>\n",
              "      <td>-0.567387</td>\n",
              "    </tr>\n",
              "    <tr>\n",
              "      <th>2013-01-06</th>\n",
              "      <td>-0.409822</td>\n",
              "      <td>1.342933</td>\n",
              "      <td>0.417383</td>\n",
              "      <td>-1.005439</td>\n",
              "    </tr>\n",
              "  </tbody>\n",
              "</table>\n",
              "</div>"
            ],
            "text/plain": [
              "                   A         B         C         D\n",
              "2013-01-05  0.701538 -0.659270  0.243455 -0.567387\n",
              "2013-01-06 -0.409822  1.342933  0.417383 -1.005439"
            ]
          },
          "metadata": {
            "tags": []
          },
          "execution_count": 72
        }
      ]
    },
    {
      "cell_type": "code",
      "metadata": {
        "id": "nwNfx0QMo6PJ",
        "colab": {
          "base_uri": "https://localhost:8080/"
        },
        "outputId": "cae54889-b2e8-48a7-ef56-9d473c24fd8e"
      },
      "source": [
        "df1.index # 인덱스 열 표시"
      ],
      "execution_count": 73,
      "outputs": [
        {
          "output_type": "execute_result",
          "data": {
            "text/plain": [
              "DatetimeIndex(['2013-01-01', '2013-01-02', '2013-01-03', '2013-01-04',\n",
              "               '2013-01-05', '2013-01-06'],\n",
              "              dtype='datetime64[ns]', freq='D')"
            ]
          },
          "metadata": {
            "tags": []
          },
          "execution_count": 73
        }
      ]
    },
    {
      "cell_type": "code",
      "metadata": {
        "id": "MStUXpJ_o6PJ",
        "colab": {
          "base_uri": "https://localhost:8080/"
        },
        "outputId": "9abc3bab-f5cf-4277-cdce-4f6d8c9d3904"
      },
      "source": [
        "df1.dtypes # 데이터 유형 검사"
      ],
      "execution_count": 74,
      "outputs": [
        {
          "output_type": "execute_result",
          "data": {
            "text/plain": [
              "A    float64\n",
              "B    float64\n",
              "C    float64\n",
              "D    float64\n",
              "dtype: object"
            ]
          },
          "metadata": {
            "tags": []
          },
          "execution_count": 74
        }
      ]
    },
    {
      "cell_type": "code",
      "metadata": {
        "id": "_uBLhA--o6PJ",
        "colab": {
          "base_uri": "https://localhost:8080/",
          "height": 294
        },
        "outputId": "40c22ace-c048-47a0-f3c2-62f5b29c933b"
      },
      "source": [
        "df1.describe() # 데이터의 빠른 통계 요약 표시"
      ],
      "execution_count": 75,
      "outputs": [
        {
          "output_type": "execute_result",
          "data": {
            "text/html": [
              "<div>\n",
              "<style scoped>\n",
              "    .dataframe tbody tr th:only-of-type {\n",
              "        vertical-align: middle;\n",
              "    }\n",
              "\n",
              "    .dataframe tbody tr th {\n",
              "        vertical-align: top;\n",
              "    }\n",
              "\n",
              "    .dataframe thead th {\n",
              "        text-align: right;\n",
              "    }\n",
              "</style>\n",
              "<table border=\"1\" class=\"dataframe\">\n",
              "  <thead>\n",
              "    <tr style=\"text-align: right;\">\n",
              "      <th></th>\n",
              "      <th>A</th>\n",
              "      <th>B</th>\n",
              "      <th>C</th>\n",
              "      <th>D</th>\n",
              "    </tr>\n",
              "  </thead>\n",
              "  <tbody>\n",
              "    <tr>\n",
              "      <th>count</th>\n",
              "      <td>6.000000</td>\n",
              "      <td>6.000000</td>\n",
              "      <td>6.000000</td>\n",
              "      <td>6.000000</td>\n",
              "    </tr>\n",
              "    <tr>\n",
              "      <th>mean</th>\n",
              "      <td>-0.463390</td>\n",
              "      <td>0.156221</td>\n",
              "      <td>0.166528</td>\n",
              "      <td>-0.599106</td>\n",
              "    </tr>\n",
              "    <tr>\n",
              "      <th>std</th>\n",
              "      <td>0.925262</td>\n",
              "      <td>1.082455</td>\n",
              "      <td>0.552202</td>\n",
              "      <td>1.050553</td>\n",
              "    </tr>\n",
              "    <tr>\n",
              "      <th>min</th>\n",
              "      <td>-1.672501</td>\n",
              "      <td>-0.793803</td>\n",
              "      <td>-0.856934</td>\n",
              "      <td>-1.771975</td>\n",
              "    </tr>\n",
              "    <tr>\n",
              "      <th>25%</th>\n",
              "      <td>-1.067923</td>\n",
              "      <td>-0.618451</td>\n",
              "      <td>0.080458</td>\n",
              "      <td>-1.132989</td>\n",
              "    </tr>\n",
              "    <tr>\n",
              "      <th>50%</th>\n",
              "      <td>-0.539677</td>\n",
              "      <td>-0.323055</td>\n",
              "      <td>0.330419</td>\n",
              "      <td>-0.786413</td>\n",
              "    </tr>\n",
              "    <tr>\n",
              "      <th>75%</th>\n",
              "      <td>0.250569</td>\n",
              "      <td>0.969671</td>\n",
              "      <td>0.437926</td>\n",
              "      <td>-0.419724</td>\n",
              "    </tr>\n",
              "    <tr>\n",
              "      <th>max</th>\n",
              "      <td>0.701538</td>\n",
              "      <td>1.693577</td>\n",
              "      <td>0.724367</td>\n",
              "      <td>1.296172</td>\n",
              "    </tr>\n",
              "  </tbody>\n",
              "</table>\n",
              "</div>"
            ],
            "text/plain": [
              "              A         B         C         D\n",
              "count  6.000000  6.000000  6.000000  6.000000\n",
              "mean  -0.463390  0.156221  0.166528 -0.599106\n",
              "std    0.925262  1.082455  0.552202  1.050553\n",
              "min   -1.672501 -0.793803 -0.856934 -1.771975\n",
              "25%   -1.067923 -0.618451  0.080458 -1.132989\n",
              "50%   -0.539677 -0.323055  0.330419 -0.786413\n",
              "75%    0.250569  0.969671  0.437926 -0.419724\n",
              "max    0.701538  1.693577  0.724367  1.296172"
            ]
          },
          "metadata": {
            "tags": []
          },
          "execution_count": 75
        }
      ]
    },
    {
      "cell_type": "markdown",
      "metadata": {
        "id": "PB1eJSAqo6PJ"
      },
      "source": [
        "### 하위 설정, 조각화 및 인덱싱"
      ]
    },
    {
      "cell_type": "code",
      "metadata": {
        "id": "ynN3wHmjo6PJ"
      },
      "source": [
        "df1 = pd.date_range('20130101', periods=6)\n",
        "df1 = pd.DataFrame(np.random.randn(6, 4), index=df1, columns=list('ABCD'))"
      ],
      "execution_count": 76,
      "outputs": []
    },
    {
      "cell_type": "code",
      "metadata": {
        "id": "vicr0YEIo6PJ",
        "colab": {
          "base_uri": "https://localhost:8080/",
          "height": 171
        },
        "outputId": "2d0925a2-0760-4674-c303-2d1d61b1c2d7"
      },
      "source": [
        "df1.T # 데이터 바꾸기"
      ],
      "execution_count": 77,
      "outputs": [
        {
          "output_type": "execute_result",
          "data": {
            "text/html": [
              "<div>\n",
              "<style scoped>\n",
              "    .dataframe tbody tr th:only-of-type {\n",
              "        vertical-align: middle;\n",
              "    }\n",
              "\n",
              "    .dataframe tbody tr th {\n",
              "        vertical-align: top;\n",
              "    }\n",
              "\n",
              "    .dataframe thead th {\n",
              "        text-align: right;\n",
              "    }\n",
              "</style>\n",
              "<table border=\"1\" class=\"dataframe\">\n",
              "  <thead>\n",
              "    <tr style=\"text-align: right;\">\n",
              "      <th></th>\n",
              "      <th>2013-01-01</th>\n",
              "      <th>2013-01-02</th>\n",
              "      <th>2013-01-03</th>\n",
              "      <th>2013-01-04</th>\n",
              "      <th>2013-01-05</th>\n",
              "      <th>2013-01-06</th>\n",
              "    </tr>\n",
              "  </thead>\n",
              "  <tbody>\n",
              "    <tr>\n",
              "      <th>A</th>\n",
              "      <td>-1.082453</td>\n",
              "      <td>-0.024646</td>\n",
              "      <td>-1.366689</td>\n",
              "      <td>-0.534319</td>\n",
              "      <td>0.210941</td>\n",
              "      <td>0.191982</td>\n",
              "    </tr>\n",
              "    <tr>\n",
              "      <th>B</th>\n",
              "      <td>0.674208</td>\n",
              "      <td>0.958289</td>\n",
              "      <td>-0.999872</td>\n",
              "      <td>1.711130</td>\n",
              "      <td>-1.728772</td>\n",
              "      <td>-1.936965</td>\n",
              "    </tr>\n",
              "    <tr>\n",
              "      <th>C</th>\n",
              "      <td>0.353510</td>\n",
              "      <td>-0.480417</td>\n",
              "      <td>-0.093956</td>\n",
              "      <td>-0.953440</td>\n",
              "      <td>-0.390377</td>\n",
              "      <td>0.972756</td>\n",
              "    </tr>\n",
              "    <tr>\n",
              "      <th>D</th>\n",
              "      <td>0.820371</td>\n",
              "      <td>0.823969</td>\n",
              "      <td>-1.369718</td>\n",
              "      <td>1.257230</td>\n",
              "      <td>0.329740</td>\n",
              "      <td>-0.954021</td>\n",
              "    </tr>\n",
              "  </tbody>\n",
              "</table>\n",
              "</div>"
            ],
            "text/plain": [
              "   2013-01-01  2013-01-02  2013-01-03  2013-01-04  2013-01-05  2013-01-06\n",
              "A   -1.082453   -0.024646   -1.366689   -0.534319    0.210941    0.191982\n",
              "B    0.674208    0.958289   -0.999872    1.711130   -1.728772   -1.936965\n",
              "C    0.353510   -0.480417   -0.093956   -0.953440   -0.390377    0.972756\n",
              "D    0.820371    0.823969   -1.369718    1.257230    0.329740   -0.954021"
            ]
          },
          "metadata": {
            "tags": []
          },
          "execution_count": 77
        }
      ]
    },
    {
      "cell_type": "code",
      "metadata": {
        "id": "Rhy1ju3io6PJ",
        "colab": {
          "base_uri": "https://localhost:8080/",
          "height": 233
        },
        "outputId": "fbb64d12-4082-4465-925f-e44d9ec6bbcc"
      },
      "source": [
        "df1.sort_index(axis=1, ascending=False) # 축을 기준으로 정렬"
      ],
      "execution_count": 78,
      "outputs": [
        {
          "output_type": "execute_result",
          "data": {
            "text/html": [
              "<div>\n",
              "<style scoped>\n",
              "    .dataframe tbody tr th:only-of-type {\n",
              "        vertical-align: middle;\n",
              "    }\n",
              "\n",
              "    .dataframe tbody tr th {\n",
              "        vertical-align: top;\n",
              "    }\n",
              "\n",
              "    .dataframe thead th {\n",
              "        text-align: right;\n",
              "    }\n",
              "</style>\n",
              "<table border=\"1\" class=\"dataframe\">\n",
              "  <thead>\n",
              "    <tr style=\"text-align: right;\">\n",
              "      <th></th>\n",
              "      <th>D</th>\n",
              "      <th>C</th>\n",
              "      <th>B</th>\n",
              "      <th>A</th>\n",
              "    </tr>\n",
              "  </thead>\n",
              "  <tbody>\n",
              "    <tr>\n",
              "      <th>2013-01-01</th>\n",
              "      <td>0.820371</td>\n",
              "      <td>0.353510</td>\n",
              "      <td>0.674208</td>\n",
              "      <td>-1.082453</td>\n",
              "    </tr>\n",
              "    <tr>\n",
              "      <th>2013-01-02</th>\n",
              "      <td>0.823969</td>\n",
              "      <td>-0.480417</td>\n",
              "      <td>0.958289</td>\n",
              "      <td>-0.024646</td>\n",
              "    </tr>\n",
              "    <tr>\n",
              "      <th>2013-01-03</th>\n",
              "      <td>-1.369718</td>\n",
              "      <td>-0.093956</td>\n",
              "      <td>-0.999872</td>\n",
              "      <td>-1.366689</td>\n",
              "    </tr>\n",
              "    <tr>\n",
              "      <th>2013-01-04</th>\n",
              "      <td>1.257230</td>\n",
              "      <td>-0.953440</td>\n",
              "      <td>1.711130</td>\n",
              "      <td>-0.534319</td>\n",
              "    </tr>\n",
              "    <tr>\n",
              "      <th>2013-01-05</th>\n",
              "      <td>0.329740</td>\n",
              "      <td>-0.390377</td>\n",
              "      <td>-1.728772</td>\n",
              "      <td>0.210941</td>\n",
              "    </tr>\n",
              "    <tr>\n",
              "      <th>2013-01-06</th>\n",
              "      <td>-0.954021</td>\n",
              "      <td>0.972756</td>\n",
              "      <td>-1.936965</td>\n",
              "      <td>0.191982</td>\n",
              "    </tr>\n",
              "  </tbody>\n",
              "</table>\n",
              "</div>"
            ],
            "text/plain": [
              "                   D         C         B         A\n",
              "2013-01-01  0.820371  0.353510  0.674208 -1.082453\n",
              "2013-01-02  0.823969 -0.480417  0.958289 -0.024646\n",
              "2013-01-03 -1.369718 -0.093956 -0.999872 -1.366689\n",
              "2013-01-04  1.257230 -0.953440  1.711130 -0.534319\n",
              "2013-01-05  0.329740 -0.390377 -1.728772  0.210941\n",
              "2013-01-06 -0.954021  0.972756 -1.936965  0.191982"
            ]
          },
          "metadata": {
            "tags": []
          },
          "execution_count": 78
        }
      ]
    },
    {
      "cell_type": "code",
      "metadata": {
        "id": "vFDyZ7ooo6PJ",
        "colab": {
          "base_uri": "https://localhost:8080/",
          "height": 233
        },
        "outputId": "b3136c6d-6ff5-49a2-eec0-683ac13a378b"
      },
      "source": [
        "df1.sort_values(by='B') # 값을 기준으로 정렬"
      ],
      "execution_count": 79,
      "outputs": [
        {
          "output_type": "execute_result",
          "data": {
            "text/html": [
              "<div>\n",
              "<style scoped>\n",
              "    .dataframe tbody tr th:only-of-type {\n",
              "        vertical-align: middle;\n",
              "    }\n",
              "\n",
              "    .dataframe tbody tr th {\n",
              "        vertical-align: top;\n",
              "    }\n",
              "\n",
              "    .dataframe thead th {\n",
              "        text-align: right;\n",
              "    }\n",
              "</style>\n",
              "<table border=\"1\" class=\"dataframe\">\n",
              "  <thead>\n",
              "    <tr style=\"text-align: right;\">\n",
              "      <th></th>\n",
              "      <th>A</th>\n",
              "      <th>B</th>\n",
              "      <th>C</th>\n",
              "      <th>D</th>\n",
              "    </tr>\n",
              "  </thead>\n",
              "  <tbody>\n",
              "    <tr>\n",
              "      <th>2013-01-06</th>\n",
              "      <td>0.191982</td>\n",
              "      <td>-1.936965</td>\n",
              "      <td>0.972756</td>\n",
              "      <td>-0.954021</td>\n",
              "    </tr>\n",
              "    <tr>\n",
              "      <th>2013-01-05</th>\n",
              "      <td>0.210941</td>\n",
              "      <td>-1.728772</td>\n",
              "      <td>-0.390377</td>\n",
              "      <td>0.329740</td>\n",
              "    </tr>\n",
              "    <tr>\n",
              "      <th>2013-01-03</th>\n",
              "      <td>-1.366689</td>\n",
              "      <td>-0.999872</td>\n",
              "      <td>-0.093956</td>\n",
              "      <td>-1.369718</td>\n",
              "    </tr>\n",
              "    <tr>\n",
              "      <th>2013-01-01</th>\n",
              "      <td>-1.082453</td>\n",
              "      <td>0.674208</td>\n",
              "      <td>0.353510</td>\n",
              "      <td>0.820371</td>\n",
              "    </tr>\n",
              "    <tr>\n",
              "      <th>2013-01-02</th>\n",
              "      <td>-0.024646</td>\n",
              "      <td>0.958289</td>\n",
              "      <td>-0.480417</td>\n",
              "      <td>0.823969</td>\n",
              "    </tr>\n",
              "    <tr>\n",
              "      <th>2013-01-04</th>\n",
              "      <td>-0.534319</td>\n",
              "      <td>1.711130</td>\n",
              "      <td>-0.953440</td>\n",
              "      <td>1.257230</td>\n",
              "    </tr>\n",
              "  </tbody>\n",
              "</table>\n",
              "</div>"
            ],
            "text/plain": [
              "                   A         B         C         D\n",
              "2013-01-06  0.191982 -1.936965  0.972756 -0.954021\n",
              "2013-01-05  0.210941 -1.728772 -0.390377  0.329740\n",
              "2013-01-03 -1.366689 -0.999872 -0.093956 -1.369718\n",
              "2013-01-01 -1.082453  0.674208  0.353510  0.820371\n",
              "2013-01-02 -0.024646  0.958289 -0.480417  0.823969\n",
              "2013-01-04 -0.534319  1.711130 -0.953440  1.257230"
            ]
          },
          "metadata": {
            "tags": []
          },
          "execution_count": 79
        }
      ]
    },
    {
      "cell_type": "code",
      "metadata": {
        "id": "HbAW9w6to6PK",
        "colab": {
          "base_uri": "https://localhost:8080/"
        },
        "outputId": "51cf2412-7da3-468e-c281-04155040533d"
      },
      "source": [
        "df1['A'] # 열 A 선택"
      ],
      "execution_count": 80,
      "outputs": [
        {
          "output_type": "execute_result",
          "data": {
            "text/plain": [
              "2013-01-01   -1.082453\n",
              "2013-01-02   -0.024646\n",
              "2013-01-03   -1.366689\n",
              "2013-01-04   -0.534319\n",
              "2013-01-05    0.210941\n",
              "2013-01-06    0.191982\n",
              "Freq: D, Name: A, dtype: float64"
            ]
          },
          "metadata": {
            "tags": []
          },
          "execution_count": 80
        }
      ]
    },
    {
      "cell_type": "code",
      "metadata": {
        "id": "OM_PillXo6PK",
        "colab": {
          "base_uri": "https://localhost:8080/",
          "height": 141
        },
        "outputId": "9e0ac6be-e0d3-4730-9358-cf27792ec81a"
      },
      "source": [
        "df1[0:3] # 인덱스 0~2 선택"
      ],
      "execution_count": 81,
      "outputs": [
        {
          "output_type": "execute_result",
          "data": {
            "text/html": [
              "<div>\n",
              "<style scoped>\n",
              "    .dataframe tbody tr th:only-of-type {\n",
              "        vertical-align: middle;\n",
              "    }\n",
              "\n",
              "    .dataframe tbody tr th {\n",
              "        vertical-align: top;\n",
              "    }\n",
              "\n",
              "    .dataframe thead th {\n",
              "        text-align: right;\n",
              "    }\n",
              "</style>\n",
              "<table border=\"1\" class=\"dataframe\">\n",
              "  <thead>\n",
              "    <tr style=\"text-align: right;\">\n",
              "      <th></th>\n",
              "      <th>A</th>\n",
              "      <th>B</th>\n",
              "      <th>C</th>\n",
              "      <th>D</th>\n",
              "    </tr>\n",
              "  </thead>\n",
              "  <tbody>\n",
              "    <tr>\n",
              "      <th>2013-01-01</th>\n",
              "      <td>-1.082453</td>\n",
              "      <td>0.674208</td>\n",
              "      <td>0.353510</td>\n",
              "      <td>0.820371</td>\n",
              "    </tr>\n",
              "    <tr>\n",
              "      <th>2013-01-02</th>\n",
              "      <td>-0.024646</td>\n",
              "      <td>0.958289</td>\n",
              "      <td>-0.480417</td>\n",
              "      <td>0.823969</td>\n",
              "    </tr>\n",
              "    <tr>\n",
              "      <th>2013-01-03</th>\n",
              "      <td>-1.366689</td>\n",
              "      <td>-0.999872</td>\n",
              "      <td>-0.093956</td>\n",
              "      <td>-1.369718</td>\n",
              "    </tr>\n",
              "  </tbody>\n",
              "</table>\n",
              "</div>"
            ],
            "text/plain": [
              "                   A         B         C         D\n",
              "2013-01-01 -1.082453  0.674208  0.353510  0.820371\n",
              "2013-01-02 -0.024646  0.958289 -0.480417  0.823969\n",
              "2013-01-03 -1.366689 -0.999872 -0.093956 -1.369718"
            ]
          },
          "metadata": {
            "tags": []
          },
          "execution_count": 81
        }
      ]
    },
    {
      "cell_type": "code",
      "metadata": {
        "id": "gykbHk66o6PK",
        "colab": {
          "base_uri": "https://localhost:8080/",
          "height": 141
        },
        "outputId": "01013698-a9ac-4989-cd5e-e77475ed11e9"
      },
      "source": [
        "df1['20130102':'20130104'] # 값과 일치하는 인덱스에서 선택"
      ],
      "execution_count": 82,
      "outputs": [
        {
          "output_type": "execute_result",
          "data": {
            "text/html": [
              "<div>\n",
              "<style scoped>\n",
              "    .dataframe tbody tr th:only-of-type {\n",
              "        vertical-align: middle;\n",
              "    }\n",
              "\n",
              "    .dataframe tbody tr th {\n",
              "        vertical-align: top;\n",
              "    }\n",
              "\n",
              "    .dataframe thead th {\n",
              "        text-align: right;\n",
              "    }\n",
              "</style>\n",
              "<table border=\"1\" class=\"dataframe\">\n",
              "  <thead>\n",
              "    <tr style=\"text-align: right;\">\n",
              "      <th></th>\n",
              "      <th>A</th>\n",
              "      <th>B</th>\n",
              "      <th>C</th>\n",
              "      <th>D</th>\n",
              "    </tr>\n",
              "  </thead>\n",
              "  <tbody>\n",
              "    <tr>\n",
              "      <th>2013-01-02</th>\n",
              "      <td>-0.024646</td>\n",
              "      <td>0.958289</td>\n",
              "      <td>-0.480417</td>\n",
              "      <td>0.823969</td>\n",
              "    </tr>\n",
              "    <tr>\n",
              "      <th>2013-01-03</th>\n",
              "      <td>-1.366689</td>\n",
              "      <td>-0.999872</td>\n",
              "      <td>-0.093956</td>\n",
              "      <td>-1.369718</td>\n",
              "    </tr>\n",
              "    <tr>\n",
              "      <th>2013-01-04</th>\n",
              "      <td>-0.534319</td>\n",
              "      <td>1.711130</td>\n",
              "      <td>-0.953440</td>\n",
              "      <td>1.257230</td>\n",
              "    </tr>\n",
              "  </tbody>\n",
              "</table>\n",
              "</div>"
            ],
            "text/plain": [
              "                   A         B         C         D\n",
              "2013-01-02 -0.024646  0.958289 -0.480417  0.823969\n",
              "2013-01-03 -1.366689 -0.999872 -0.093956 -1.369718\n",
              "2013-01-04 -0.534319  1.711130 -0.953440  1.257230"
            ]
          },
          "metadata": {
            "tags": []
          },
          "execution_count": 82
        }
      ]
    },
    {
      "cell_type": "code",
      "metadata": {
        "id": "coIPfaooo6PK",
        "colab": {
          "base_uri": "https://localhost:8080/",
          "height": 233
        },
        "outputId": "e1f92e19-0391-44f7-ad25-032ca93be212"
      },
      "source": [
        "df1.loc[:, ['A', 'B']] # 레이블로 다중 축 선택"
      ],
      "execution_count": 83,
      "outputs": [
        {
          "output_type": "execute_result",
          "data": {
            "text/html": [
              "<div>\n",
              "<style scoped>\n",
              "    .dataframe tbody tr th:only-of-type {\n",
              "        vertical-align: middle;\n",
              "    }\n",
              "\n",
              "    .dataframe tbody tr th {\n",
              "        vertical-align: top;\n",
              "    }\n",
              "\n",
              "    .dataframe thead th {\n",
              "        text-align: right;\n",
              "    }\n",
              "</style>\n",
              "<table border=\"1\" class=\"dataframe\">\n",
              "  <thead>\n",
              "    <tr style=\"text-align: right;\">\n",
              "      <th></th>\n",
              "      <th>A</th>\n",
              "      <th>B</th>\n",
              "    </tr>\n",
              "  </thead>\n",
              "  <tbody>\n",
              "    <tr>\n",
              "      <th>2013-01-01</th>\n",
              "      <td>-1.082453</td>\n",
              "      <td>0.674208</td>\n",
              "    </tr>\n",
              "    <tr>\n",
              "      <th>2013-01-02</th>\n",
              "      <td>-0.024646</td>\n",
              "      <td>0.958289</td>\n",
              "    </tr>\n",
              "    <tr>\n",
              "      <th>2013-01-03</th>\n",
              "      <td>-1.366689</td>\n",
              "      <td>-0.999872</td>\n",
              "    </tr>\n",
              "    <tr>\n",
              "      <th>2013-01-04</th>\n",
              "      <td>-0.534319</td>\n",
              "      <td>1.711130</td>\n",
              "    </tr>\n",
              "    <tr>\n",
              "      <th>2013-01-05</th>\n",
              "      <td>0.210941</td>\n",
              "      <td>-1.728772</td>\n",
              "    </tr>\n",
              "    <tr>\n",
              "      <th>2013-01-06</th>\n",
              "      <td>0.191982</td>\n",
              "      <td>-1.936965</td>\n",
              "    </tr>\n",
              "  </tbody>\n",
              "</table>\n",
              "</div>"
            ],
            "text/plain": [
              "                   A         B\n",
              "2013-01-01 -1.082453  0.674208\n",
              "2013-01-02 -0.024646  0.958289\n",
              "2013-01-03 -1.366689 -0.999872\n",
              "2013-01-04 -0.534319  1.711130\n",
              "2013-01-05  0.210941 -1.728772\n",
              "2013-01-06  0.191982 -1.936965"
            ]
          },
          "metadata": {
            "tags": []
          },
          "execution_count": 83
        }
      ]
    },
    {
      "cell_type": "code",
      "metadata": {
        "id": "6brgsBoUo6PK",
        "colab": {
          "base_uri": "https://localhost:8080/"
        },
        "outputId": "042cfb70-35d9-4e46-c8bb-95bfbcbe7a82"
      },
      "source": [
        "df1.iloc[3] # 전달된 정수의 위치를 통해 선택"
      ],
      "execution_count": 84,
      "outputs": [
        {
          "output_type": "execute_result",
          "data": {
            "text/plain": [
              "A   -0.534319\n",
              "B    1.711130\n",
              "C   -0.953440\n",
              "D    1.257230\n",
              "Name: 2013-01-04 00:00:00, dtype: float64"
            ]
          },
          "metadata": {
            "tags": []
          },
          "execution_count": 84
        }
      ]
    },
    {
      "cell_type": "code",
      "metadata": {
        "id": "PeR5I9C8o6PK",
        "colab": {
          "base_uri": "https://localhost:8080/",
          "height": 233
        },
        "outputId": "061e4069-3b29-4314-90b1-c9cc9db45eeb"
      },
      "source": [
        "df1[df1 > 0] # 부울 조건이 충족되는 DataFrame에서 값 선택"
      ],
      "execution_count": 85,
      "outputs": [
        {
          "output_type": "execute_result",
          "data": {
            "text/html": [
              "<div>\n",
              "<style scoped>\n",
              "    .dataframe tbody tr th:only-of-type {\n",
              "        vertical-align: middle;\n",
              "    }\n",
              "\n",
              "    .dataframe tbody tr th {\n",
              "        vertical-align: top;\n",
              "    }\n",
              "\n",
              "    .dataframe thead th {\n",
              "        text-align: right;\n",
              "    }\n",
              "</style>\n",
              "<table border=\"1\" class=\"dataframe\">\n",
              "  <thead>\n",
              "    <tr style=\"text-align: right;\">\n",
              "      <th></th>\n",
              "      <th>A</th>\n",
              "      <th>B</th>\n",
              "      <th>C</th>\n",
              "      <th>D</th>\n",
              "    </tr>\n",
              "  </thead>\n",
              "  <tbody>\n",
              "    <tr>\n",
              "      <th>2013-01-01</th>\n",
              "      <td>NaN</td>\n",
              "      <td>0.674208</td>\n",
              "      <td>0.353510</td>\n",
              "      <td>0.820371</td>\n",
              "    </tr>\n",
              "    <tr>\n",
              "      <th>2013-01-02</th>\n",
              "      <td>NaN</td>\n",
              "      <td>0.958289</td>\n",
              "      <td>NaN</td>\n",
              "      <td>0.823969</td>\n",
              "    </tr>\n",
              "    <tr>\n",
              "      <th>2013-01-03</th>\n",
              "      <td>NaN</td>\n",
              "      <td>NaN</td>\n",
              "      <td>NaN</td>\n",
              "      <td>NaN</td>\n",
              "    </tr>\n",
              "    <tr>\n",
              "      <th>2013-01-04</th>\n",
              "      <td>NaN</td>\n",
              "      <td>1.711130</td>\n",
              "      <td>NaN</td>\n",
              "      <td>1.257230</td>\n",
              "    </tr>\n",
              "    <tr>\n",
              "      <th>2013-01-05</th>\n",
              "      <td>0.210941</td>\n",
              "      <td>NaN</td>\n",
              "      <td>NaN</td>\n",
              "      <td>0.329740</td>\n",
              "    </tr>\n",
              "    <tr>\n",
              "      <th>2013-01-06</th>\n",
              "      <td>0.191982</td>\n",
              "      <td>NaN</td>\n",
              "      <td>0.972756</td>\n",
              "      <td>NaN</td>\n",
              "    </tr>\n",
              "  </tbody>\n",
              "</table>\n",
              "</div>"
            ],
            "text/plain": [
              "                   A         B         C         D\n",
              "2013-01-01       NaN  0.674208  0.353510  0.820371\n",
              "2013-01-02       NaN  0.958289       NaN  0.823969\n",
              "2013-01-03       NaN       NaN       NaN       NaN\n",
              "2013-01-04       NaN  1.711130       NaN  1.257230\n",
              "2013-01-05  0.210941       NaN       NaN  0.329740\n",
              "2013-01-06  0.191982       NaN  0.972756       NaN"
            ]
          },
          "metadata": {
            "tags": []
          },
          "execution_count": 85
        }
      ]
    },
    {
      "cell_type": "code",
      "metadata": {
        "id": "Ga3l51ufo6PK",
        "colab": {
          "base_uri": "https://localhost:8080/",
          "height": 110
        },
        "outputId": "97b6d35c-2696-41b9-cc39-699e35b40c1a"
      },
      "source": [
        "df2 = df1.copy() # df1 데이터 집합을 df2로 복사\n",
        "df2['E'] = ['one', 'one', 'two', 'three', 'four', 'three'] # 값과 함께 열 E 추가\n",
        "df2[df2['E'].isin(['two', 'four'])] # isin 메서드를 사용하여 필터링"
      ],
      "execution_count": 86,
      "outputs": [
        {
          "output_type": "execute_result",
          "data": {
            "text/html": [
              "<div>\n",
              "<style scoped>\n",
              "    .dataframe tbody tr th:only-of-type {\n",
              "        vertical-align: middle;\n",
              "    }\n",
              "\n",
              "    .dataframe tbody tr th {\n",
              "        vertical-align: top;\n",
              "    }\n",
              "\n",
              "    .dataframe thead th {\n",
              "        text-align: right;\n",
              "    }\n",
              "</style>\n",
              "<table border=\"1\" class=\"dataframe\">\n",
              "  <thead>\n",
              "    <tr style=\"text-align: right;\">\n",
              "      <th></th>\n",
              "      <th>A</th>\n",
              "      <th>B</th>\n",
              "      <th>C</th>\n",
              "      <th>D</th>\n",
              "      <th>E</th>\n",
              "    </tr>\n",
              "  </thead>\n",
              "  <tbody>\n",
              "    <tr>\n",
              "      <th>2013-01-03</th>\n",
              "      <td>-1.366689</td>\n",
              "      <td>-0.999872</td>\n",
              "      <td>-0.093956</td>\n",
              "      <td>-1.369718</td>\n",
              "      <td>two</td>\n",
              "    </tr>\n",
              "    <tr>\n",
              "      <th>2013-01-05</th>\n",
              "      <td>0.210941</td>\n",
              "      <td>-1.728772</td>\n",
              "      <td>-0.390377</td>\n",
              "      <td>0.329740</td>\n",
              "      <td>four</td>\n",
              "    </tr>\n",
              "  </tbody>\n",
              "</table>\n",
              "</div>"
            ],
            "text/plain": [
              "                   A         B         C         D     E\n",
              "2013-01-03 -1.366689 -0.999872 -0.093956 -1.369718   two\n",
              "2013-01-05  0.210941 -1.728772 -0.390377  0.329740  four"
            ]
          },
          "metadata": {
            "tags": []
          },
          "execution_count": 86
        }
      ]
    },
    {
      "cell_type": "markdown",
      "metadata": {
        "id": "XT0Ct75Vo6PK"
      },
      "source": [
        "### 결측 데이터\n",
        "\n",
        "Pandas는 주로 `np.nan` 값을 사용하여 결측 데이터를 나타냅니다. 이는 기본적으로 계산에 포함되지 않습니다."
      ]
    },
    {
      "cell_type": "code",
      "metadata": {
        "id": "z4I02MZwo6PL"
      },
      "source": [
        "df = pd.DataFrame({'num_legs': [2, 4, np.nan, 0],\n",
        "                   'num_wings': [2, 0, 0, 0],\n",
        "                   'num_specimen_seen': [10, np.nan, 1, 8]},\n",
        "                   index=['falcon', 'dog', 'spider', 'fish'])"
      ],
      "execution_count": 87,
      "outputs": []
    },
    {
      "cell_type": "code",
      "metadata": {
        "id": "0Fmik42Vo6PL",
        "colab": {
          "base_uri": "https://localhost:8080/",
          "height": 110
        },
        "outputId": "f947e167-0605-4331-947f-464c0be15a1d"
      },
      "source": [
        "df.dropna(how='any') # 결측 데이터가 있는 모든 행 삭제"
      ],
      "execution_count": 88,
      "outputs": [
        {
          "output_type": "execute_result",
          "data": {
            "text/html": [
              "<div>\n",
              "<style scoped>\n",
              "    .dataframe tbody tr th:only-of-type {\n",
              "        vertical-align: middle;\n",
              "    }\n",
              "\n",
              "    .dataframe tbody tr th {\n",
              "        vertical-align: top;\n",
              "    }\n",
              "\n",
              "    .dataframe thead th {\n",
              "        text-align: right;\n",
              "    }\n",
              "</style>\n",
              "<table border=\"1\" class=\"dataframe\">\n",
              "  <thead>\n",
              "    <tr style=\"text-align: right;\">\n",
              "      <th></th>\n",
              "      <th>num_legs</th>\n",
              "      <th>num_wings</th>\n",
              "      <th>num_specimen_seen</th>\n",
              "    </tr>\n",
              "  </thead>\n",
              "  <tbody>\n",
              "    <tr>\n",
              "      <th>falcon</th>\n",
              "      <td>2.0</td>\n",
              "      <td>2</td>\n",
              "      <td>10.0</td>\n",
              "    </tr>\n",
              "    <tr>\n",
              "      <th>fish</th>\n",
              "      <td>0.0</td>\n",
              "      <td>0</td>\n",
              "      <td>8.0</td>\n",
              "    </tr>\n",
              "  </tbody>\n",
              "</table>\n",
              "</div>"
            ],
            "text/plain": [
              "        num_legs  num_wings  num_specimen_seen\n",
              "falcon       2.0          2               10.0\n",
              "fish         0.0          0                8.0"
            ]
          },
          "metadata": {
            "tags": []
          },
          "execution_count": 88
        }
      ]
    },
    {
      "cell_type": "code",
      "metadata": {
        "id": "aHGcRE9Lo6PL",
        "colab": {
          "base_uri": "https://localhost:8080/",
          "height": 171
        },
        "outputId": "c1cd7a7b-40e6-4bf8-e449-cbd834a5db9e"
      },
      "source": [
        "df.dropna(how='any', axis=1) # 결측 데이터가 있는 모든 열 삭제"
      ],
      "execution_count": 89,
      "outputs": [
        {
          "output_type": "execute_result",
          "data": {
            "text/html": [
              "<div>\n",
              "<style scoped>\n",
              "    .dataframe tbody tr th:only-of-type {\n",
              "        vertical-align: middle;\n",
              "    }\n",
              "\n",
              "    .dataframe tbody tr th {\n",
              "        vertical-align: top;\n",
              "    }\n",
              "\n",
              "    .dataframe thead th {\n",
              "        text-align: right;\n",
              "    }\n",
              "</style>\n",
              "<table border=\"1\" class=\"dataframe\">\n",
              "  <thead>\n",
              "    <tr style=\"text-align: right;\">\n",
              "      <th></th>\n",
              "      <th>num_wings</th>\n",
              "    </tr>\n",
              "  </thead>\n",
              "  <tbody>\n",
              "    <tr>\n",
              "      <th>falcon</th>\n",
              "      <td>2</td>\n",
              "    </tr>\n",
              "    <tr>\n",
              "      <th>dog</th>\n",
              "      <td>0</td>\n",
              "    </tr>\n",
              "    <tr>\n",
              "      <th>spider</th>\n",
              "      <td>0</td>\n",
              "    </tr>\n",
              "    <tr>\n",
              "      <th>fish</th>\n",
              "      <td>0</td>\n",
              "    </tr>\n",
              "  </tbody>\n",
              "</table>\n",
              "</div>"
            ],
            "text/plain": [
              "        num_wings\n",
              "falcon          2\n",
              "dog             0\n",
              "spider          0\n",
              "fish            0"
            ]
          },
          "metadata": {
            "tags": []
          },
          "execution_count": 89
        }
      ]
    },
    {
      "cell_type": "code",
      "metadata": {
        "id": "SXn2yeqco6PL",
        "colab": {
          "base_uri": "https://localhost:8080/",
          "height": 171
        },
        "outputId": "18bec0c6-29c4-47a0-b2bb-dbcbe0173681"
      },
      "source": [
        "df.fillna(value=5) # 결측 데이터를 값 5로 채우기"
      ],
      "execution_count": 90,
      "outputs": [
        {
          "output_type": "execute_result",
          "data": {
            "text/html": [
              "<div>\n",
              "<style scoped>\n",
              "    .dataframe tbody tr th:only-of-type {\n",
              "        vertical-align: middle;\n",
              "    }\n",
              "\n",
              "    .dataframe tbody tr th {\n",
              "        vertical-align: top;\n",
              "    }\n",
              "\n",
              "    .dataframe thead th {\n",
              "        text-align: right;\n",
              "    }\n",
              "</style>\n",
              "<table border=\"1\" class=\"dataframe\">\n",
              "  <thead>\n",
              "    <tr style=\"text-align: right;\">\n",
              "      <th></th>\n",
              "      <th>num_legs</th>\n",
              "      <th>num_wings</th>\n",
              "      <th>num_specimen_seen</th>\n",
              "    </tr>\n",
              "  </thead>\n",
              "  <tbody>\n",
              "    <tr>\n",
              "      <th>falcon</th>\n",
              "      <td>2.0</td>\n",
              "      <td>2</td>\n",
              "      <td>10.0</td>\n",
              "    </tr>\n",
              "    <tr>\n",
              "      <th>dog</th>\n",
              "      <td>4.0</td>\n",
              "      <td>0</td>\n",
              "      <td>5.0</td>\n",
              "    </tr>\n",
              "    <tr>\n",
              "      <th>spider</th>\n",
              "      <td>5.0</td>\n",
              "      <td>0</td>\n",
              "      <td>1.0</td>\n",
              "    </tr>\n",
              "    <tr>\n",
              "      <th>fish</th>\n",
              "      <td>0.0</td>\n",
              "      <td>0</td>\n",
              "      <td>8.0</td>\n",
              "    </tr>\n",
              "  </tbody>\n",
              "</table>\n",
              "</div>"
            ],
            "text/plain": [
              "        num_legs  num_wings  num_specimen_seen\n",
              "falcon       2.0          2               10.0\n",
              "dog          4.0          0                5.0\n",
              "spider       5.0          0                1.0\n",
              "fish         0.0          0                8.0"
            ]
          },
          "metadata": {
            "tags": []
          },
          "execution_count": 90
        }
      ]
    },
    {
      "cell_type": "code",
      "metadata": {
        "id": "O3uxjro9o6PL",
        "colab": {
          "base_uri": "https://localhost:8080/",
          "height": 171
        },
        "outputId": "565d6a5b-1a3c-4fda-d633-4218bce45ece"
      },
      "source": [
        "pd.isna(df) # 결측 데이터가 있는 곳에 부울 마스크 가져오기"
      ],
      "execution_count": 91,
      "outputs": [
        {
          "output_type": "execute_result",
          "data": {
            "text/html": [
              "<div>\n",
              "<style scoped>\n",
              "    .dataframe tbody tr th:only-of-type {\n",
              "        vertical-align: middle;\n",
              "    }\n",
              "\n",
              "    .dataframe tbody tr th {\n",
              "        vertical-align: top;\n",
              "    }\n",
              "\n",
              "    .dataframe thead th {\n",
              "        text-align: right;\n",
              "    }\n",
              "</style>\n",
              "<table border=\"1\" class=\"dataframe\">\n",
              "  <thead>\n",
              "    <tr style=\"text-align: right;\">\n",
              "      <th></th>\n",
              "      <th>num_legs</th>\n",
              "      <th>num_wings</th>\n",
              "      <th>num_specimen_seen</th>\n",
              "    </tr>\n",
              "  </thead>\n",
              "  <tbody>\n",
              "    <tr>\n",
              "      <th>falcon</th>\n",
              "      <td>False</td>\n",
              "      <td>False</td>\n",
              "      <td>False</td>\n",
              "    </tr>\n",
              "    <tr>\n",
              "      <th>dog</th>\n",
              "      <td>False</td>\n",
              "      <td>False</td>\n",
              "      <td>True</td>\n",
              "    </tr>\n",
              "    <tr>\n",
              "      <th>spider</th>\n",
              "      <td>True</td>\n",
              "      <td>False</td>\n",
              "      <td>False</td>\n",
              "    </tr>\n",
              "    <tr>\n",
              "      <th>fish</th>\n",
              "      <td>False</td>\n",
              "      <td>False</td>\n",
              "      <td>False</td>\n",
              "    </tr>\n",
              "  </tbody>\n",
              "</table>\n",
              "</div>"
            ],
            "text/plain": [
              "        num_legs  num_wings  num_specimen_seen\n",
              "falcon     False      False              False\n",
              "dog        False      False               True\n",
              "spider      True      False              False\n",
              "fish       False      False              False"
            ]
          },
          "metadata": {
            "tags": []
          },
          "execution_count": 91
        }
      ]
    },
    {
      "cell_type": "markdown",
      "metadata": {
        "id": "LZwSm8DJo6PL"
      },
      "source": [
        "### 파일 처리"
      ]
    },
    {
      "cell_type": "code",
      "metadata": {
        "id": "BRhuhLQSo6PM"
      },
      "source": [
        "df = pd.DataFrame({'num_legs': [2, 4, np.nan, 0],\n",
        "                   'num_wings': [2, 0, 0, 0],\n",
        "                   'num_specimen_seen': [10, np.nan, 1, 8]},\n",
        "                   index=['falcon', 'dog', 'spider', 'fish'])"
      ],
      "execution_count": 92,
      "outputs": []
    },
    {
      "cell_type": "code",
      "metadata": {
        "id": "HAcdr_dBo6PM"
      },
      "source": [
        "df.to_csv('foo.csv') # CSV 파일에 쓰기"
      ],
      "execution_count": 93,
      "outputs": []
    },
    {
      "cell_type": "code",
      "metadata": {
        "id": "q0ssyI_uo6PM",
        "colab": {
          "base_uri": "https://localhost:8080/",
          "height": 171
        },
        "outputId": "1d0aa0a2-1bd2-4306-8440-820e230d8c5d"
      },
      "source": [
        "pd.read_csv('foo.csv') # CSV 파일에서 읽기"
      ],
      "execution_count": 94,
      "outputs": [
        {
          "output_type": "execute_result",
          "data": {
            "text/html": [
              "<div>\n",
              "<style scoped>\n",
              "    .dataframe tbody tr th:only-of-type {\n",
              "        vertical-align: middle;\n",
              "    }\n",
              "\n",
              "    .dataframe tbody tr th {\n",
              "        vertical-align: top;\n",
              "    }\n",
              "\n",
              "    .dataframe thead th {\n",
              "        text-align: right;\n",
              "    }\n",
              "</style>\n",
              "<table border=\"1\" class=\"dataframe\">\n",
              "  <thead>\n",
              "    <tr style=\"text-align: right;\">\n",
              "      <th></th>\n",
              "      <th>Unnamed: 0</th>\n",
              "      <th>num_legs</th>\n",
              "      <th>num_wings</th>\n",
              "      <th>num_specimen_seen</th>\n",
              "    </tr>\n",
              "  </thead>\n",
              "  <tbody>\n",
              "    <tr>\n",
              "      <th>0</th>\n",
              "      <td>falcon</td>\n",
              "      <td>2.0</td>\n",
              "      <td>2</td>\n",
              "      <td>10.0</td>\n",
              "    </tr>\n",
              "    <tr>\n",
              "      <th>1</th>\n",
              "      <td>dog</td>\n",
              "      <td>4.0</td>\n",
              "      <td>0</td>\n",
              "      <td>NaN</td>\n",
              "    </tr>\n",
              "    <tr>\n",
              "      <th>2</th>\n",
              "      <td>spider</td>\n",
              "      <td>NaN</td>\n",
              "      <td>0</td>\n",
              "      <td>1.0</td>\n",
              "    </tr>\n",
              "    <tr>\n",
              "      <th>3</th>\n",
              "      <td>fish</td>\n",
              "      <td>0.0</td>\n",
              "      <td>0</td>\n",
              "      <td>8.0</td>\n",
              "    </tr>\n",
              "  </tbody>\n",
              "</table>\n",
              "</div>"
            ],
            "text/plain": [
              "  Unnamed: 0  num_legs  num_wings  num_specimen_seen\n",
              "0     falcon       2.0          2               10.0\n",
              "1        dog       4.0          0                NaN\n",
              "2     spider       NaN          0                1.0\n",
              "3       fish       0.0          0                8.0"
            ]
          },
          "metadata": {
            "tags": []
          },
          "execution_count": 94
        }
      ]
    },
    {
      "cell_type": "code",
      "metadata": {
        "id": "dp7s_QUho6PM"
      },
      "source": [
        "df.to_excel('foo.xlsx', sheet_name='Sheet1') # Microsoft Excel 파일에 쓰기"
      ],
      "execution_count": 95,
      "outputs": []
    },
    {
      "cell_type": "code",
      "metadata": {
        "id": "N4qbQLXYo6PM",
        "colab": {
          "base_uri": "https://localhost:8080/",
          "height": 171
        },
        "outputId": "df901de5-616e-4cbe-c7ef-de87cf17d699"
      },
      "source": [
        "pd.read_excel('foo.xlsx', 'Sheet1', index_col=None, na_values=['NA']) # Microsoft Excel 파일에서 읽기"
      ],
      "execution_count": 96,
      "outputs": [
        {
          "output_type": "execute_result",
          "data": {
            "text/html": [
              "<div>\n",
              "<style scoped>\n",
              "    .dataframe tbody tr th:only-of-type {\n",
              "        vertical-align: middle;\n",
              "    }\n",
              "\n",
              "    .dataframe tbody tr th {\n",
              "        vertical-align: top;\n",
              "    }\n",
              "\n",
              "    .dataframe thead th {\n",
              "        text-align: right;\n",
              "    }\n",
              "</style>\n",
              "<table border=\"1\" class=\"dataframe\">\n",
              "  <thead>\n",
              "    <tr style=\"text-align: right;\">\n",
              "      <th></th>\n",
              "      <th>Unnamed: 0</th>\n",
              "      <th>num_legs</th>\n",
              "      <th>num_wings</th>\n",
              "      <th>num_specimen_seen</th>\n",
              "    </tr>\n",
              "  </thead>\n",
              "  <tbody>\n",
              "    <tr>\n",
              "      <th>0</th>\n",
              "      <td>falcon</td>\n",
              "      <td>2.0</td>\n",
              "      <td>2</td>\n",
              "      <td>10.0</td>\n",
              "    </tr>\n",
              "    <tr>\n",
              "      <th>1</th>\n",
              "      <td>dog</td>\n",
              "      <td>4.0</td>\n",
              "      <td>0</td>\n",
              "      <td>NaN</td>\n",
              "    </tr>\n",
              "    <tr>\n",
              "      <th>2</th>\n",
              "      <td>spider</td>\n",
              "      <td>NaN</td>\n",
              "      <td>0</td>\n",
              "      <td>1.0</td>\n",
              "    </tr>\n",
              "    <tr>\n",
              "      <th>3</th>\n",
              "      <td>fish</td>\n",
              "      <td>0.0</td>\n",
              "      <td>0</td>\n",
              "      <td>8.0</td>\n",
              "    </tr>\n",
              "  </tbody>\n",
              "</table>\n",
              "</div>"
            ],
            "text/plain": [
              "  Unnamed: 0  num_legs  num_wings  num_specimen_seen\n",
              "0     falcon       2.0          2               10.0\n",
              "1        dog       4.0          0                NaN\n",
              "2     spider       NaN          0                1.0\n",
              "3       fish       0.0          0                8.0"
            ]
          },
          "metadata": {
            "tags": []
          },
          "execution_count": 96
        }
      ]
    },
    {
      "cell_type": "markdown",
      "metadata": {
        "id": "ZkIj-8HPo6PM"
      },
      "source": [
        "### 그리기"
      ]
    },
    {
      "cell_type": "code",
      "metadata": {
        "id": "3sVa2xXPo6PM",
        "colab": {
          "base_uri": "https://localhost:8080/"
        },
        "outputId": "4ce05e29-f58f-442c-8dc1-e0702355756c"
      },
      "source": [
        "# pip를 사용하여 Matplotlib 설치\n",
        "!pip install matplotlib"
      ],
      "execution_count": 97,
      "outputs": [
        {
          "output_type": "stream",
          "text": [
            "Requirement already satisfied: matplotlib in /usr/local/lib/python3.7/dist-packages (3.2.2)\n",
            "Requirement already satisfied: numpy>=1.11 in /usr/local/lib/python3.7/dist-packages (from matplotlib) (1.19.5)\n",
            "Requirement already satisfied: pyparsing!=2.0.4,!=2.1.2,!=2.1.6,>=2.0.1 in /usr/local/lib/python3.7/dist-packages (from matplotlib) (2.4.7)\n",
            "Requirement already satisfied: kiwisolver>=1.0.1 in /usr/local/lib/python3.7/dist-packages (from matplotlib) (1.3.1)\n",
            "Requirement already satisfied: python-dateutil>=2.1 in /usr/local/lib/python3.7/dist-packages (from matplotlib) (2.8.1)\n",
            "Requirement already satisfied: cycler>=0.10 in /usr/local/lib/python3.7/dist-packages (from matplotlib) (0.10.0)\n",
            "Requirement already satisfied: six>=1.5 in /usr/local/lib/python3.7/dist-packages (from python-dateutil>=2.1->matplotlib) (1.15.0)\n"
          ],
          "name": "stdout"
        }
      ]
    },
    {
      "cell_type": "code",
      "metadata": {
        "id": "AT0Gx-uHo6PM"
      },
      "source": [
        "from matplotlib import pyplot as plt # Import Matplotlib module"
      ],
      "execution_count": 98,
      "outputs": []
    },
    {
      "cell_type": "code",
      "metadata": {
        "id": "cLa4FEpSo6PN",
        "colab": {
          "base_uri": "https://localhost:8080/"
        },
        "outputId": "4346fadb-3063-4dee-c4d9-2e71970a4484"
      },
      "source": [
        "# 랜덤 시계열 데이터 생성\n",
        "ts = pd.Series(np.random.randn(1000),index=pd.date_range('1/1/2000', periods=1000)) \n",
        "ts.head()"
      ],
      "execution_count": 99,
      "outputs": [
        {
          "output_type": "execute_result",
          "data": {
            "text/plain": [
              "2000-01-01   -0.002442\n",
              "2000-01-02   -1.033369\n",
              "2000-01-03    0.065214\n",
              "2000-01-04    0.654787\n",
              "2000-01-05   -1.282278\n",
              "Freq: D, dtype: float64"
            ]
          },
          "metadata": {
            "tags": []
          },
          "execution_count": 99
        }
      ]
    },
    {
      "cell_type": "code",
      "metadata": {
        "id": "wyHbO5kKo6PN",
        "colab": {
          "base_uri": "https://localhost:8080/",
          "height": 277
        },
        "outputId": "b9cea04f-983f-42ef-8f5e-4342699d81a8"
      },
      "source": [
        "ts = ts.cumsum()\n",
        "ts.plot() # 그래프 그리기\n",
        "plt.show()"
      ],
      "execution_count": 100,
      "outputs": [
        {
          "output_type": "display_data",
          "data": {
            "image/png": "[encoded data removed]",
            "text/plain": [
              "<Figure size 432x288 with 1 Axes>"
            ]
          },
          "metadata": {
            "tags": [],
            "needs_background": "light"
          }
        }
      ]
    },
    {
      "cell_type": "code",
      "metadata": {
        "id": "PiVJQkXNo6PN",
        "colab": {
          "base_uri": "https://localhost:8080/",
          "height": 202
        },
        "outputId": "fc8c6560-f8c9-42e0-a98e-ef42f9d67ebf"
      },
      "source": [
        "# DataFrame에서 plot() 메서드는 모든 열을 레이블과 함께 그리는 데 편리합니다.\n",
        "df4 = pd.DataFrame(np.random.randn(1000, 4), index=ts.index,columns=['A', 'B', 'C', 'D'])\n",
        "df4 = df4.cumsum()\n",
        "df4.head()"
      ],
      "execution_count": 101,
      "outputs": [
        {
          "output_type": "execute_result",
          "data": {
            "text/html": [
              "<div>\n",
              "<style scoped>\n",
              "    .dataframe tbody tr th:only-of-type {\n",
              "        vertical-align: middle;\n",
              "    }\n",
              "\n",
              "    .dataframe tbody tr th {\n",
              "        vertical-align: top;\n",
              "    }\n",
              "\n",
              "    .dataframe thead th {\n",
              "        text-align: right;\n",
              "    }\n",
              "</style>\n",
              "<table border=\"1\" class=\"dataframe\">\n",
              "  <thead>\n",
              "    <tr style=\"text-align: right;\">\n",
              "      <th></th>\n",
              "      <th>A</th>\n",
              "      <th>B</th>\n",
              "      <th>C</th>\n",
              "      <th>D</th>\n",
              "    </tr>\n",
              "  </thead>\n",
              "  <tbody>\n",
              "    <tr>\n",
              "      <th>2000-01-01</th>\n",
              "      <td>-1.835493</td>\n",
              "      <td>-0.310491</td>\n",
              "      <td>0.470364</td>\n",
              "      <td>0.222543</td>\n",
              "    </tr>\n",
              "    <tr>\n",
              "      <th>2000-01-02</th>\n",
              "      <td>-1.893925</td>\n",
              "      <td>-2.057127</td>\n",
              "      <td>-0.198785</td>\n",
              "      <td>1.747647</td>\n",
              "    </tr>\n",
              "    <tr>\n",
              "      <th>2000-01-03</th>\n",
              "      <td>-2.373926</td>\n",
              "      <td>-2.365921</td>\n",
              "      <td>-1.741819</td>\n",
              "      <td>1.153093</td>\n",
              "    </tr>\n",
              "    <tr>\n",
              "      <th>2000-01-04</th>\n",
              "      <td>-3.296502</td>\n",
              "      <td>-3.976367</td>\n",
              "      <td>-1.940852</td>\n",
              "      <td>1.321711</td>\n",
              "    </tr>\n",
              "    <tr>\n",
              "      <th>2000-01-05</th>\n",
              "      <td>-4.594726</td>\n",
              "      <td>-5.370270</td>\n",
              "      <td>-0.764232</td>\n",
              "      <td>2.738918</td>\n",
              "    </tr>\n",
              "  </tbody>\n",
              "</table>\n",
              "</div>"
            ],
            "text/plain": [
              "                   A         B         C         D\n",
              "2000-01-01 -1.835493 -0.310491  0.470364  0.222543\n",
              "2000-01-02 -1.893925 -2.057127 -0.198785  1.747647\n",
              "2000-01-03 -2.373926 -2.365921 -1.741819  1.153093\n",
              "2000-01-04 -3.296502 -3.976367 -1.940852  1.321711\n",
              "2000-01-05 -4.594726 -5.370270 -0.764232  2.738918"
            ]
          },
          "metadata": {
            "tags": []
          },
          "execution_count": 101
        }
      ]
    },
    {
      "cell_type": "code",
      "metadata": {
        "id": "QcoDYMyqo6PN",
        "colab": {
          "base_uri": "https://localhost:8080/",
          "height": 277
        },
        "outputId": "7c1559bc-634a-435b-ec65-b7e17d2242b7"
      },
      "source": [
        "df4.plot()\n",
        "plt.show()"
      ],
      "execution_count": 102,
      "outputs": [
        {
          "output_type": "display_data",
          "data": {
            "image/png": "[encoded data removed]",
            "text/plain": [
              "<Figure size 432x288 with 1 Axes>"
            ]
          },
          "metadata": {
            "tags": [],
            "needs_background": "light"
          }
        }
      ]
    }
  ]
}