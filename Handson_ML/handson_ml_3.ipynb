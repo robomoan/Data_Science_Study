{
  "nbformat": 4,
  "nbformat_minor": 0,
  "metadata": {
    "colab": {
      "name": "handson_ml_3.ipynb",
      "provenance": [],
      "collapsed_sections": [],
      "authorship_tag": "ABX9TyN6U5meR8eNtDyVQChiURO3",
      "include_colab_link": true
    },
    "kernelspec": {
      "name": "python3",
      "display_name": "Python 3"
    },
    "language_info": {
      "name": "python"
    }
  },
  "cells": [
    {
      "cell_type": "markdown",
      "metadata": {
        "id": "view-in-github",
        "colab_type": "text"
      },
      "source": [
        "<a href=\"https://colab.research.google.com/github/robomoan/Data_Science_Study/blob/main/Handson_ML/handson_ml_3.ipynb\" target=\"_parent\"><img src=\"https://colab.research.google.com/assets/colab-badge.svg\" alt=\"Open In Colab\"/></a>"
      ]
    },
    {
      "cell_type": "code",
      "execution_count": 59,
      "metadata": {
        "id": "e21ttxX_q9Lh"
      },
      "outputs": [],
      "source": [
        "import numpy as np\n",
        "import pandas as pd\n",
        "import matplotlib.pyplot as plt\n",
        "import matplotlib as mpl\n",
        "import tensorflow as tf\n",
        "from tensorflow import keras"
      ]
    },
    {
      "cell_type": "markdown",
      "source": [
        "# 3. 분류"
      ],
      "metadata": {
        "id": "XPAbbxJcwjHp"
      }
    },
    {
      "cell_type": "markdown",
      "source": [
        "## MNIST 생성"
      ],
      "metadata": {
        "id": "SJzIYJjwwn77"
      }
    },
    {
      "cell_type": "code",
      "source": [
        "from sklearn.datasets import fetch_openml\n",
        "mnist = fetch_openml(\"mnist_784\", version=1, as_frame=False)\n",
        "mnist.keys()"
      ],
      "metadata": {
        "colab": {
          "base_uri": "https://localhost:8080/"
        },
        "id": "g01TYigFwrxh",
        "outputId": "7ec52061-747f-4cf4-b7a0-416493c8403e"
      },
      "execution_count": 2,
      "outputs": [
        {
          "output_type": "execute_result",
          "data": {
            "text/plain": [
              "dict_keys(['data', 'target', 'frame', 'categories', 'feature_names', 'target_names', 'DESCR', 'details', 'url'])"
            ]
          },
          "metadata": {},
          "execution_count": 2
        }
      ]
    },
    {
      "cell_type": "markdown",
      "source": [
        " * DESCR: 데이터셋을 설명하는 키\n",
        " * data: 샘플이 하나의 행, 특성이 하나의 열로 구성된 배열을 가진 키\n",
        " * target: 레이블 배열을 담은 키"
      ],
      "metadata": {
        "id": "VoS_Voc4w6om"
      }
    },
    {
      "cell_type": "code",
      "source": [
        "X, y = mnist[\"data\"], mnist[\"target\"]\n",
        "print(X.shape, y.shape)"
      ],
      "metadata": {
        "colab": {
          "base_uri": "https://localhost:8080/"
        },
        "id": "Mjv1sxaVxc2Y",
        "outputId": "667fc3dd-7c77-439c-a7fa-f4d0dbba43a1"
      },
      "execution_count": 3,
      "outputs": [
        {
          "output_type": "stream",
          "name": "stdout",
          "text": [
            "(70000, 784) (70000,)\n"
          ]
        }
      ]
    },
    {
      "cell_type": "markdown",
      "source": [
        "첫번째 샘플 재구조화"
      ],
      "metadata": {
        "id": "HOCB2sSsxobj"
      }
    },
    {
      "cell_type": "code",
      "source": [
        "some_digit = X[0]\n",
        "some_digit_image = some_digit.reshape(28, 28)\n",
        "\n",
        "print(some_digit_image.shape)"
      ],
      "metadata": {
        "colab": {
          "base_uri": "https://localhost:8080/"
        },
        "id": "GkQgm07Tx2Nl",
        "outputId": "ccabfa66-fec8-4aae-e9da-5f786ae31306"
      },
      "execution_count": 4,
      "outputs": [
        {
          "output_type": "stream",
          "name": "stdout",
          "text": [
            "(28, 28)\n"
          ]
        }
      ]
    },
    {
      "cell_type": "code",
      "source": [
        "plt.imshow(some_digit_image, cmap=\"binary\")\n",
        "plt.axis(\"off\")\n",
        "plt.show()"
      ],
      "metadata": {
        "colab": {
          "base_uri": "https://localhost:8080/",
          "height": 248
        },
        "id": "X88h9OcXzeBp",
        "outputId": "e1a4bf1e-aa18-4738-aaf8-45a22c3c7bab"
      },
      "execution_count": 5,
      "outputs": [
        {
          "output_type": "display_data",
          "data": {
            "image/png": "[encoded data removed]",
            "text/plain": [
              "<Figure size 432x288 with 1 Axes>"
            ]
          },
          "metadata": {
            "needs_background": "light"
          }
        }
      ]
    },
    {
      "cell_type": "code",
      "source": [
        "y[0]"
      ],
      "metadata": {
        "colab": {
          "base_uri": "https://localhost:8080/",
          "height": 36
        },
        "id": "X_cualBYzph8",
        "outputId": "72b953cf-be47-4134-98a7-1527de6c95d1"
      },
      "execution_count": 6,
      "outputs": [
        {
          "output_type": "execute_result",
          "data": {
            "application/vnd.google.colaboratory.intrinsic+json": {
              "type": "string"
            },
            "text/plain": [
              "'5'"
            ]
          },
          "metadata": {},
          "execution_count": 6
        }
      ]
    },
    {
      "cell_type": "code",
      "source": [
        "# 문자형을 숫자형으로 변환\n",
        "y = y.astype(np.uint8)"
      ],
      "metadata": {
        "id": "xZ31aK3wztys"
      },
      "execution_count": 7,
      "outputs": []
    },
    {
      "cell_type": "markdown",
      "source": [
        "데이터셋을 훈련데이터와 검증 데이터로 나누기"
      ],
      "metadata": {
        "id": "GCopWdq2z3wp"
      }
    },
    {
      "cell_type": "code",
      "source": [
        "X_train, X_test, y_train, y_test = X[:60000], X[60000:], y[:60000], y[60000:]"
      ],
      "metadata": {
        "id": "rmotoaye0tG7"
      },
      "execution_count": 8,
      "outputs": []
    },
    {
      "cell_type": "markdown",
      "source": [
        "## 이진 분류기 훈련"
      ],
      "metadata": {
        "id": "vKPlXeug07gp"
      }
    },
    {
      "cell_type": "markdown",
      "source": [
        "5가 맞는지 아닌지 감지하는 5 감지기 훈련, 확률적 경사 하강법 이용"
      ],
      "metadata": {
        "id": "gBCL_cw41Czm"
      }
    },
    {
      "cell_type": "code",
      "source": [
        "y_train_5 = (y_train == 5)\n",
        "y_test_5 = (y_test == 5)"
      ],
      "metadata": {
        "id": "h8CGwqNs1NBc"
      },
      "execution_count": 9,
      "outputs": []
    },
    {
      "cell_type": "code",
      "source": [
        "# 확률적 경사하강법 클래스 부르기\n",
        "from sklearn.linear_model import SGDClassifier\n",
        "\n",
        "sgd_clf = SGDClassifier(random_state = 72)\n",
        "sgd_clf.fit(X_train, y_train_5)"
      ],
      "metadata": {
        "colab": {
          "base_uri": "https://localhost:8080/"
        },
        "id": "OJsdAelt1Wf2",
        "outputId": "4751569f-d02a-43cd-e185-c7b562291860"
      },
      "execution_count": 10,
      "outputs": [
        {
          "output_type": "execute_result",
          "data": {
            "text/plain": [
              "SGDClassifier(random_state=72)"
            ]
          },
          "metadata": {},
          "execution_count": 10
        }
      ]
    },
    {
      "cell_type": "code",
      "source": [
        "# 분류기를 가지고 데이터 샘플 분류하기 (실제 5)\n",
        "sgd_clf.predict([some_digit])"
      ],
      "metadata": {
        "colab": {
          "base_uri": "https://localhost:8080/"
        },
        "id": "RWvHNNai1v2K",
        "outputId": "97f28385-c523-4e19-f7ae-d51c7d68a53c"
      },
      "execution_count": 11,
      "outputs": [
        {
          "output_type": "execute_result",
          "data": {
            "text/plain": [
              "array([ True])"
            ]
          },
          "metadata": {},
          "execution_count": 11
        }
      ]
    },
    {
      "cell_type": "markdown",
      "source": [
        "## 성능 측정"
      ],
      "metadata": {
        "id": "rw-hf2_E1_Xp"
      }
    },
    {
      "cell_type": "markdown",
      "source": [
        "### 교차검증을 통한 정확도 측정"
      ],
      "metadata": {
        "id": "4DlAaBU3CCRk"
      }
    },
    {
      "cell_type": "markdown",
      "source": [
        "`cross_val_score` 함수와 같은 식"
      ],
      "metadata": {
        "id": "f4jssJg56lxC"
      }
    },
    {
      "cell_type": "code",
      "source": [
        "from sklearn.model_selection import StratifiedKFold\n",
        "from sklearn.base import clone\n",
        "\n",
        "skfolds = StratifiedKFold(n_splits=3, random_state=72, shuffle=True)\n",
        "\n",
        "for train_index, test_index in skfolds.split(X_train, y_train_5):\n",
        "  clone_clf = clone(sgd_clf)\n",
        "  X_train_folds = X_train[train_index]\n",
        "  y_train_folds = y_train_5[train_index]\n",
        "  X_test_fold = X_train[test_index]\n",
        "  y_test_fold = y_train_5[test_index]\n",
        "\n",
        "  clone_clf.fit(X_train_folds, y_train_folds)\n",
        "  y_pred = clone_clf.predict(X_test_fold)\n",
        "  n_correct = sum(y_pred == y_test_fold)\n",
        "  print(n_correct / len(y_pred))"
      ],
      "metadata": {
        "colab": {
          "base_uri": "https://localhost:8080/"
        },
        "id": "wEBuCArD2J6t",
        "outputId": "a380edc1-2af2-4a16-cfdd-9ff80078cedd"
      },
      "execution_count": 12,
      "outputs": [
        {
          "output_type": "stream",
          "name": "stdout",
          "text": [
            "0.95685\n",
            "0.94185\n",
            "0.96055\n"
          ]
        }
      ]
    },
    {
      "cell_type": "code",
      "source": [
        "from sklearn.model_selection import cross_val_score\n",
        "cross_val_score(sgd_clf, X_train, y_train_5, cv=3, scoring='accuracy')"
      ],
      "metadata": {
        "colab": {
          "base_uri": "https://localhost:8080/"
        },
        "id": "sL_E7OFX_F4h",
        "outputId": "c4c61c95-434f-4e08-ed5b-f740899778e4"
      },
      "execution_count": 13,
      "outputs": [
        {
          "output_type": "execute_result",
          "data": {
            "text/plain": [
              "array([0.9377, 0.9689, 0.9596])"
            ]
          },
          "metadata": {},
          "execution_count": 13
        }
      ]
    },
    {
      "cell_type": "code",
      "source": [
        "# 모든 이미지가 5가 아니라고 분류하는 더미 분류기 생성\n",
        "from sklearn.base import BaseEstimator\n",
        "\n",
        "class Never5Classifier(BaseEstimator):\n",
        "  def fit(self, X, y=None):\n",
        "    return self\n",
        "  def predict(self, X):\n",
        "    return np.zeros((len(X), 1), dtype=bool)"
      ],
      "metadata": {
        "id": "3ghKBhxl64cm"
      },
      "execution_count": 14,
      "outputs": []
    },
    {
      "cell_type": "code",
      "source": [
        "never_5_clf = Never5Classifier()\n",
        "cross_val_score(never_5_clf, X_train, y_train_5, cv=3, scoring='accuracy')"
      ],
      "metadata": {
        "colab": {
          "base_uri": "https://localhost:8080/"
        },
        "id": "yMx45OjHAZIU",
        "outputId": "cc746339-f372-45b5-b9d8-81ad33fbcf7a"
      },
      "execution_count": 15,
      "outputs": [
        {
          "output_type": "execute_result",
          "data": {
            "text/plain": [
              "array([0.91125, 0.90855, 0.90915])"
            ]
          },
          "metadata": {},
          "execution_count": 15
        }
      ]
    },
    {
      "cell_type": "markdown",
      "source": [
        "전체 데이터 중 10%가 5이기 때문에 90%의 정확도를 보이는 것은 당연  \n",
        "불균형한 데이터셋을 다룰 때 정확도를 사용하지 않는 이유"
      ],
      "metadata": {
        "id": "5-yZKsiVA1TH"
      }
    },
    {
      "cell_type": "markdown",
      "source": [
        "### 오차 행렬"
      ],
      "metadata": {
        "id": "y9yRKHQ0BJ3S"
      }
    },
    {
      "cell_type": "markdown",
      "source": [
        "`cross_val_predict()`함수는 k-fold 교차검증을 수행하지만 평가점수를 반환하지 않고 각 테스트 폴드에서 얻은 예측을 반환"
      ],
      "metadata": {
        "id": "rDH0aHx5ElMZ"
      }
    },
    {
      "cell_type": "code",
      "source": [
        "from sklearn.model_selection import cross_val_predict\n",
        "y_train_pred = cross_val_predict(sgd_clf, X_train, y_train_5, cv=3)"
      ],
      "metadata": {
        "id": "1o4lK45wCLGd"
      },
      "execution_count": 16,
      "outputs": []
    },
    {
      "cell_type": "code",
      "source": [
        "from sklearn.metrics import confusion_matrix\n",
        "confusion_matrix(y_train_5, y_train_pred)"
      ],
      "metadata": {
        "colab": {
          "base_uri": "https://localhost:8080/"
        },
        "id": "VQciLvDTEd7e",
        "outputId": "951ae8c4-e66e-467d-ba5d-f2a6ab621e8d"
      },
      "execution_count": 17,
      "outputs": [
        {
          "output_type": "execute_result",
          "data": {
            "text/plain": [
              "array([[52882,  1697],\n",
              "       [  979,  4442]])"
            ]
          },
          "metadata": {},
          "execution_count": 17
        }
      ]
    },
    {
      "cell_type": "markdown",
      "source": [
        "1행: 실제로 5가 아님(0), 2행: 실제로 5임(1)  \n",
        "1열: 5가 아니라고 예측함(0), 2열: 5라고 예측함(1)\n",
        "\n",
        "* True Negative(5 아닌것을 정확히 예측): 52882\n",
        "* True Positive(5 인것을 정확히 예측): 4442\n",
        "* False Positive(5 아닌것을 잘못 예측): 1697\n",
        "* False Negative(5 인것을 잘못 예측: 979"
      ],
      "metadata": {
        "id": "1BFodISUFBmL"
      }
    },
    {
      "cell_type": "markdown",
      "source": [
        "정밀도(precision): $\\frac{TP}{TP + FP}$  \n",
        "재현율(recall): $\\frac{TP}{TP + FN}$"
      ],
      "metadata": {
        "id": "YDGzrPCoGeAN"
      }
    },
    {
      "cell_type": "code",
      "source": [
        "from sklearn.metrics import precision_score, recall_score\n",
        "\n",
        "# 정확도(precision)\n",
        "print(precision_score(y_train_5, y_train_pred)) # 4442 / (4442 + 1697)\n",
        "\n",
        "# 재현율(recall)\n",
        "print(recall_score(y_train_5, y_train_pred)) # 4442 / (4442 + 979)"
      ],
      "metadata": {
        "colab": {
          "base_uri": "https://localhost:8080/"
        },
        "id": "d7ebznRsG7a-",
        "outputId": "282c04c7-cc55-4b87-e0e1-91eb61b3f342"
      },
      "execution_count": 18,
      "outputs": [
        {
          "output_type": "stream",
          "name": "stdout",
          "text": [
            "0.723570614106532\n",
            "0.8194060136506179\n"
          ]
        }
      ]
    },
    {
      "cell_type": "markdown",
      "source": [
        "$F_1$-score: 정밀도와 재현율의 조화평균  \n",
        "$F_{1} = \\frac{2}{\\frac{1}{정밀도} + \\frac{1}{재현율}}$ "
      ],
      "metadata": {
        "id": "aJnRprW3NaWS"
      }
    },
    {
      "cell_type": "code",
      "source": [
        "from sklearn.metrics import f1_score\n",
        "f1_score(y_train_5, y_train_pred)"
      ],
      "metadata": {
        "colab": {
          "base_uri": "https://localhost:8080/"
        },
        "id": "cT2Ms4BqOtMG",
        "outputId": "81b5b0bc-9716-438a-bd08-e7fb9215c157"
      },
      "execution_count": 19,
      "outputs": [
        {
          "output_type": "execute_result",
          "data": {
            "text/plain": [
              "0.7685121107266436"
            ]
          },
          "metadata": {},
          "execution_count": 19
        }
      ]
    },
    {
      "cell_type": "code",
      "source": [
        "y_scores = sgd_clf.decision_function([some_digit])\n",
        "y_scores"
      ],
      "metadata": {
        "colab": {
          "base_uri": "https://localhost:8080/"
        },
        "id": "TeUNNvOzO93J",
        "outputId": "63834e2d-27ab-4375-b360-2fa22856ec85"
      },
      "execution_count": 20,
      "outputs": [
        {
          "output_type": "execute_result",
          "data": {
            "text/plain": [
              "array([2724.62726715])"
            ]
          },
          "metadata": {},
          "execution_count": 20
        }
      ]
    },
    {
      "cell_type": "markdown",
      "source": [
        "임곗값 조정"
      ],
      "metadata": {
        "id": "Gy8MWV2wY_3H"
      }
    },
    {
      "cell_type": "code",
      "source": [
        "threshold = 0\n",
        "y_some_digit_pred = (y_scores > threshold)\n",
        "y_some_digit_pred"
      ],
      "metadata": {
        "colab": {
          "base_uri": "https://localhost:8080/"
        },
        "id": "06EKJF1OXN1L",
        "outputId": "12b825b3-c9df-4ce4-832b-19d37eaa5542"
      },
      "execution_count": 21,
      "outputs": [
        {
          "output_type": "execute_result",
          "data": {
            "text/plain": [
              "array([ True])"
            ]
          },
          "metadata": {},
          "execution_count": 21
        }
      ]
    },
    {
      "cell_type": "code",
      "source": [
        "threshold = 8000\n",
        "y_some_digit_pred = (y_scores > threshold)\n",
        "y_some_digit_pred"
      ],
      "metadata": {
        "colab": {
          "base_uri": "https://localhost:8080/"
        },
        "id": "7_5wC4CpXgFU",
        "outputId": "5b411543-95e5-4d4c-8d77-59e4cd41bbd4"
      },
      "execution_count": 22,
      "outputs": [
        {
          "output_type": "execute_result",
          "data": {
            "text/plain": [
              "array([False])"
            ]
          },
          "metadata": {},
          "execution_count": 22
        }
      ]
    },
    {
      "cell_type": "code",
      "source": [
        "# 적절한 임곗값 정하기\n",
        "y_scores = cross_val_predict(sgd_clf, X_train, y_train_5, cv=3, method='decision_function')\n",
        "y_scores"
      ],
      "metadata": {
        "colab": {
          "base_uri": "https://localhost:8080/"
        },
        "id": "yaumcREkYkrk",
        "outputId": "f25c036a-7529-4895-d306-d0ef16c0e3dd"
      },
      "execution_count": 23,
      "outputs": [
        {
          "output_type": "execute_result",
          "data": {
            "text/plain": [
              "array([  7874.26525882,  -6852.2847618 , -22648.42958088, ...,\n",
              "        13683.76978851,  -5562.46911999, -10352.3441059 ])"
            ]
          },
          "metadata": {},
          "execution_count": 23
        }
      ]
    },
    {
      "cell_type": "code",
      "source": [
        "from sklearn.metrics import precision_recall_curve\n",
        "\n",
        "precisions, recalls, thresholds = precision_recall_curve(y_train_5, y_scores)"
      ],
      "metadata": {
        "id": "6QFciBEMcWYU"
      },
      "execution_count": 24,
      "outputs": []
    },
    {
      "cell_type": "code",
      "source": [
        "def plot_precision_recall_vs_threshold(precisions, recalls, thresholds):\n",
        "  plt.plot(thresholds, precisions[:-1], 'b--', label='precision')\n",
        "  plt.plot(thresholds, recalls[:-1], 'g-', label='recall')\n",
        "  plt.legend(loc=\"center right\")\n",
        "  plt.xlabel(\"Threshold\")\n",
        "  plt.grid(True)\n",
        "  plt.axis([-50000, 50000, 0, 1])\n",
        "\n",
        "recall_90_precision = recalls[np.argmax(precisions >= 0.90)]\n",
        "threshold_90_precision = thresholds[np.argmax(precisions >= 0.90)]\n",
        "\n",
        "plt.figure(figsize = (8, 4))\n",
        "plot_precision_recall_vs_threshold(precisions, recalls, thresholds)\n",
        "plt.plot([threshold_90_precision, threshold_90_precision], [0., 0.9], \"r:\") # 빨간색 세로줄\n",
        "plt.plot([-50000, threshold_90_precision], [0.9, 0.9], \"r:\") # 빨간색 위 가로줄\n",
        "plt.plot([-50000, threshold_90_precision], [recall_90_precision, recall_90_precision], \"r:\") # 빨간색 아래 가로줄\n",
        "plt.plot([threshold_90_precision], [0.9], \"ro\") # 빨간색 위 점\n",
        "plt.plot([threshold_90_precision], [recall_90_precision], \"ro\") # 빨간색 아래 점\n",
        "plt.show()"
      ],
      "metadata": {
        "colab": {
          "base_uri": "https://localhost:8080/",
          "height": 283
        },
        "id": "xaxBAMspdMa0",
        "outputId": "cada473c-8f6f-4155-9b37-2f6e1af61728"
      },
      "execution_count": 25,
      "outputs": [
        {
          "output_type": "display_data",
          "data": {
            "image/png": "[encoded data removed]",
            "text/plain": [
              "<Figure size 576x288 with 1 Axes>"
            ]
          },
          "metadata": {
            "needs_background": "light"
          }
        }
      ]
    },
    {
      "cell_type": "code",
      "source": [
        "def precision_vs_recall(precisions, recalls):\n",
        "  plt.plot(recalls, precisions, \"b-\", linewidth=2)\n",
        "  plt.xlabel(\"recall\")\n",
        "  plt.ylabel(\"precision\")\n",
        "  plt.grid(True)\n",
        "  plt.axis([0, 1, 0, 1])\n",
        "\n",
        "plt.figure(figsize=(8, 4))\n",
        "precision_vs_recall(precisions, recalls)\n",
        "plt.plot([0, recall_90_precision], [0.9, 0.9], \"r:\")\n",
        "plt.plot([recall_90_precision, recall_90_precision], [0, 0.9], \"r:\")\n",
        "plt.plot([recall_90_precision], [0.9], \"ro\")\n",
        "plt.show()"
      ],
      "metadata": {
        "colab": {
          "base_uri": "https://localhost:8080/",
          "height": 283
        },
        "id": "ZDfGWHEyjeW-",
        "outputId": "0db3c137-1a61-44cb-b033-02a7a5a3ce63"
      },
      "execution_count": 26,
      "outputs": [
        {
          "output_type": "display_data",
          "data": {
            "image/png": "[encoded data removed]",
            "text/plain": [
              "<Figure size 576x288 with 1 Axes>"
            ]
          },
          "metadata": {
            "needs_background": "light"
          }
        }
      ]
    },
    {
      "cell_type": "code",
      "source": [
        "y_train_pred_90 = (y_scores >= threshold_90_precision)\n",
        "print(precision_score(y_train_5, y_train_pred_90))\n",
        "print(recall_score(y_train_5, y_train_pred_90))"
      ],
      "metadata": {
        "colab": {
          "base_uri": "https://localhost:8080/"
        },
        "id": "Tkporv3tl9Dr",
        "outputId": "c9f754d3-d885-4ff2-dc0a-a5ad4adf796a"
      },
      "execution_count": 27,
      "outputs": [
        {
          "output_type": "stream",
          "name": "stdout",
          "text": [
            "0.9\n",
            "0.6292197011621472\n"
          ]
        }
      ]
    },
    {
      "cell_type": "markdown",
      "source": [
        "### ROC 곡선"
      ],
      "metadata": {
        "id": "pN-QRGHbfCBY"
      }
    },
    {
      "cell_type": "markdown",
      "source": [
        "ROC: FPR에 대한 TPR의 그래프  \n",
        "FPR: 실제 음성들 분모, 음성이지만 양성으로 예측 분자  \n",
        "TPR: 실제 양성들 분모, 양성으로 맞게 예측 분자(재현율과 같다.)\n",
        "\n",
        "TNR(특이도): 실제 음성들 분모, 음성을 음성으로 맞게 예측 분자  \n",
        "FPR = 1- TNR\n",
        "\n",
        "ROC: 민감도(재현율)에 대한 1-특이도 그래프\n"
      ],
      "metadata": {
        "id": "Y12OElBxjZXY"
      }
    },
    {
      "cell_type": "code",
      "source": [
        "from sklearn.metrics import roc_curve\n",
        "fpr, tpr, thresholds = roc_curve(y_train_5, y_scores)"
      ],
      "metadata": {
        "id": "eymZa13erDam"
      },
      "execution_count": 28,
      "outputs": []
    },
    {
      "cell_type": "code",
      "source": [
        "def plot_roc_curve(fpr, tpr, label=None):\n",
        "  plt.plot(fpr, tpr, linewidth=2, label=label)\n",
        "  plt.plot([0 ,1], [0, 1], \"k--\")\n",
        "  plt.xlabel(\"FPR\")\n",
        "  plt.ylabel(\"TPR\")\n",
        "  plt.grid(True)\n",
        "\n",
        "plt.figure(figsize=(8, 4))\n",
        "plot_roc_curve(fpr, tpr)\n",
        "plt.show()"
      ],
      "metadata": {
        "colab": {
          "base_uri": "https://localhost:8080/",
          "height": 279
        },
        "id": "_DA4CSn7rZae",
        "outputId": "fbffc744-8206-4502-fb27-b6bf03eac9ac"
      },
      "execution_count": 29,
      "outputs": [
        {
          "output_type": "display_data",
          "data": {
            "image/png": "[encoded data removed]",
            "text/plain": [
              "<Figure size 576x288 with 1 Axes>"
            ]
          },
          "metadata": {
            "needs_background": "light"
          }
        }
      ]
    },
    {
      "cell_type": "markdown",
      "source": [
        "AUC: ROC 곡선 아래의 면적  \n",
        "완벽한 분류기: AUC=1, 완전한 랜덤 분류기: AUC=0.5"
      ],
      "metadata": {
        "id": "K-QvTojQsVWI"
      }
    },
    {
      "cell_type": "code",
      "source": [
        "from sklearn.metrics import roc_auc_score\n",
        "roc_auc_score(y_train_5, y_scores)"
      ],
      "metadata": {
        "colab": {
          "base_uri": "https://localhost:8080/"
        },
        "id": "bQeSQAQVs_o6",
        "outputId": "2b05307e-1077-417e-e9ae-6c2116a17714"
      },
      "execution_count": 30,
      "outputs": [
        {
          "output_type": "execute_result",
          "data": {
            "text/plain": [
              "0.9607487588946978"
            ]
          },
          "metadata": {},
          "execution_count": 30
        }
      ]
    },
    {
      "cell_type": "markdown",
      "source": [
        "랜덤 포레스트 방식과 SGD 방식 비교\n",
        "\n",
        "`predict_proba` 매서드: 샘플당 각 클래스에 속할 확률을 출력"
      ],
      "metadata": {
        "id": "Mur7G4GYvU0g"
      }
    },
    {
      "cell_type": "code",
      "source": [
        "from sklearn.ensemble import RandomForestClassifier\n",
        "\n",
        "forest_clf = RandomForestClassifier(random_state=72)\n",
        "y_probas_forest = cross_val_predict(forest_clf, X_train, y_train_5, cv=3, method='predict_proba')"
      ],
      "metadata": {
        "id": "oRJCGXO0tJAC"
      },
      "execution_count": 31,
      "outputs": []
    },
    {
      "cell_type": "code",
      "source": [
        "y_scores_forest = y_probas_forest[:, 1] # 양성 클래스에 대한 확률을 점수로 사용\n",
        "fpr_forest, tpr_forest, thresholds_forest = roc_curve(y_train_5, y_scores_forest)"
      ],
      "metadata": {
        "id": "Aa5l473ivEvq"
      },
      "execution_count": 32,
      "outputs": []
    },
    {
      "cell_type": "code",
      "source": [
        "plt.figure(figsize=(8, 4))\n",
        "plt.plot(fpr, tpr, \"b:\", label=\"SGD\")\n",
        "plot_roc_curve(fpr_forest, tpr_forest, \"random forest\")\n",
        "plt.legend(loc=\"lower right\")\n",
        "plt.show()"
      ],
      "metadata": {
        "colab": {
          "base_uri": "https://localhost:8080/",
          "height": 279
        },
        "id": "ocQY7oJ8v2LV",
        "outputId": "f6131915-0e1c-4667-a749-04fdde0ff0c9"
      },
      "execution_count": 33,
      "outputs": [
        {
          "output_type": "display_data",
          "data": {
            "image/png": "[encoded data removed]",
            "text/plain": [
              "<Figure size 576x288 with 1 Axes>"
            ]
          },
          "metadata": {
            "needs_background": "light"
          }
        }
      ]
    },
    {
      "cell_type": "code",
      "source": [
        "roc_auc_score(y_train_5, y_scores_forest)"
      ],
      "metadata": {
        "colab": {
          "base_uri": "https://localhost:8080/"
        },
        "id": "xQIJc_-fwXpt",
        "outputId": "016bbaa7-5303-47f8-84df-451f00b5d0e4"
      },
      "execution_count": 34,
      "outputs": [
        {
          "output_type": "execute_result",
          "data": {
            "text/plain": [
              "0.9983474179858511"
            ]
          },
          "metadata": {},
          "execution_count": 34
        }
      ]
    },
    {
      "cell_type": "markdown",
      "source": [
        "## 다중분류"
      ],
      "metadata": {
        "id": "DmKr6AJQmfzt"
      }
    },
    {
      "cell_type": "markdown",
      "source": [
        "다중분류가 가능한 분류기:  \n",
        " * SGD, 랜덤 포레스트, 나이브 베이즈\n",
        "\n",
        "이진분류만 가능한 분류기:  \n",
        " * 로지스틱 회귀, 서포트 벡터 머신\n",
        "\n",
        "이진분류기 여러개로 다중 클래스 분류:  \n",
        " * 각 분류기의 결정 점수 중 가장 높은 것을 클래스로 선택: OvR(one versus the rest)\n",
        " * 각 조합마다 이진 분류기를 훈련: OvO(one versus one)"
      ],
      "metadata": {
        "id": "aXkAd-3VmlVl"
      }
    },
    {
      "cell_type": "code",
      "source": [
        "# 서포트 벡터머신: 훈련세트 크기에 민감, OvO 전략 사용\n",
        "from sklearn.svm import SVC\n",
        "svm_clf = SVC()\n",
        "svm_clf.fit(X_train, y_train)\n",
        "svm_clf.predict([some_digit])"
      ],
      "metadata": {
        "colab": {
          "base_uri": "https://localhost:8080/"
        },
        "id": "sPY6BnqJnAR-",
        "outputId": "9cb7bb4e-505b-4b6d-fb71-a94a9588bb0a"
      },
      "execution_count": 35,
      "outputs": [
        {
          "output_type": "execute_result",
          "data": {
            "text/plain": [
              "array([5], dtype=uint8)"
            ]
          },
          "metadata": {},
          "execution_count": 35
        }
      ]
    },
    {
      "cell_type": "markdown",
      "source": [
        "클래스별 결정 점수 확인하기"
      ],
      "metadata": {
        "id": "h1QrqzW_qZXe"
      }
    },
    {
      "cell_type": "code",
      "source": [
        "some_digit_scores = svm_clf.decision_function([some_digit])\n",
        "some_digit_scores"
      ],
      "metadata": {
        "colab": {
          "base_uri": "https://localhost:8080/"
        },
        "id": "fpbYIxzgqJeh",
        "outputId": "e1c99ca2-b1c8-40ce-851d-191e0817244f"
      },
      "execution_count": 36,
      "outputs": [
        {
          "output_type": "execute_result",
          "data": {
            "text/plain": [
              "array([[ 1.72501977,  2.72809088,  7.2510018 ,  8.3076379 , -0.31087254,\n",
              "         9.3132482 ,  1.70975103,  2.76765202,  6.23049537,  4.84771048]])"
            ]
          },
          "metadata": {},
          "execution_count": 36
        }
      ]
    },
    {
      "cell_type": "markdown",
      "source": [
        "5의 결정 점수가 가장 큼"
      ],
      "metadata": {
        "id": "P0cuH0AVRh7l"
      }
    },
    {
      "cell_type": "code",
      "source": [
        "np.argmax(some_digit_scores)"
      ],
      "metadata": {
        "colab": {
          "base_uri": "https://localhost:8080/"
        },
        "id": "_L5E_fpqqSp3",
        "outputId": "73315c2f-898a-4744-a70d-047452469f67"
      },
      "execution_count": 37,
      "outputs": [
        {
          "output_type": "execute_result",
          "data": {
            "text/plain": [
              "5"
            ]
          },
          "metadata": {},
          "execution_count": 37
        }
      ]
    },
    {
      "cell_type": "markdown",
      "source": [
        "서포트 벡터 머신에서 OvR 사용 강제하기"
      ],
      "metadata": {
        "id": "xTvcT30OTA7E"
      }
    },
    {
      "cell_type": "code",
      "source": [
        "from sklearn.multiclass import OneVsRestClassifier\n",
        "ovr_clf = OneVsRestClassifier(SVC())\n",
        "ovr_clf.fit(X_train, y_train)\n",
        "ovr_clf.predict([some_digit])"
      ],
      "metadata": {
        "colab": {
          "base_uri": "https://localhost:8080/"
        },
        "id": "3nJmBy6UR5sq",
        "outputId": "a7c78014-bb00-49ae-8c61-3bae9ee40e46"
      },
      "execution_count": 38,
      "outputs": [
        {
          "output_type": "execute_result",
          "data": {
            "text/plain": [
              "array([5], dtype=uint8)"
            ]
          },
          "metadata": {},
          "execution_count": 38
        }
      ]
    },
    {
      "cell_type": "code",
      "source": [
        "len(ovr_clf.estimators_)"
      ],
      "metadata": {
        "colab": {
          "base_uri": "https://localhost:8080/"
        },
        "id": "bWiztZ8cSxBu",
        "outputId": "bf191f83-4492-4ffc-95ef-a3f4720eae58"
      },
      "execution_count": 39,
      "outputs": [
        {
          "output_type": "execute_result",
          "data": {
            "text/plain": [
              "10"
            ]
          },
          "metadata": {},
          "execution_count": 39
        }
      ]
    },
    {
      "cell_type": "markdown",
      "source": [
        "SGD 분류기로 다중분류하기"
      ],
      "metadata": {
        "id": "NULtjD5ncrMj"
      }
    },
    {
      "cell_type": "code",
      "source": [
        "sgd_clf.fit(X_train, y_train)\n",
        "sgd_clf.predict([some_digit])"
      ],
      "metadata": {
        "colab": {
          "base_uri": "https://localhost:8080/"
        },
        "id": "CWVAJpiWS350",
        "outputId": "2367164f-4668-4f06-92ff-bb491d2fa0de"
      },
      "execution_count": 40,
      "outputs": [
        {
          "output_type": "execute_result",
          "data": {
            "text/plain": [
              "array([5], dtype=uint8)"
            ]
          },
          "metadata": {},
          "execution_count": 40
        }
      ]
    },
    {
      "cell_type": "code",
      "source": [
        "sgd_clf.decision_function([some_digit])"
      ],
      "metadata": {
        "colab": {
          "base_uri": "https://localhost:8080/"
        },
        "id": "Rx2Gmu4JceK3",
        "outputId": "dd97baeb-b4c8-4b77-d5e7-4811512a0dd2"
      },
      "execution_count": 42,
      "outputs": [
        {
          "output_type": "execute_result",
          "data": {
            "text/plain": [
              "array([[-13524.05548206, -22248.3694136 , -14214.59212626,\n",
              "          3635.7389925 , -18198.88479283,   4506.52330866,\n",
              "        -27254.57907316, -14101.83249873,  -9496.88093906,\n",
              "        -12894.7333353 ]])"
            ]
          },
          "metadata": {},
          "execution_count": 42
        }
      ]
    },
    {
      "cell_type": "markdown",
      "source": [
        "5의 점수가 가장 높은 것을 확인할 수 있다."
      ],
      "metadata": {
        "id": "yidTrx6Ndk8E"
      }
    },
    {
      "cell_type": "code",
      "source": [
        "# SGD 분류기 평가하기: 3-fold 교차검증\n",
        "cross_val_score(sgd_clf, X_train, y_train, cv=3, scoring=\"accuracy\")"
      ],
      "metadata": {
        "colab": {
          "base_uri": "https://localhost:8080/"
        },
        "id": "KT0267V7dMvj",
        "outputId": "c55e322d-fe07-48b6-d11c-8d1f6c5ff2e3"
      },
      "execution_count": 43,
      "outputs": [
        {
          "output_type": "execute_result",
          "data": {
            "text/plain": [
              "array([0.86795, 0.87385, 0.88135])"
            ]
          },
          "metadata": {},
          "execution_count": 43
        }
      ]
    },
    {
      "cell_type": "markdown",
      "source": [
        "입력값 `X_train`의 스케일을 조정하면 분류기의 정확도를 더 높일 수 있다."
      ],
      "metadata": {
        "id": "VUCrNKcgeEXj"
      }
    },
    {
      "cell_type": "code",
      "source": [
        "from sklearn.preprocessing import StandardScaler\n",
        "scaler = StandardScaler()\n",
        "X_train_scaled = scaler.fit_transform(X_train.astype(np.float64))"
      ],
      "metadata": {
        "id": "yFnq_Ttbd8EX"
      },
      "execution_count": 47,
      "outputs": []
    },
    {
      "cell_type": "code",
      "source": [
        "cross_val_score(sgd_clf, X_train_scaled, y_train, cv=3, scoring=\"accuracy\")"
      ],
      "metadata": {
        "colab": {
          "base_uri": "https://localhost:8080/"
        },
        "id": "ENXHWy5ofNZV",
        "outputId": "6c567dbd-d3fa-4472-979d-4bbedff9c267"
      },
      "execution_count": 49,
      "outputs": [
        {
          "output_type": "stream",
          "name": "stderr",
          "text": [
            "/usr/local/lib/python3.7/dist-packages/sklearn/linear_model/_stochastic_gradient.py:700: ConvergenceWarning: Maximum number of iteration reached before convergence. Consider increasing max_iter to improve the fit.\n",
            "  ConvergenceWarning,\n",
            "/usr/local/lib/python3.7/dist-packages/sklearn/linear_model/_stochastic_gradient.py:700: ConvergenceWarning: Maximum number of iteration reached before convergence. Consider increasing max_iter to improve the fit.\n",
            "  ConvergenceWarning,\n"
          ]
        },
        {
          "output_type": "execute_result",
          "data": {
            "text/plain": [
              "array([0.90215, 0.89975, 0.90935])"
            ]
          },
          "metadata": {},
          "execution_count": 49
        }
      ]
    },
    {
      "cell_type": "markdown",
      "source": [
        "## 에러 분석"
      ],
      "metadata": {
        "id": "UdbDyS2Wg_Rg"
      }
    },
    {
      "cell_type": "code",
      "source": [
        "# 오차 행렬 만들기\n",
        "y_train_pred = cross_val_predict(sgd_clf, X_train_scaled, y_train, cv=3)\n",
        "conf_mx = confusion_matrix(y_train, y_train_pred)\n",
        "conf_mx"
      ],
      "metadata": {
        "colab": {
          "base_uri": "https://localhost:8080/"
        },
        "id": "ydk1Lo2zhVX_",
        "outputId": "71d44fa8-d96a-4ea4-dc7a-8796dd4c36f5"
      },
      "execution_count": 50,
      "outputs": [
        {
          "output_type": "stream",
          "name": "stderr",
          "text": [
            "/usr/local/lib/python3.7/dist-packages/sklearn/linear_model/_stochastic_gradient.py:700: ConvergenceWarning: Maximum number of iteration reached before convergence. Consider increasing max_iter to improve the fit.\n",
            "  ConvergenceWarning,\n",
            "/usr/local/lib/python3.7/dist-packages/sklearn/linear_model/_stochastic_gradient.py:700: ConvergenceWarning: Maximum number of iteration reached before convergence. Consider increasing max_iter to improve the fit.\n",
            "  ConvergenceWarning,\n"
          ]
        },
        {
          "output_type": "execute_result",
          "data": {
            "text/plain": [
              "array([[5593,    0,   24,    8,    9,   60,   37,    6,  185,    1],\n",
              "       [   0, 6413,   39,   28,    4,   47,    4,    8,  186,   13],\n",
              "       [  28,   27, 5274,   96,   71,   28,   71,   40,  313,   10],\n",
              "       [  23,   18,  117, 5277,    2,  228,   27,   42,  326,   71],\n",
              "       [  10,   14,   48,   12, 5241,   14,   39,   25,  263,  176],\n",
              "       [  27,   16,   32,  177,   55, 4557,   75,   17,  401,   64],\n",
              "       [  31,   17,   47,    2,   41,   99, 5569,    4,  107,    1],\n",
              "       [  19,   11,   55,   34,   51,   16,    3, 5726,  136,  214],\n",
              "       [  19,   67,   48,   96,    3,  137,   26,   11, 5396,   48],\n",
              "       [  25,   22,   31,   71,  121,   42,    1,  181,  276, 5179]])"
            ]
          },
          "metadata": {},
          "execution_count": 50
        }
      ]
    },
    {
      "cell_type": "code",
      "source": [
        "# 오차 행렬을 plot으로 표현\n",
        "plt.matshow(conf_mx, cmap=plt.cm.gray)\n",
        "plt.show() "
      ],
      "metadata": {
        "colab": {
          "base_uri": "https://localhost:8080/",
          "height": 275
        },
        "id": "r48MfCqYii1i",
        "outputId": "385c0478-1eea-4e41-b123-482db8ef05ae"
      },
      "execution_count": 51,
      "outputs": [
        {
          "output_type": "display_data",
          "data": {
            "image/png": "[encoded data removed]",
            "text/plain": [
              "<Figure size 288x288 with 1 Axes>"
            ]
          },
          "metadata": {
            "needs_background": "light"
          }
        }
      ]
    },
    {
      "cell_type": "code",
      "source": [
        "# 에러 비율로 계산\n",
        "row_sums = conf_mx.sum(axis=1, keepdims=True)\n",
        "norm_conf_mx = conf_mx / row_sums"
      ],
      "metadata": {
        "id": "RfcXzpKQizLH"
      },
      "execution_count": 52,
      "outputs": []
    },
    {
      "cell_type": "code",
      "source": [
        "# 주대각선만 0으로 교체\n",
        "np.fill_diagonal(norm_conf_mx, 0)\n",
        "\n",
        "# 그래프 그리기\n",
        "plt.matshow(norm_conf_mx, cmap=plt.cm.gray)\n",
        "plt.show()"
      ],
      "metadata": {
        "colab": {
          "base_uri": "https://localhost:8080/",
          "height": 275
        },
        "id": "DOa0ypnhjseO",
        "outputId": "3e323a6f-5b78-4c51-c631-e35d58e2531a"
      },
      "execution_count": 53,
      "outputs": [
        {
          "output_type": "display_data",
          "data": {
            "image/png": "[encoded data removed]",
            "text/plain": [
              "<Figure size 288x288 with 1 Axes>"
            ]
          },
          "metadata": {
            "needs_background": "light"
          }
        }
      ]
    },
    {
      "cell_type": "markdown",
      "source": [
        "8열에 밝은 부분이 많음: 많은 데이터들이 8로 잘못 분류됨  \n",
        "실제 8은 8로 잘 분류됨  \n",
        "3과 5가 서로 잘못 분류되는 경우가 있음"
      ],
      "metadata": {
        "id": "3oyPY66SnFkQ"
      }
    },
    {
      "cell_type": "code",
      "source": [
        "def plot_digit(data):\n",
        "    image = data.reshape(28, 28)\n",
        "    plt.imshow(image, cmap = mpl.cm.binary,\n",
        "               interpolation=\"nearest\")\n",
        "    plt.axis(\"off\")"
      ],
      "metadata": {
        "id": "wwXbs4tbz96L"
      },
      "execution_count": 68,
      "outputs": []
    },
    {
      "cell_type": "code",
      "source": [
        "def plot_digits(instances, images_per_row=10, **options):\n",
        "    size = 28\n",
        "    images_per_row = min(len(instances), images_per_row)\n",
        "    # n_rows = ceil(len(instances) / images_per_row) 와 동일합니다:\n",
        "    n_rows = (len(instances) - 1) // images_per_row + 1\n",
        "\n",
        "    # 필요하면 그리드 끝을 채우기 위해 빈 이미지를 추가합니다:\n",
        "    n_empty = n_rows * images_per_row - len(instances)\n",
        "    padded_instances = np.concatenate([instances, np.zeros((n_empty, size * size))], axis=0)\n",
        "\n",
        "    # 배열의 크기를 바꾸어 28×28 이미지를 담은 그리드로 구성합니다:\n",
        "    image_grid = padded_instances.reshape((n_rows, images_per_row, size, size))\n",
        "\n",
        "    # 축 0(이미지 그리드의 수직축)과 2(이미지의 수직축)를 합치고 축 1과 3(두 수평축)을 합칩니다. \n",
        "    # 먼저 transpose()를 사용해 결합하려는 축을 옆으로 이동한 다음 합칩니다:\n",
        "    big_image = image_grid.transpose(0, 2, 1, 3).reshape(n_rows * size,\n",
        "                                                         images_per_row * size)\n",
        "    # 하나의 큰 이미지를 얻었으므로 출력하면 됩니다:\n",
        "    plt.imshow(big_image, cmap = mpl.cm.binary, **options)\n",
        "    plt.axis(\"off\")"
      ],
      "metadata": {
        "id": "eSu0ZuyCp6iq"
      },
      "execution_count": 57,
      "outputs": []
    },
    {
      "cell_type": "code",
      "source": [
        "cl_a, cl_b = 3, 5\n",
        "\n",
        "X_aa = X_train[(y_train == cl_a) & (y_train_pred == cl_a)]\n",
        "X_ab = X_train[(y_train == cl_a) & (y_train_pred == cl_b)]\n",
        "X_ba = X_train[(y_train == cl_b) & (y_train_pred == cl_a)]\n",
        "X_bb = X_train[(y_train == cl_b) & (y_train_pred == cl_b)]\n",
        "\n",
        "plt.figure(figsize=(8, 8))\n",
        "plt.subplot(221); plot_digits(X_aa[:25], images_per_row=5)\n",
        "plt.subplot(222); plot_digits(X_ab[:25], images_per_row=5)\n",
        "plt.subplot(223); plot_digits(X_ba[:25], images_per_row=5)\n",
        "plt.subplot(224); plot_digits(X_bb[:25], images_per_row=5)\n",
        "plt.show()"
      ],
      "metadata": {
        "colab": {
          "base_uri": "https://localhost:8080/",
          "height": 466
        },
        "id": "EmycHJc5j25K",
        "outputId": "952be400-0b72-4dbe-c399-2a518c9916f3"
      },
      "execution_count": 60,
      "outputs": [
        {
          "output_type": "display_data",
          "data": {
            "image/png": "[encoded data removed]",
            "text/plain": [
              "<Figure size 576x576 with 4 Axes>"
            ]
          },
          "metadata": {
            "needs_background": "light"
          }
        }
      ]
    },
    {
      "cell_type": "markdown",
      "source": [
        "## 다중 레이블 분류"
      ],
      "metadata": {
        "id": "pIsL-_2ppWkS"
      }
    },
    {
      "cell_type": "markdown",
      "source": [
        "하나의 샘플이 두 개 이상의 클래스에 할당된 경우"
      ],
      "metadata": {
        "id": "rf_eW242rsi5"
      }
    },
    {
      "cell_type": "code",
      "source": [
        "from sklearn.neighbors import KNeighborsClassifier\n",
        "\n",
        "# 두 개의 클래스: 7보다 큰지, 홀수인지\n",
        "y_train_large = (y_train >= 7)\n",
        "y_train_odd = (y_train % 2 == 1)\n",
        "y_multilabel = np.c_[y_train_large, y_train_odd]\n",
        "\n",
        "knn_clf = KNeighborsClassifier()\n",
        "knn_clf.fit(X_train, y_multilabel)"
      ],
      "metadata": {
        "colab": {
          "base_uri": "https://localhost:8080/"
        },
        "id": "76SgYq3Gq4DX",
        "outputId": "61c4dafc-b750-4032-ab9e-86f37cd1f10d"
      },
      "execution_count": 61,
      "outputs": [
        {
          "output_type": "execute_result",
          "data": {
            "text/plain": [
              "KNeighborsClassifier()"
            ]
          },
          "metadata": {},
          "execution_count": 61
        }
      ]
    },
    {
      "cell_type": "code",
      "source": [
        "knn_clf.predict([some_digit])"
      ],
      "metadata": {
        "colab": {
          "base_uri": "https://localhost:8080/"
        },
        "id": "-NNuY3vhrpoj",
        "outputId": "5b557bb7-5739-4bb8-dbbe-8a0e5623cfd4"
      },
      "execution_count": 62,
      "outputs": [
        {
          "output_type": "execute_result",
          "data": {
            "text/plain": [
              "array([[False,  True]])"
            ]
          },
          "metadata": {},
          "execution_count": 62
        }
      ]
    },
    {
      "cell_type": "markdown",
      "source": [
        "5는 7보다 크지 않고 홀수이므로 (False, True)"
      ],
      "metadata": {
        "id": "0cXZh9HNsK3i"
      }
    },
    {
      "cell_type": "code",
      "source": [
        "# 다중 레이블 분류기 평가하기: 모든 레이블에 대한 F1-score 의 평균\n",
        "y_train_knn_pred = cross_val_predict(knn_clf, X_train, y_multilabel, cv=3)\n",
        "f1_score(y_multilabel, y_train_knn_pred, average=\"macro\")"
      ],
      "metadata": {
        "colab": {
          "base_uri": "https://localhost:8080/"
        },
        "id": "GNdDXCG2sHyL",
        "outputId": "ce051ecf-2173-4683-898c-11a8f51b2823"
      },
      "execution_count": 63,
      "outputs": [
        {
          "output_type": "execute_result",
          "data": {
            "text/plain": [
              "0.976410265560605"
            ]
          },
          "metadata": {},
          "execution_count": 63
        }
      ]
    },
    {
      "cell_type": "markdown",
      "source": [
        "## 다중 출력 분류"
      ],
      "metadata": {
        "id": "UKzP17fJvU5j"
      }
    },
    {
      "cell_type": "markdown",
      "source": [
        "한 레이블이 다중 클래스가 될 수 있게 일반화  \n",
        "클래스 값을 두 개 이상 가질 수 있음"
      ],
      "metadata": {
        "id": "LfDk1mlhyqB-"
      }
    },
    {
      "cell_type": "code",
      "source": [
        "noise = np.random.randint(0, 100, (len(X_train), 784))\n",
        "X_train_mod = X_train + noise\n",
        "noise = np.random.randint(0, 100, (len(X_test), 784))\n",
        "X_test_mod = X_test + noise\n",
        "y_train_mod = X_train\n",
        "y_test_mod = X_test"
      ],
      "metadata": {
        "id": "rmhtYPX2ycz-"
      },
      "execution_count": 66,
      "outputs": []
    },
    {
      "cell_type": "markdown",
      "source": [
        "잡음 섞인 이미지를 입력값으로, 깨끗한 이미지를 타깃 이미지로 하는 분류기를 훈련"
      ],
      "metadata": {
        "id": "zQW_0Sbg0Zpf"
      }
    },
    {
      "cell_type": "code",
      "source": [
        "knn_clf.fit(X_train_mod, y_train_mod)\n",
        "clean_digit = knn_clf.predict([X_test_mod[0]])\n",
        "plot_digit(clean_digit)"
      ],
      "metadata": {
        "colab": {
          "base_uri": "https://localhost:8080/",
          "height": 248
        },
        "id": "WVFLlm3OzPTo",
        "outputId": "1fa4c4b8-daf5-44ac-aefa-b6d30d947999"
      },
      "execution_count": 70,
      "outputs": [
        {
          "output_type": "display_data",
          "data": {
            "image/png": "[encoded data removed]",
            "text/plain": [
              "<Figure size 432x288 with 1 Axes>"
            ]
          },
          "metadata": {
            "needs_background": "light"
          }
        }
      ]
    }
  ]
}