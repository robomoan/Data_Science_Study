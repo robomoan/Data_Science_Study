{
  "nbformat": 4,
  "nbformat_minor": 0,
  "metadata": {
    "colab": {
      "name": "handson_ml_3.ipynb",
      "provenance": [],
      "collapsed_sections": [],
      "authorship_tag": "ABX9TyN+G460YU1F3AzTAskTGYeB",
      "include_colab_link": true
    },
    "kernelspec": {
      "name": "python3",
      "display_name": "Python 3"
    },
    "language_info": {
      "name": "python"
    }
  },
  "cells": [
    {
      "cell_type": "markdown",
      "metadata": {
        "id": "view-in-github",
        "colab_type": "text"
      },
      "source": [
        "<a href=\"https://colab.research.google.com/github/robomoan/Data_Science_Study/blob/main/Handson_ML/handson_ml_3.ipynb\" target=\"_parent\"><img src=\"https://colab.research.google.com/assets/colab-badge.svg\" alt=\"Open In Colab\"/></a>"
      ]
    },
    {
      "cell_type": "code",
      "execution_count": 24,
      "metadata": {
        "id": "e21ttxX_q9Lh"
      },
      "outputs": [],
      "source": [
        "import numpy as np\n",
        "import pandas as pd\n",
        "import matplotlib.pyplot as plt\n",
        "import tensorflow as tf\n",
        "from tensorflow import keras"
      ]
    },
    {
      "cell_type": "markdown",
      "source": [
        "# 3. 분류"
      ],
      "metadata": {
        "id": "XPAbbxJcwjHp"
      }
    },
    {
      "cell_type": "markdown",
      "source": [
        "## MNIST 생성"
      ],
      "metadata": {
        "id": "SJzIYJjwwn77"
      }
    },
    {
      "cell_type": "code",
      "source": [
        "from sklearn.datasets import fetch_openml\n",
        "mnist = fetch_openml(\"mnist_784\", version=1, as_frame=False)\n",
        "mnist.keys()"
      ],
      "metadata": {
        "colab": {
          "base_uri": "https://localhost:8080/"
        },
        "id": "g01TYigFwrxh",
        "outputId": "bcef0e62-bfe8-4568-975b-73af19b3dd17"
      },
      "execution_count": 25,
      "outputs": [
        {
          "output_type": "execute_result",
          "data": {
            "text/plain": [
              "dict_keys(['data', 'target', 'frame', 'categories', 'feature_names', 'target_names', 'DESCR', 'details', 'url'])"
            ]
          },
          "metadata": {},
          "execution_count": 25
        }
      ]
    },
    {
      "cell_type": "markdown",
      "source": [
        " * DESCR: 데이터셋을 설명하는 키\n",
        " * data: 샘플이 하나의 행, 특성이 하나의 열로 구성된 배열을 가진 키\n",
        " * target: 레이블 배열을 담은 키"
      ],
      "metadata": {
        "id": "VoS_Voc4w6om"
      }
    },
    {
      "cell_type": "code",
      "source": [
        "X, y = mnist[\"data\"], mnist[\"target\"]\n",
        "print(X.shape, y.shape)"
      ],
      "metadata": {
        "colab": {
          "base_uri": "https://localhost:8080/"
        },
        "id": "Mjv1sxaVxc2Y",
        "outputId": "78747516-cee7-4355-f2f4-2aed08af6528"
      },
      "execution_count": 26,
      "outputs": [
        {
          "output_type": "stream",
          "name": "stdout",
          "text": [
            "(70000, 784) (70000,)\n"
          ]
        }
      ]
    },
    {
      "cell_type": "markdown",
      "source": [
        "첫번째 샘플 재구조화"
      ],
      "metadata": {
        "id": "HOCB2sSsxobj"
      }
    },
    {
      "cell_type": "code",
      "source": [
        "some_digit = X[0]\n",
        "some_digit_image = some_digit.reshape(28, 28)\n",
        "\n",
        "print(some_digit_image.shape)"
      ],
      "metadata": {
        "colab": {
          "base_uri": "https://localhost:8080/"
        },
        "id": "GkQgm07Tx2Nl",
        "outputId": "f6f35fbf-3eae-43a5-e082-46528265eafd"
      },
      "execution_count": 27,
      "outputs": [
        {
          "output_type": "stream",
          "name": "stdout",
          "text": [
            "(28, 28)\n"
          ]
        }
      ]
    },
    {
      "cell_type": "code",
      "source": [
        "plt.imshow(some_digit_image, cmap=\"binary\")\n",
        "plt.axis(\"off\")\n",
        "plt.show()"
      ],
      "metadata": {
        "colab": {
          "base_uri": "https://localhost:8080/",
          "height": 248
        },
        "id": "X88h9OcXzeBp",
        "outputId": "e170483b-03d0-498b-bbcb-88aad17ffa64"
      },
      "execution_count": 28,
      "outputs": [
        {
          "output_type": "display_data",
          "data": {
            "image/png": "[encoded data removed]",
            "text/plain": [
              "<Figure size 432x288 with 1 Axes>"
            ]
          },
          "metadata": {
            "needs_background": "light"
          }
        }
      ]
    },
    {
      "cell_type": "code",
      "source": [
        "y[0]"
      ],
      "metadata": {
        "colab": {
          "base_uri": "https://localhost:8080/",
          "height": 36
        },
        "id": "X_cualBYzph8",
        "outputId": "4e3f5240-609c-428c-fdf0-0acc35a4bfdb"
      },
      "execution_count": 29,
      "outputs": [
        {
          "output_type": "execute_result",
          "data": {
            "application/vnd.google.colaboratory.intrinsic+json": {
              "type": "string"
            },
            "text/plain": [
              "'5'"
            ]
          },
          "metadata": {},
          "execution_count": 29
        }
      ]
    },
    {
      "cell_type": "code",
      "source": [
        "# 문자형을 숫자형으로 변환\n",
        "y = y.astype(np.uint8)"
      ],
      "metadata": {
        "id": "xZ31aK3wztys"
      },
      "execution_count": 30,
      "outputs": []
    },
    {
      "cell_type": "markdown",
      "source": [
        "데이터셋을 훈련데이터와 검증 데이터로 나누기"
      ],
      "metadata": {
        "id": "GCopWdq2z3wp"
      }
    },
    {
      "cell_type": "code",
      "source": [
        "X_train, X_test, y_train, y_test = X[:60000], X[60000:], y[:60000], y[60000:]"
      ],
      "metadata": {
        "id": "rmotoaye0tG7"
      },
      "execution_count": 31,
      "outputs": []
    },
    {
      "cell_type": "markdown",
      "source": [
        "## 이진 분류기 훈련"
      ],
      "metadata": {
        "id": "vKPlXeug07gp"
      }
    },
    {
      "cell_type": "markdown",
      "source": [
        "5가 맞는지 아닌지 감지하는 5 감지기 훈련, 확률적 경사 하강법 이용"
      ],
      "metadata": {
        "id": "gBCL_cw41Czm"
      }
    },
    {
      "cell_type": "code",
      "source": [
        "y_train_5 = (y_train == 5)\n",
        "y_test_5 = (y_test == 5)"
      ],
      "metadata": {
        "id": "h8CGwqNs1NBc"
      },
      "execution_count": 32,
      "outputs": []
    },
    {
      "cell_type": "code",
      "source": [
        "# 확률적 경사하강법 클래스 부르기\n",
        "from sklearn.linear_model import SGDClassifier\n",
        "\n",
        "sgd_clf = SGDClassifier(random_state = 72)\n",
        "sgd_clf.fit(X_train, y_train_5)"
      ],
      "metadata": {
        "colab": {
          "base_uri": "https://localhost:8080/"
        },
        "id": "OJsdAelt1Wf2",
        "outputId": "cb5a993b-5c45-4b89-e4cc-7ef49fe3548f"
      },
      "execution_count": 33,
      "outputs": [
        {
          "output_type": "execute_result",
          "data": {
            "text/plain": [
              "SGDClassifier(random_state=72)"
            ]
          },
          "metadata": {},
          "execution_count": 33
        }
      ]
    },
    {
      "cell_type": "code",
      "source": [
        "# 분류기를 가지고 데이터 샘플 분류하기 (실제 5)\n",
        "sgd_clf.predict([some_digit])"
      ],
      "metadata": {
        "colab": {
          "base_uri": "https://localhost:8080/"
        },
        "id": "RWvHNNai1v2K",
        "outputId": "6b5ae2bd-ed59-4ec6-9542-213d4a4d46cd"
      },
      "execution_count": 34,
      "outputs": [
        {
          "output_type": "execute_result",
          "data": {
            "text/plain": [
              "array([ True])"
            ]
          },
          "metadata": {},
          "execution_count": 34
        }
      ]
    },
    {
      "cell_type": "markdown",
      "source": [
        "## 성능 측정"
      ],
      "metadata": {
        "id": "rw-hf2_E1_Xp"
      }
    },
    {
      "cell_type": "markdown",
      "source": [
        "### 교차검증을 통한 정확도 측정"
      ],
      "metadata": {
        "id": "4DlAaBU3CCRk"
      }
    },
    {
      "cell_type": "markdown",
      "source": [
        "`cross_val_score` 함수와 같은 식"
      ],
      "metadata": {
        "id": "f4jssJg56lxC"
      }
    },
    {
      "cell_type": "code",
      "source": [
        "from sklearn.model_selection import StratifiedKFold\n",
        "from sklearn.base import clone\n",
        "\n",
        "skfolds = StratifiedKFold(n_splits=3, random_state=72, shuffle=True)\n",
        "\n",
        "for train_index, test_index in skfolds.split(X_train, y_train_5):\n",
        "  clone_clf = clone(sgd_clf)\n",
        "  X_train_folds = X_train[train_index]\n",
        "  y_train_folds = y_train_5[train_index]\n",
        "  X_test_fold = X_train[test_index]\n",
        "  y_test_fold = y_train_5[test_index]\n",
        "\n",
        "  clone_clf.fit(X_train_folds, y_train_folds)\n",
        "  y_pred = clone_clf.predict(X_test_fold)\n",
        "  n_correct = sum(y_pred == y_test_fold)\n",
        "  print(n_correct / len(y_pred))"
      ],
      "metadata": {
        "colab": {
          "base_uri": "https://localhost:8080/"
        },
        "id": "wEBuCArD2J6t",
        "outputId": "18fff2d2-9213-4375-d9ea-7867a9b9b87a"
      },
      "execution_count": 35,
      "outputs": [
        {
          "output_type": "stream",
          "name": "stdout",
          "text": [
            "0.95685\n",
            "0.94185\n",
            "0.96055\n"
          ]
        }
      ]
    },
    {
      "cell_type": "code",
      "source": [
        "from sklearn.model_selection import cross_val_score\n",
        "cross_val_score(sgd_clf, X_train, y_train_5, cv=3, scoring='accuracy')"
      ],
      "metadata": {
        "colab": {
          "base_uri": "https://localhost:8080/"
        },
        "id": "sL_E7OFX_F4h",
        "outputId": "de9a2461-0634-4863-d88e-6548da9bf4cf"
      },
      "execution_count": 36,
      "outputs": [
        {
          "output_type": "execute_result",
          "data": {
            "text/plain": [
              "array([0.9377, 0.9689, 0.9596])"
            ]
          },
          "metadata": {},
          "execution_count": 36
        }
      ]
    },
    {
      "cell_type": "code",
      "source": [
        "# 모든 이미지가 5가 아니라고 분류하는 더미 분류기 생성\n",
        "from sklearn.base import BaseEstimator\n",
        "\n",
        "class Never5Classifier(BaseEstimator):\n",
        "  def fit(self, X, y=None):\n",
        "    return self\n",
        "  def predict(self, X):\n",
        "    return np.zeros((len(X), 1), dtype=bool)"
      ],
      "metadata": {
        "id": "3ghKBhxl64cm"
      },
      "execution_count": 37,
      "outputs": []
    },
    {
      "cell_type": "code",
      "source": [
        "never_5_clf = Never5Classifier()\n",
        "cross_val_score(never_5_clf, X_train, y_train_5, cv=3, scoring='accuracy')"
      ],
      "metadata": {
        "colab": {
          "base_uri": "https://localhost:8080/"
        },
        "id": "yMx45OjHAZIU",
        "outputId": "5bca6fa5-79ac-4b77-d446-f2e44c832a66"
      },
      "execution_count": 38,
      "outputs": [
        {
          "output_type": "execute_result",
          "data": {
            "text/plain": [
              "array([0.91125, 0.90855, 0.90915])"
            ]
          },
          "metadata": {},
          "execution_count": 38
        }
      ]
    },
    {
      "cell_type": "markdown",
      "source": [
        "전체 데이터 중 10%가 5이기 때문에 90%의 정확도를 보이는 것은 당연  \n",
        "불균형한 데이터셋을 다룰 때 정확도를 사용하지 않는 이유"
      ],
      "metadata": {
        "id": "5-yZKsiVA1TH"
      }
    },
    {
      "cell_type": "markdown",
      "source": [
        "### 오차 행렬"
      ],
      "metadata": {
        "id": "y9yRKHQ0BJ3S"
      }
    },
    {
      "cell_type": "markdown",
      "source": [
        "`cross_val_predict()`함수는 k-fold 교차검증을 수행하지만 평가점수를 반환하지 않고 각 테스트 폴드에서 얻은 예측을 반환"
      ],
      "metadata": {
        "id": "rDH0aHx5ElMZ"
      }
    },
    {
      "cell_type": "code",
      "source": [
        "from sklearn.model_selection import cross_val_predict\n",
        "y_train_pred = cross_val_predict(sgd_clf, X_train, y_train_5, cv=3)"
      ],
      "metadata": {
        "id": "1o4lK45wCLGd"
      },
      "execution_count": 39,
      "outputs": []
    },
    {
      "cell_type": "code",
      "source": [
        "from sklearn.metrics import confusion_matrix\n",
        "confusion_matrix(y_train_5, y_train_pred)"
      ],
      "metadata": {
        "colab": {
          "base_uri": "https://localhost:8080/"
        },
        "id": "VQciLvDTEd7e",
        "outputId": "f58ca2bd-910e-47fa-a33d-ab41b0890178"
      },
      "execution_count": 40,
      "outputs": [
        {
          "output_type": "execute_result",
          "data": {
            "text/plain": [
              "array([[52882,  1697],\n",
              "       [  979,  4442]])"
            ]
          },
          "metadata": {},
          "execution_count": 40
        }
      ]
    },
    {
      "cell_type": "markdown",
      "source": [
        "1행: 실제로 5가 아님(0), 2행: 실제로 5임(1)  \n",
        "1열: 5가 아니라고 예측함(0), 2열: 5라고 예측함(1)\n",
        "\n",
        "* True Negative(5 아닌것을 정확히 예측): 52882\n",
        "* True Positive(5 인것을 정확히 예측): 4442\n",
        "* False Positive(5 아닌것을 잘못 예측): 1697\n",
        "* False Negative(5 인것을 잘못 예측: 979"
      ],
      "metadata": {
        "id": "1BFodISUFBmL"
      }
    },
    {
      "cell_type": "markdown",
      "source": [
        "정밀도(precision): $\\frac{TP}{TP + FP}$  \n",
        "재현율(recall): $\\frac{TP}{TP + FN}$"
      ],
      "metadata": {
        "id": "YDGzrPCoGeAN"
      }
    },
    {
      "cell_type": "code",
      "source": [
        "from sklearn.metrics import precision_score, recall_score\n",
        "\n",
        "# 정확도(precision)\n",
        "print(precision_score(y_train_5, y_train_pred)) # 4442 / (4442 + 1697)\n",
        "\n",
        "# 재현율(recall)\n",
        "print(recall_score(y_train_5, y_train_pred)) # 4442 / (4442 + 979)"
      ],
      "metadata": {
        "colab": {
          "base_uri": "https://localhost:8080/"
        },
        "id": "d7ebznRsG7a-",
        "outputId": "8fd08346-aab9-448d-ddd3-6eede049c412"
      },
      "execution_count": 42,
      "outputs": [
        {
          "output_type": "stream",
          "name": "stdout",
          "text": [
            "0.723570614106532\n",
            "0.8194060136506179\n"
          ]
        }
      ]
    },
    {
      "cell_type": "markdown",
      "source": [
        "$F_1$-score: 정밀도와 재현율의 조화평균  \n",
        "$F_{1} = \\frac{2}{\\frac{1}{정밀도} + \\frac{1}{재현율}}$ "
      ],
      "metadata": {
        "id": "aJnRprW3NaWS"
      }
    },
    {
      "cell_type": "code",
      "source": [
        "from sklearn.metrics import f1_score\n",
        "f1_score(y_train_5, y_train_pred)"
      ],
      "metadata": {
        "colab": {
          "base_uri": "https://localhost:8080/"
        },
        "id": "cT2Ms4BqOtMG",
        "outputId": "4bb39d57-7b62-44d0-b203-e532493e827d"
      },
      "execution_count": 43,
      "outputs": [
        {
          "output_type": "execute_result",
          "data": {
            "text/plain": [
              "0.7685121107266436"
            ]
          },
          "metadata": {},
          "execution_count": 43
        }
      ]
    },
    {
      "cell_type": "code",
      "source": [
        "y_scores = sgd_clf.decision_function([some_digit])\n",
        "y_scores"
      ],
      "metadata": {
        "colab": {
          "base_uri": "https://localhost:8080/"
        },
        "id": "TeUNNvOzO93J",
        "outputId": "5e954f5c-16e8-4c02-b9c4-a175733927a7"
      },
      "execution_count": 44,
      "outputs": [
        {
          "output_type": "execute_result",
          "data": {
            "text/plain": [
              "array([2724.62726715])"
            ]
          },
          "metadata": {},
          "execution_count": 44
        }
      ]
    },
    {
      "cell_type": "markdown",
      "source": [
        "임곗값 조정"
      ],
      "metadata": {
        "id": "Gy8MWV2wY_3H"
      }
    },
    {
      "cell_type": "code",
      "source": [
        "threshold = 0\n",
        "y_some_digit_pred = (y_scores > threshold)\n",
        "y_some_digit_pred"
      ],
      "metadata": {
        "colab": {
          "base_uri": "https://localhost:8080/"
        },
        "id": "06EKJF1OXN1L",
        "outputId": "a95b3c99-0aef-41d8-f6f2-d990bbb15b44"
      },
      "execution_count": 46,
      "outputs": [
        {
          "output_type": "execute_result",
          "data": {
            "text/plain": [
              "array([ True])"
            ]
          },
          "metadata": {},
          "execution_count": 46
        }
      ]
    },
    {
      "cell_type": "code",
      "source": [
        "threshold = 8000\n",
        "y_some_digit_pred = (y_scores > threshold)\n",
        "y_some_digit_pred"
      ],
      "metadata": {
        "colab": {
          "base_uri": "https://localhost:8080/"
        },
        "id": "7_5wC4CpXgFU",
        "outputId": "f3c40585-89a2-4edb-ca71-d42c7e9c6e52"
      },
      "execution_count": 47,
      "outputs": [
        {
          "output_type": "execute_result",
          "data": {
            "text/plain": [
              "array([False])"
            ]
          },
          "metadata": {},
          "execution_count": 47
        }
      ]
    },
    {
      "cell_type": "code",
      "source": [
        "# 적절한 임곗값 정하기\n",
        "y_scores = cross_val_predict(sgd_clf, X_train, y_train_5, cv=3, method='decision_function')\n",
        "y_scores"
      ],
      "metadata": {
        "colab": {
          "base_uri": "https://localhost:8080/"
        },
        "id": "yaumcREkYkrk",
        "outputId": "1643f044-55c1-4219-cb2e-9bb99c91f494"
      },
      "execution_count": 49,
      "outputs": [
        {
          "output_type": "execute_result",
          "data": {
            "text/plain": [
              "array([  7874.26525882,  -6852.2847618 , -22648.42958088, ...,\n",
              "        13683.76978851,  -5562.46911999, -10352.3441059 ])"
            ]
          },
          "metadata": {},
          "execution_count": 49
        }
      ]
    },
    {
      "cell_type": "code",
      "source": [
        "from sklearn.metrics import precision_recall_curve\n",
        "\n",
        "precisions, recalls, thresholds = precision_recall_curve(y_train_5, y_scores)"
      ],
      "metadata": {
        "id": "6QFciBEMcWYU"
      },
      "execution_count": 51,
      "outputs": []
    },
    {
      "cell_type": "code",
      "source": [
        "def plot_precision_recall_vs_threshold(precisions, recalls, thresholds):\n",
        "  plt.plot(thresholds, precisions[:-1], 'b--', label='precision')\n",
        "  plt.plot(thresholds, recalls[:-1], 'g-', label='recall')\n",
        "  plt.legend(loc=\"center right\")\n",
        "  plt.xlabel(\"Threshold\")\n",
        "  plt.grid(True)\n",
        "  plt.axis([-50000, 50000, 0, 1])\n",
        "\n",
        "recall_90_precision = recalls[np.argmax(precisions >= 0.90)]\n",
        "threshold_90_precision = thresholds[np.argmax(precisions >= 0.90)]\n",
        "\n",
        "plt.figure(figsize = (8, 4))\n",
        "plot_precision_recall_vs_threshold(precisions, recalls, thresholds)\n",
        "plt.plot([threshold_90_precision, threshold_90_precision], [0., 0.9], \"r:\") # 빨간색 세로줄\n",
        "plt.plot([-50000, threshold_90_precision], [0.9, 0.9], \"r:\") # 빨간색 위 가로줄\n",
        "plt.plot([-50000, threshold_90_precision], [recall_90_precision, recall_90_precision], \"r:\") # 빨간색 아래 가로줄\n",
        "plt.plot([threshold_90_precision], [0.9], \"ro\") # 빨간색 위 점\n",
        "plt.plot([threshold_90_precision], [recall_90_precision], \"ro\") # 빨간색 아래 점\n",
        "plt.show()"
      ],
      "metadata": {
        "colab": {
          "base_uri": "https://localhost:8080/",
          "height": 283
        },
        "id": "xaxBAMspdMa0",
        "outputId": "4f542705-6249-40f1-b157-288158200d29"
      },
      "execution_count": 64,
      "outputs": [
        {
          "output_type": "display_data",
          "data": {
            "image/png": "[encoded data removed]",
            "text/plain": [
              "<Figure size 576x288 with 1 Axes>"
            ]
          },
          "metadata": {
            "needs_background": "light"
          }
        }
      ]
    },
    {
      "cell_type": "code",
      "source": [
        "def precision_vs_recall(precisions, recalls):\n",
        "  plt.plot(recalls, precisions, \"b-\", linewidth=2)\n",
        "  plt.xlabel(\"recall\")\n",
        "  plt.ylabel(\"precision\")\n",
        "  plt.grid(True)\n",
        "  plt.axis([0, 1, 0, 1])\n",
        "\n",
        "plt.figure(figsize=(8, 4))\n",
        "precision_vs_recall(precisions, recalls)\n",
        "plt.plot([0, recall_90_precision], [0.9, 0.9], \"r:\")\n",
        "plt.plot([recall_90_precision, recall_90_precision], [0, 0.9], \"r:\")\n",
        "plt.plot([recall_90_precision], [0.9], \"ro\")\n",
        "plt.show()"
      ],
      "metadata": {
        "colab": {
          "base_uri": "https://localhost:8080/",
          "height": 283
        },
        "id": "ZDfGWHEyjeW-",
        "outputId": "6be83ed7-6766-4b8b-a49c-1e69e9bb7d73"
      },
      "execution_count": 58,
      "outputs": [
        {
          "output_type": "display_data",
          "data": {
            "image/png": "[encoded data removed]",
            "text/plain": [
              "<Figure size 576x288 with 1 Axes>"
            ]
          },
          "metadata": {
            "needs_background": "light"
          }
        }
      ]
    },
    {
      "cell_type": "code",
      "source": [
        "y_train_pred_90 = (y_scores >= threshold_90_precision)\n",
        "print(precision_score(y_train_5, y_train_pred_90))\n",
        "print(recall_score(y_train_5, y_train_pred_90))"
      ],
      "metadata": {
        "colab": {
          "base_uri": "https://localhost:8080/"
        },
        "id": "Tkporv3tl9Dr",
        "outputId": "b31281a4-0158-40ad-952d-0b9360933e92"
      },
      "execution_count": 66,
      "outputs": [
        {
          "output_type": "stream",
          "name": "stdout",
          "text": [
            "0.9\n",
            "0.6292197011621472\n"
          ]
        }
      ]
    },
    {
      "cell_type": "markdown",
      "source": [
        "### ROC 곡선"
      ],
      "metadata": {
        "id": "pN-QRGHbfCBY"
      }
    },
    {
      "cell_type": "markdown",
      "source": [
        "ROC: FPR에 대한 TPR의 그래프  \n",
        "FPR: 실제 음성들 분모, 음성이지만 양성으로 예측 분자  \n",
        "TPR: 실제 양성들 분모, 양성으로 맞게 예측 분자(재현율과 같다.)\n",
        "\n",
        "TNR(특이도): 실제 음성들 분모, 음성을 음성으로 맞게 예측 분자  \n",
        "FPR = 1- TNR\n",
        "\n",
        "ROC: 민감도(재현율)에 대한 1-특이도 그래프\n"
      ],
      "metadata": {
        "id": "Y12OElBxjZXY"
      }
    },
    {
      "cell_type": "code",
      "source": [
        "from sklearn.metrics import roc_curve\n",
        "fpr, tpr, thresholds = roc_curve(y_train_5, y_scores)"
      ],
      "metadata": {
        "id": "eymZa13erDam"
      },
      "execution_count": 67,
      "outputs": []
    },
    {
      "cell_type": "code",
      "source": [
        "def plot_roc_curve(fpr, tpr, label=None):\n",
        "  plt.plot(fpr, tpr, linewidth=2, label=label)\n",
        "  plt.plot([0 ,1], [0, 1], \"k--\")\n",
        "  plt.xlabel(\"FPR\")\n",
        "  plt.ylabel(\"TPR\")\n",
        "  plt.grid(True)\n",
        "\n",
        "plt.figure(figsize=(8, 4))\n",
        "plot_roc_curve(fpr, tpr)\n",
        "plt.show()"
      ],
      "metadata": {
        "colab": {
          "base_uri": "https://localhost:8080/",
          "height": 279
        },
        "id": "_DA4CSn7rZae",
        "outputId": "ae96ca20-97f4-4de0-b806-e46cb4a58eea"
      },
      "execution_count": 70,
      "outputs": [
        {
          "output_type": "display_data",
          "data": {
            "image/png": "[encoded data removed]",
            "text/plain": [
              "<Figure size 576x288 with 1 Axes>"
            ]
          },
          "metadata": {
            "needs_background": "light"
          }
        }
      ]
    },
    {
      "cell_type": "markdown",
      "source": [
        "AUC: ROC 곡선 아래의 면적  \n",
        "완벽한 분류기: AUC=1, 완전한 랜덤 분류기: AUC=0.5"
      ],
      "metadata": {
        "id": "K-QvTojQsVWI"
      }
    },
    {
      "cell_type": "code",
      "source": [
        "from sklearn.metrics import roc_auc_score\n",
        "roc_auc_score(y_train_5, y_scores)"
      ],
      "metadata": {
        "colab": {
          "base_uri": "https://localhost:8080/"
        },
        "id": "bQeSQAQVs_o6",
        "outputId": "a877c8e4-2dd4-486e-9116-f938f672ce1b"
      },
      "execution_count": 71,
      "outputs": [
        {
          "output_type": "execute_result",
          "data": {
            "text/plain": [
              "0.9607487588946978"
            ]
          },
          "metadata": {},
          "execution_count": 71
        }
      ]
    },
    {
      "cell_type": "markdown",
      "source": [
        "랜덤 포레스트 방식과 SGD 방식 비교\n",
        "\n",
        "`predict_proba` 매서드: 샘플당 각 클래스에 속할 확률을 출력"
      ],
      "metadata": {
        "id": "Mur7G4GYvU0g"
      }
    },
    {
      "cell_type": "code",
      "source": [
        "from sklearn.ensemble import RandomForestClassifier\n",
        "\n",
        "forest_clf = RandomForestClassifier(random_state=72)\n",
        "y_probas_forest = cross_val_predict(forest_clf, X_train, y_train_5, cv=3, method='predict_proba')"
      ],
      "metadata": {
        "id": "oRJCGXO0tJAC"
      },
      "execution_count": 74,
      "outputs": []
    },
    {
      "cell_type": "code",
      "source": [
        "y_scores_forest = y_probas_forest[:, 1] # 양성 클래스에 대한 확률을 점수로 사용\n",
        "fpr_forest, tpr_forest, thresholds_forest = roc_curve(y_train_5, y_scores_forest)"
      ],
      "metadata": {
        "id": "Aa5l473ivEvq"
      },
      "execution_count": 75,
      "outputs": []
    },
    {
      "cell_type": "code",
      "source": [
        "plt.figure(figsize=(8, 4))\n",
        "plt.plot(fpr, tpr, \"b:\", label=\"SGD\")\n",
        "plot_roc_curve(fpr_forest, tpr_forest, \"random forest\")\n",
        "plt.legend(loc=\"lower right\")\n",
        "plt.show()"
      ],
      "metadata": {
        "colab": {
          "base_uri": "https://localhost:8080/",
          "height": 279
        },
        "id": "ocQY7oJ8v2LV",
        "outputId": "7327b0ca-e6c0-4328-f173-82e1d380e7ac"
      },
      "execution_count": 77,
      "outputs": [
        {
          "output_type": "display_data",
          "data": {
            "image/png": "[encoded data removed]",
            "text/plain": [
              "<Figure size 576x288 with 1 Axes>"
            ]
          },
          "metadata": {
            "needs_background": "light"
          }
        }
      ]
    },
    {
      "cell_type": "code",
      "source": [
        "roc_auc_score(y_train_5, y_scores_forest)"
      ],
      "metadata": {
        "colab": {
          "base_uri": "https://localhost:8080/"
        },
        "id": "xQIJc_-fwXpt",
        "outputId": "522d286a-3039-4f7c-d3b9-0f0bc58cf461"
      },
      "execution_count": 78,
      "outputs": [
        {
          "output_type": "execute_result",
          "data": {
            "text/plain": [
              "0.9983474179858511"
            ]
          },
          "metadata": {},
          "execution_count": 78
        }
      ]
    }
  ]
}