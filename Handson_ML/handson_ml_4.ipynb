{
  "nbformat": 4,
  "nbformat_minor": 0,
  "metadata": {
    "colab": {
      "name": "handson_ml_4.ipynb",
      "provenance": [],
      "collapsed_sections": [],
      "authorship_tag": "ABX9TyOWf2UwLkq1LuJfVvvgrcjJ",
      "include_colab_link": true
    },
    "kernelspec": {
      "name": "python3",
      "display_name": "Python 3"
    },
    "language_info": {
      "name": "python"
    }
  },
  "cells": [
    {
      "cell_type": "markdown",
      "metadata": {
        "id": "view-in-github",
        "colab_type": "text"
      },
      "source": [
        "<a href=\"https://colab.research.google.com/github/robomoan/Data_Science_Study/blob/main/Handson_ML/handson_ml_4.ipynb\" target=\"_parent\"><img src=\"https://colab.research.google.com/assets/colab-badge.svg\" alt=\"Open In Colab\"/></a>"
      ]
    },
    {
      "cell_type": "markdown",
      "metadata": {
        "id": "Ar8Y8KRxG66P"
      },
      "source": [
        "# 핸즈온 머신러닝 4장\n",
        "## 모델 훈련"
      ]
    },
    {
      "cell_type": "code",
      "metadata": {
        "id": "7e_BeypoHW21"
      },
      "source": [
        "import numpy as np\n",
        "import matplotlib.pyplot as plt\n",
        "import pandas as pd"
      ],
      "execution_count": null,
      "outputs": []
    },
    {
      "cell_type": "markdown",
      "metadata": {
        "id": "aa3D_W6RHKe3"
      },
      "source": [
        "### 선형 회귀"
      ]
    },
    {
      "cell_type": "code",
      "metadata": {
        "id": "DsRtoaJ2Gqyc"
      },
      "source": [
        "# 선형 회귀 데이터 생성\n",
        "X = 2 * np.random.rand(100, 1)\n",
        "y = 4 + 3 * X + np.random.randn(100, 1)"
      ],
      "execution_count": null,
      "outputs": []
    },
    {
      "cell_type": "code",
      "metadata": {
        "colab": {
          "base_uri": "https://localhost:8080/",
          "height": 279
        },
        "id": "6Y6xr8vNHzQ3",
        "outputId": "b0e2f751-d753-4ef8-f5ab-9a45376c636b"
      },
      "source": [
        "# X 와 y 사이의 산점도 그리기\n",
        "plt.plot(X, y, \"b.\")\n",
        "plt.axis([0, 2, 0, 15])\n",
        "plt.xlabel(\"X\")\n",
        "plt.ylabel(\"y\")\n",
        "plt.show()"
      ],
      "execution_count": null,
      "outputs": [
        {
          "output_type": "display_data",
          "data": {
            "image/png": "[encoded data removed]",
            "text/plain": [
              "<Figure size 432x288 with 1 Axes>"
            ]
          },
          "metadata": {
            "tags": [],
            "needs_background": "light"
          }
        }
      ]
    },
    {
      "cell_type": "markdown",
      "metadata": {
        "id": "4ooW331BJTzn"
      },
      "source": [
        "정규 방정식: $\\hat{\\theta} = (X^{T}X)^{-1}X^{T}y$"
      ]
    },
    {
      "cell_type": "code",
      "metadata": {
        "id": "Bnl9gMLWI1fV"
      },
      "source": [
        "# X 행렬에 1로만 이루어지 열 추가(절편)\n",
        "X_b = np.c_[np.ones((100, 1)), X]\n",
        "\n",
        "# 정규 방정식\n",
        "theta_best = np.linalg.inv(X_b.T.dot(X_b)).dot(X_b.T).dot(y)"
      ],
      "execution_count": null,
      "outputs": []
    },
    {
      "cell_type": "code",
      "metadata": {
        "colab": {
          "base_uri": "https://localhost:8080/"
        },
        "id": "tk-kN3oEJmz_",
        "outputId": "3c51147c-bbe3-4bb6-d486-d3ef81a6cb87"
      },
      "source": [
        "# 결과 확인\n",
        "theta_best"
      ],
      "execution_count": null,
      "outputs": [
        {
          "output_type": "execute_result",
          "data": {
            "text/plain": [
              "array([[4.03314257],\n",
              "       [2.9718727 ]])"
            ]
          },
          "metadata": {
            "tags": []
          },
          "execution_count": 5
        }
      ]
    },
    {
      "cell_type": "markdown",
      "metadata": {
        "id": "8A_X_pDuJ3f_"
      },
      "source": [
        "실제 값: $\\theta_{0}$ = 4, $\\theta_{1}$ = 3"
      ]
    },
    {
      "cell_type": "code",
      "metadata": {
        "colab": {
          "base_uri": "https://localhost:8080/"
        },
        "id": "_kfrN0tIJwY3",
        "outputId": "a676b045-80f3-4135-93cc-ed1ea55f183d"
      },
      "source": [
        "# theta_best를 사용하여 예측하기\n",
        "X_new = np.array([[0], [2]])\n",
        "X_new_b = np.c_[np.ones((2, 1)), X_new]\n",
        "y_predict = X_new_b.dot(theta_best)\n",
        "y_predict"
      ],
      "execution_count": null,
      "outputs": [
        {
          "output_type": "execute_result",
          "data": {
            "text/plain": [
              "array([[4.03314257],\n",
              "       [9.97688797]])"
            ]
          },
          "metadata": {
            "tags": []
          },
          "execution_count": 6
        }
      ]
    },
    {
      "cell_type": "code",
      "metadata": {
        "colab": {
          "base_uri": "https://localhost:8080/",
          "height": 265
        },
        "id": "fyjdhueIKj81",
        "outputId": "05d14ffa-7fbc-4051-d542-f8d15c70ae91"
      },
      "source": [
        "# 모델의 예측 그래프에 표시\n",
        "\n",
        "# 두 예측 점을 이으면 회귀 직선이 된다.\n",
        "plt.plot(X_new, y_predict, \"r-\") # 빨간색 선\n",
        "plt.plot(X, y, \"b.\") # 파란색 점\n",
        "plt.axis([0, 2, 0, 15]) # x축은 0에서 2까지, y축은 0에서 15까지\n",
        "plt.show()"
      ],
      "execution_count": null,
      "outputs": [
        {
          "output_type": "display_data",
          "data": {
            "image/png": "[encoded data removed]",
            "text/plain": [
              "<Figure size 432x288 with 1 Axes>"
            ]
          },
          "metadata": {
            "tags": [],
            "needs_background": "light"
          }
        }
      ]
    },
    {
      "cell_type": "markdown",
      "metadata": {
        "id": "46MdAIvzO39s"
      },
      "source": [
        "사이킷런에서 선형 회귀 이용"
      ]
    },
    {
      "cell_type": "code",
      "metadata": {
        "colab": {
          "base_uri": "https://localhost:8080/"
        },
        "id": "SzTZzvkxMCaP",
        "outputId": "7d8b68ca-c32e-4b19-9cef-fd389c263875"
      },
      "source": [
        "from sklearn.linear_model import LinearRegression\n",
        "lin_reg = LinearRegression()\n",
        "lin_reg.fit(X, y)"
      ],
      "execution_count": null,
      "outputs": [
        {
          "output_type": "execute_result",
          "data": {
            "text/plain": [
              "LinearRegression(copy_X=True, fit_intercept=True, n_jobs=None, normalize=False)"
            ]
          },
          "metadata": {
            "tags": []
          },
          "execution_count": 8
        }
      ]
    },
    {
      "cell_type": "code",
      "metadata": {
        "colab": {
          "base_uri": "https://localhost:8080/"
        },
        "id": "4rL-8CV0PLNZ",
        "outputId": "0c421fe5-fed0-4274-ba07-b76147634663"
      },
      "source": [
        "# 회귀 직선의 절편과 기울기\n",
        "lin_reg.intercept_, lin_reg.coef_"
      ],
      "execution_count": null,
      "outputs": [
        {
          "output_type": "execute_result",
          "data": {
            "text/plain": [
              "(array([4.03314257]), array([[2.9718727]]))"
            ]
          },
          "metadata": {
            "tags": []
          },
          "execution_count": 9
        }
      ]
    },
    {
      "cell_type": "code",
      "metadata": {
        "colab": {
          "base_uri": "https://localhost:8080/"
        },
        "id": "Fv94DOQKPX0C",
        "outputId": "05489ecd-9498-4b4a-c693-482c5ae3247b"
      },
      "source": [
        "# 회귀 직선으로 예측하기\n",
        "lin_reg.predict(X_new)"
      ],
      "execution_count": null,
      "outputs": [
        {
          "output_type": "execute_result",
          "data": {
            "text/plain": [
              "array([[4.03314257],\n",
              "       [9.97688797]])"
            ]
          },
          "metadata": {
            "tags": []
          },
          "execution_count": 10
        }
      ]
    },
    {
      "cell_type": "markdown",
      "metadata": {
        "id": "OAJ67Av0PxVi"
      },
      "source": [
        "유사 역행렬 이용  \n",
        "SVD: $X = U \\Sigma T^{T}$ 에서  \n",
        "$X$의 유사역행렬 $X^{+} = T \\Sigma U^{T}$  \n",
        "$\\hat{\\theta} = X^{+} y$"
      ]
    },
    {
      "cell_type": "code",
      "metadata": {
        "colab": {
          "base_uri": "https://localhost:8080/"
        },
        "id": "3wlgoLjvfNsn",
        "outputId": "46200a85-3bbe-43fa-a667-b5a19e5e6571"
      },
      "source": [
        "theta_best_svd, residuals, rank, s = np.linalg.lstsq(X_b, y, rcond=1e-6)\n",
        "theta_best_svd"
      ],
      "execution_count": null,
      "outputs": [
        {
          "output_type": "execute_result",
          "data": {
            "text/plain": [
              "array([[4.03314257],\n",
              "       [2.9718727 ]])"
            ]
          },
          "metadata": {
            "tags": []
          },
          "execution_count": 11
        }
      ]
    },
    {
      "cell_type": "code",
      "metadata": {
        "colab": {
          "base_uri": "https://localhost:8080/"
        },
        "id": "b1XRY44XPj06",
        "outputId": "4fbb5214-8635-483b-f026-c05169b289a6"
      },
      "source": [
        "# 유사역행렬 이용하여 직접 구하기\n",
        "np.linalg.pinv(X_b).dot(y)"
      ],
      "execution_count": null,
      "outputs": [
        {
          "output_type": "execute_result",
          "data": {
            "text/plain": [
              "array([[4.03314257],\n",
              "       [2.9718727 ]])"
            ]
          },
          "metadata": {
            "tags": []
          },
          "execution_count": 12
        }
      ]
    },
    {
      "cell_type": "markdown",
      "metadata": {
        "id": "FwSFD1jaM8QR"
      },
      "source": [
        "### 경사하강법"
      ]
    },
    {
      "cell_type": "markdown",
      "metadata": {
        "id": "sdWgdi0IOKfD"
      },
      "source": [
        "배치 경사하강법  \n",
        "$\\nabla_{\\theta} \\text{MSE} (\\theta)= \\frac{2}{m} X^{T}(X \\theta - y)$  \n",
        "$\\theta^{+} = \\theta - \\eta \\nabla_{\\theta} \\text{MSE}$ "
      ]
    },
    {
      "cell_type": "code",
      "metadata": {
        "id": "MWbUa_aIfxoT"
      },
      "source": [
        "# 배치 경사하강법\n",
        "eta = 0.1 # 학습률\n",
        "n_iterations = 1000 # 반복 횟수\n",
        "m = 100 # 샘플 개수\n",
        "\n",
        "theta = np.random.randn(2, 1) # theta의 초기값 무작위 초기화\n",
        "\n",
        "for iteration in range(n_iterations):\n",
        "  gradients = 2/m * X_b.T.dot(X_b.dot(theta) - y)\n",
        "  theta = theta - eta * gradients"
      ],
      "execution_count": null,
      "outputs": []
    },
    {
      "cell_type": "code",
      "metadata": {
        "colab": {
          "base_uri": "https://localhost:8080/"
        },
        "id": "RdShVcrxSlky",
        "outputId": "6210f2fc-9d45-4f98-bded-3e4fa60ae144"
      },
      "source": [
        "theta"
      ],
      "execution_count": null,
      "outputs": [
        {
          "output_type": "execute_result",
          "data": {
            "text/plain": [
              "array([[4.03314257],\n",
              "       [2.9718727 ]])"
            ]
          },
          "metadata": {
            "tags": []
          },
          "execution_count": 14
        }
      ]
    },
    {
      "cell_type": "markdown",
      "metadata": {
        "id": "Q6h1rAdC41bc"
      },
      "source": [
        "확률적 경사 하강법"
      ]
    },
    {
      "cell_type": "code",
      "metadata": {
        "id": "s28AKKiDSoh4"
      },
      "source": [
        "# 확률적 경사 하강법\n",
        "n_epochs = 50 # 에포크 횟수\n",
        "t0, t1 = 5, 50 # 학습 스케줄 하이퍼파라미터\n",
        "\n",
        "def learning_schedule(t):\n",
        "  return t0 / (t + t1)\n",
        "\n",
        "theta = np.random.randn(2, 1) # theta의 초기값 무작위 초기화\n",
        "\n",
        "for epoch in range(n_epochs):\n",
        "  for i in range(m):\n",
        "    random_index = np.random.randint(m) # 0~m-1 사이에 랜덤하게 정수 하나 뽑음\n",
        "    xi = X_b[random_index: random_index+1] # 뽑힌 수를 인덱스 값으로 갖는 샘플 (랜덤 샘플)\n",
        "    yi = y[random_index: random_index+1]\n",
        "    gradients = 2 * xi.T.dot(xi.dot(theta) - yi) # 그래디언트 구하기\n",
        "    eta = learning_schedule(epoch * m + i) # 학습률 구하기, 에포크에 반비례, 타임 스텝에 반비례\n",
        "    theta = theta - eta * gradients # theta 업데이트"
      ],
      "execution_count": null,
      "outputs": []
    },
    {
      "cell_type": "code",
      "metadata": {
        "colab": {
          "base_uri": "https://localhost:8080/"
        },
        "id": "uRGPwOA38KFV",
        "outputId": "ce515eef-a715-46a0-db76-5cc3654d7842"
      },
      "source": [
        "theta"
      ],
      "execution_count": null,
      "outputs": [
        {
          "output_type": "execute_result",
          "data": {
            "text/plain": [
              "array([[4.00809909],\n",
              "       [2.98981231]])"
            ]
          },
          "metadata": {
            "tags": []
          },
          "execution_count": 17
        }
      ]
    },
    {
      "cell_type": "code",
      "metadata": {
        "id": "I8MHuEV78Y0y"
      },
      "source": [
        "# 사이킷런을 이용하여 확률적 경사하강법 사용하기\n",
        "from sklearn.linear_model import SGDRegressor\n",
        "sgd_reg = SGDRegressor(max_iter = 1000, tol = 1e-3, penalty = None, eta = 0.1)\n",
        "sgd_reg.fit(X, y.ravel())"
      ],
      "execution_count": null,
      "outputs": []
    }
  ]
}