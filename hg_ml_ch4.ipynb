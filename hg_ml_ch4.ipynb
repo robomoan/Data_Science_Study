{
  "nbformat": 4,
  "nbformat_minor": 0,
  "metadata": {
    "colab": {
      "name": "hg_ml_ch4.ipynb",
      "provenance": [],
      "collapsed_sections": [],
      "authorship_tag": "ABX9TyNl6qn7Qc0gpFCAcxfrOgMc",
      "include_colab_link": true
    },
    "kernelspec": {
      "name": "python3",
      "display_name": "Python 3"
    }
  },
  "cells": [
    {
      "cell_type": "markdown",
      "metadata": {
        "id": "view-in-github",
        "colab_type": "text"
      },
      "source": [
        "<a href=\"https://colab.research.google.com/github/robomoan/Data_Science_Study/blob/main/hg_ml_ch4.ipynb\" target=\"_parent\"><img src=\"https://colab.research.google.com/assets/colab-badge.svg\" alt=\"Open In Colab\"/></a>"
      ]
    },
    {
      "cell_type": "markdown",
      "metadata": {
        "id": "AceRwKOnqUb4"
      },
      "source": [
        "# Ch4. 다양한 분류 알고리즘\r\n",
        "럭키백의 확률 계산"
      ]
    },
    {
      "cell_type": "markdown",
      "metadata": {
        "id": "8CRe7GFvqpzb"
      },
      "source": [
        "## 로지스틱 회귀"
      ]
    },
    {
      "cell_type": "markdown",
      "metadata": {
        "id": "MX_wEMjoq1Kg"
      },
      "source": [
        "### 데이터 준비하기"
      ]
    },
    {
      "cell_type": "code",
      "metadata": {
        "colab": {
          "base_uri": "https://localhost:8080/",
          "height": 202
        },
        "id": "FKv32Iaqjgen",
        "outputId": "ce8b7241-80a8-4b62-c4f6-8a6decdd9321"
      },
      "source": [
        "import pandas as pd\r\n",
        "fish = pd.read_csv(\"https://raw.githubusercontent.com/rickiepark/hongong-ml/master/fish.csv\")\r\n",
        "fish.head()"
      ],
      "execution_count": 37,
      "outputs": [
        {
          "output_type": "execute_result",
          "data": {
            "text/html": [
              "<div>\n",
              "<style scoped>\n",
              "    .dataframe tbody tr th:only-of-type {\n",
              "        vertical-align: middle;\n",
              "    }\n",
              "\n",
              "    .dataframe tbody tr th {\n",
              "        vertical-align: top;\n",
              "    }\n",
              "\n",
              "    .dataframe thead th {\n",
              "        text-align: right;\n",
              "    }\n",
              "</style>\n",
              "<table border=\"1\" class=\"dataframe\">\n",
              "  <thead>\n",
              "    <tr style=\"text-align: right;\">\n",
              "      <th></th>\n",
              "      <th>Species</th>\n",
              "      <th>Weight</th>\n",
              "      <th>Length</th>\n",
              "      <th>Diagonal</th>\n",
              "      <th>Height</th>\n",
              "      <th>Width</th>\n",
              "    </tr>\n",
              "  </thead>\n",
              "  <tbody>\n",
              "    <tr>\n",
              "      <th>0</th>\n",
              "      <td>Bream</td>\n",
              "      <td>242.0</td>\n",
              "      <td>25.4</td>\n",
              "      <td>30.0</td>\n",
              "      <td>11.5200</td>\n",
              "      <td>4.0200</td>\n",
              "    </tr>\n",
              "    <tr>\n",
              "      <th>1</th>\n",
              "      <td>Bream</td>\n",
              "      <td>290.0</td>\n",
              "      <td>26.3</td>\n",
              "      <td>31.2</td>\n",
              "      <td>12.4800</td>\n",
              "      <td>4.3056</td>\n",
              "    </tr>\n",
              "    <tr>\n",
              "      <th>2</th>\n",
              "      <td>Bream</td>\n",
              "      <td>340.0</td>\n",
              "      <td>26.5</td>\n",
              "      <td>31.1</td>\n",
              "      <td>12.3778</td>\n",
              "      <td>4.6961</td>\n",
              "    </tr>\n",
              "    <tr>\n",
              "      <th>3</th>\n",
              "      <td>Bream</td>\n",
              "      <td>363.0</td>\n",
              "      <td>29.0</td>\n",
              "      <td>33.5</td>\n",
              "      <td>12.7300</td>\n",
              "      <td>4.4555</td>\n",
              "    </tr>\n",
              "    <tr>\n",
              "      <th>4</th>\n",
              "      <td>Bream</td>\n",
              "      <td>430.0</td>\n",
              "      <td>29.0</td>\n",
              "      <td>34.0</td>\n",
              "      <td>12.4440</td>\n",
              "      <td>5.1340</td>\n",
              "    </tr>\n",
              "  </tbody>\n",
              "</table>\n",
              "</div>"
            ],
            "text/plain": [
              "  Species  Weight  Length  Diagonal   Height   Width\n",
              "0   Bream   242.0    25.4      30.0  11.5200  4.0200\n",
              "1   Bream   290.0    26.3      31.2  12.4800  4.3056\n",
              "2   Bream   340.0    26.5      31.1  12.3778  4.6961\n",
              "3   Bream   363.0    29.0      33.5  12.7300  4.4555\n",
              "4   Bream   430.0    29.0      34.0  12.4440  5.1340"
            ]
          },
          "metadata": {
            "tags": []
          },
          "execution_count": 37
        }
      ]
    },
    {
      "cell_type": "code",
      "metadata": {
        "colab": {
          "base_uri": "https://localhost:8080/"
        },
        "id": "tHxLgnZwqTP-",
        "outputId": "41a95d97-ed45-4caf-9fe1-4f0b8a33ed8e"
      },
      "source": [
        "# 타깃 데이터가 될 물고기의 종류\r\n",
        "print(pd.unique(fish['Species']))"
      ],
      "execution_count": 38,
      "outputs": [
        {
          "output_type": "stream",
          "text": [
            "['Bream' 'Roach' 'Whitefish' 'Parkki' 'Perch' 'Pike' 'Smelt']\n"
          ],
          "name": "stdout"
        }
      ]
    },
    {
      "cell_type": "code",
      "metadata": {
        "id": "ci58KO6Vrknd"
      },
      "source": [
        "# 물고기의 종류를 제외한 나머지 데이터로 인풋 데이터로 분리\r\n",
        "fish_input = fish.iloc[:, 1:].to_numpy()"
      ],
      "execution_count": 39,
      "outputs": []
    },
    {
      "cell_type": "code",
      "metadata": {
        "colab": {
          "base_uri": "https://localhost:8080/"
        },
        "id": "qXgIga58rt0Z",
        "outputId": "61b505e8-54a2-475a-f091-213989dcc8d0"
      },
      "source": [
        "print(fish_input[0:5])"
      ],
      "execution_count": 40,
      "outputs": [
        {
          "output_type": "stream",
          "text": [
            "[[242.      25.4     30.      11.52     4.02  ]\n",
            " [290.      26.3     31.2     12.48     4.3056]\n",
            " [340.      26.5     31.1     12.3778   4.6961]\n",
            " [363.      29.      33.5     12.73     4.4555]\n",
            " [430.      29.      34.      12.444    5.134 ]]\n"
          ],
          "name": "stdout"
        }
      ]
    },
    {
      "cell_type": "code",
      "metadata": {
        "id": "srNaijjptplT"
      },
      "source": [
        "# 물고기의 종류를 타깃 데이터로 분리\r\n",
        "fish_target = fish['Species'].to_numpy()"
      ],
      "execution_count": 41,
      "outputs": []
    },
    {
      "cell_type": "code",
      "metadata": {
        "id": "zHhuj7Smt5L0"
      },
      "source": [
        "# 데이터를 훈련 세트와 테스트 세트로 나누기\r\n",
        "from sklearn.model_selection import train_test_split\r\n",
        "train_input, test_input, train_target, test_target = train_test_split(fish_input, fish_target, random_state = 42)"
      ],
      "execution_count": 42,
      "outputs": []
    },
    {
      "cell_type": "code",
      "metadata": {
        "id": "4mu5zW7cufAH"
      },
      "source": [
        "# 훈련 세트의 통계값으로 훈련 세트와 테스트 세트 표준화\r\n",
        "from sklearn.preprocessing import StandardScaler\r\n",
        "ss = StandardScaler()\r\n",
        "ss.fit(train_input, train_target)\r\n",
        "train_scaled = ss.transform(train_input)\r\n",
        "test_scaled = ss.transform(test_input)"
      ],
      "execution_count": 43,
      "outputs": []
    },
    {
      "cell_type": "markdown",
      "metadata": {
        "id": "OH_ZZt61zpS1"
      },
      "source": [
        "### K-최근접 이웃 분류기의 확률 예측"
      ]
    },
    {
      "cell_type": "code",
      "metadata": {
        "colab": {
          "base_uri": "https://localhost:8080/"
        },
        "id": "kIQtc6ZBvAYw",
        "outputId": "bc99c53c-1be8-4de6-cb86-b93379cbaede"
      },
      "source": [
        "from sklearn.neighbors import KNeighborsClassifier\r\n",
        "kn = KNeighborsClassifier(n_neighbors = 3)\r\n",
        "kn.fit(train_scaled, train_target)\r\n",
        "print(kn.score(train_scaled, train_target))\r\n",
        "print(kn.score(test_scaled, test_target))"
      ],
      "execution_count": 44,
      "outputs": [
        {
          "output_type": "stream",
          "text": [
            "0.8907563025210085\n",
            "0.85\n"
          ],
          "name": "stdout"
        }
      ]
    },
    {
      "cell_type": "code",
      "metadata": {
        "colab": {
          "base_uri": "https://localhost:8080/"
        },
        "id": "IGi_4V240R1-",
        "outputId": "7a7fa7e3-7d80-47ee-857a-0e5741a2f8b5"
      },
      "source": [
        "# KNeighborsClassifier에 저장된 타깃 데이터는 알파벳 순서로 정렬되어있다.\r\n",
        "print(kn.classes_)"
      ],
      "execution_count": 45,
      "outputs": [
        {
          "output_type": "stream",
          "text": [
            "['Bream' 'Parkki' 'Perch' 'Pike' 'Roach' 'Smelt' 'Whitefish']\n"
          ],
          "name": "stdout"
        }
      ]
    },
    {
      "cell_type": "code",
      "metadata": {
        "colab": {
          "base_uri": "https://localhost:8080/"
        },
        "id": "9cN8xt1k0nv_",
        "outputId": "7d2dfc4a-dd52-4473-dbc4-28add78b2918"
      },
      "source": [
        "# 테스트 세트 처음 5개 샘플 예측\r\n",
        "print(kn.predict(test_scaled[:5]))"
      ],
      "execution_count": 46,
      "outputs": [
        {
          "output_type": "stream",
          "text": [
            "['Perch' 'Smelt' 'Pike' 'Perch' 'Perch']\n"
          ],
          "name": "stdout"
        }
      ]
    },
    {
      "cell_type": "code",
      "metadata": {
        "colab": {
          "base_uri": "https://localhost:8080/"
        },
        "id": "5f0v9tul05Nt",
        "outputId": "f648e2cd-cb3e-4c48-c349-c6f0d05489dc"
      },
      "source": [
        "# 처음 5개 샘플에 대한 확률 출력\r\n",
        "import numpy as np\r\n",
        "proba = kn.predict_proba(test_scaled[:5])\r\n",
        "print(np.round(proba, decimals=4))"
      ],
      "execution_count": 47,
      "outputs": [
        {
          "output_type": "stream",
          "text": [
            "[[0.     0.     1.     0.     0.     0.     0.    ]\n",
            " [0.     0.     0.     0.     0.     1.     0.    ]\n",
            " [0.     0.     0.     1.     0.     0.     0.    ]\n",
            " [0.     0.     0.6667 0.     0.3333 0.     0.    ]\n",
            " [0.     0.     0.6667 0.     0.3333 0.     0.    ]]\n"
          ],
          "name": "stdout"
        }
      ]
    },
    {
      "cell_type": "code",
      "metadata": {
        "colab": {
          "base_uri": "https://localhost:8080/"
        },
        "id": "JyduwMjk3eIu",
        "outputId": "80440e1f-da32-4c47-8bbf-0fce869fb2d2"
      },
      "source": [
        "# 네번째 샘플의 근접 이웃 구하기\r\n",
        "distances, indexes = kn.kneighbors(test_scaled[3:4])\r\n",
        "print(train_target[indexes])"
      ],
      "execution_count": 48,
      "outputs": [
        {
          "output_type": "stream",
          "text": [
            "[['Roach' 'Perch' 'Perch']]\n"
          ],
          "name": "stdout"
        }
      ]
    },
    {
      "cell_type": "markdown",
      "metadata": {
        "id": "L73-lBZi4qbA"
      },
      "source": [
        "네번째 샘플의 Perch 확률이 2/3 = 0.6667임을 확인할 수 있다."
      ]
    },
    {
      "cell_type": "markdown",
      "metadata": {
        "id": "TZWzCzoT40eO"
      },
      "source": [
        "### 로지스틱 회귀"
      ]
    },
    {
      "cell_type": "code",
      "metadata": {
        "colab": {
          "base_uri": "https://localhost:8080/",
          "height": 279
        },
        "id": "gFFvVybR3zv6",
        "outputId": "4c194301-c4e9-4cfe-a011-d89fe203750a"
      },
      "source": [
        "# 시그모이드 함수\r\n",
        "import numpy as np\r\n",
        "import matplotlib.pyplot as plt\r\n",
        "z = np.arange(-5, 5, 0.1)\r\n",
        "phi = 1 / (1 + np.exp(-z))\r\n",
        "plt.plot(phi)\r\n",
        "plt.xlabel('z')\r\n",
        "plt.ylabel('phi')\r\n",
        "plt.show()"
      ],
      "execution_count": 49,
      "outputs": [
        {
          "output_type": "display_data",
          "data": {
            "image/png": "[encoded data removed]",
            "text/plain": [
              "<Figure size 432x288 with 1 Axes>"
            ]
          },
          "metadata": {
            "tags": [],
            "needs_background": "light"
          }
        }
      ]
    },
    {
      "cell_type": "markdown",
      "metadata": {
        "id": "pyyJIIaO61ES"
      },
      "source": [
        "#### 로지스틱 회귀로 이진분류 수행하기"
      ]
    },
    {
      "cell_type": "code",
      "metadata": {
        "id": "52JXiJeN357W"
      },
      "source": [
        "# 훈련 세트의에서 도미와 빙어 행만 골라내기\r\n",
        "bream_smelt_indexes = (train_target == 'Bream') | (train_target == 'Smelt')\r\n",
        "train_bream_smelt = train_scaled[bream_smelt_indexes]\r\n",
        "target_bream_smelt = train_target[bream_smelt_indexes]"
      ],
      "execution_count": 50,
      "outputs": []
    },
    {
      "cell_type": "code",
      "metadata": {
        "id": "DJvgaPNE7ZfN",
        "colab": {
          "base_uri": "https://localhost:8080/"
        },
        "outputId": "0344deae-b125-4a23-a7dd-c332c32400fc"
      },
      "source": [
        "# 로지스틱 회귀 모델 훈련\r\n",
        "from sklearn.linear_model import LogisticRegression\r\n",
        "lr = LogisticRegression()\r\n",
        "lr.fit(train_bream_smelt, target_bream_smelt)"
      ],
      "execution_count": 51,
      "outputs": [
        {
          "output_type": "execute_result",
          "data": {
            "text/plain": [
              "LogisticRegression(C=1.0, class_weight=None, dual=False, fit_intercept=True,\n",
              "                   intercept_scaling=1, l1_ratio=None, max_iter=100,\n",
              "                   multi_class='auto', n_jobs=None, penalty='l2',\n",
              "                   random_state=None, solver='lbfgs', tol=0.0001, verbose=0,\n",
              "                   warm_start=False)"
            ]
          },
          "metadata": {
            "tags": []
          },
          "execution_count": 51
        }
      ]
    },
    {
      "cell_type": "code",
      "metadata": {
        "colab": {
          "base_uri": "https://localhost:8080/"
        },
        "id": "5hUKxP0CF4vo",
        "outputId": "f607aa06-8f59-4355-b091-ef6bb6510a90"
      },
      "source": [
        "# 예측하기\r\n",
        "print(lr.predict(train_bream_smelt[:5]))"
      ],
      "execution_count": 52,
      "outputs": [
        {
          "output_type": "stream",
          "text": [
            "['Bream' 'Smelt' 'Bream' 'Bream' 'Bream']\n"
          ],
          "name": "stdout"
        }
      ]
    },
    {
      "cell_type": "code",
      "metadata": {
        "colab": {
          "base_uri": "https://localhost:8080/"
        },
        "id": "z1vBJa7aGBUp",
        "outputId": "321ba6dc-6174-4f30-8dad-65fb1faa84ca"
      },
      "source": [
        "# 예측 확률 출력\r\n",
        "print(lr.predict_proba(train_bream_smelt[:5]))"
      ],
      "execution_count": 53,
      "outputs": [
        {
          "output_type": "stream",
          "text": [
            "[[0.99759855 0.00240145]\n",
            " [0.02735183 0.97264817]\n",
            " [0.99486072 0.00513928]\n",
            " [0.98584202 0.01415798]\n",
            " [0.99767269 0.00232731]]\n"
          ],
          "name": "stdout"
        }
      ]
    },
    {
      "cell_type": "code",
      "metadata": {
        "colab": {
          "base_uri": "https://localhost:8080/"
        },
        "id": "nt4aWKLPGJqp",
        "outputId": "e224fe53-8312-4b53-c95a-6a2ecffb7f3f"
      },
      "source": [
        "# 각각이 어떤 타깃값인지\r\n",
        "print(lr.classes_)"
      ],
      "execution_count": 54,
      "outputs": [
        {
          "output_type": "stream",
          "text": [
            "['Bream' 'Smelt']\n"
          ],
          "name": "stdout"
        }
      ]
    },
    {
      "cell_type": "code",
      "metadata": {
        "colab": {
          "base_uri": "https://localhost:8080/"
        },
        "id": "f7wAhNPqGUsr",
        "outputId": "adac4d1a-e32d-4800-ef58-095492353ff1"
      },
      "source": [
        "# 회귀모델의 계수 확인하기\r\n",
        "print(lr.coef_, lr.intercept_)"
      ],
      "execution_count": 55,
      "outputs": [
        {
          "output_type": "stream",
          "text": [
            "[[-0.4037798  -0.57620209 -0.66280298 -1.01290277 -0.73168947]] [-2.16155132]\n"
          ],
          "name": "stdout"
        }
      ]
    },
    {
      "cell_type": "markdown",
      "metadata": {
        "id": "qhhMVLITGp2s"
      },
      "source": [
        "회귀모델의 방정식  \r\n",
        "$z = -0.404 \\times (Weight) -0.576 \\times (Length) -0.663 \\times (Diagonal) -1.013 \\times (Height) -0.732 \\times (Width) - 2.161$"
      ]
    },
    {
      "cell_type": "code",
      "metadata": {
        "colab": {
          "base_uri": "https://localhost:8080/"
        },
        "id": "fPPzPzbKGhcL",
        "outputId": "9b4ed0ee-62ca-457f-c88b-a987f5574496"
      },
      "source": [
        "# 처음 5개 샘플의 z 값 (시그모이드 함수에 넣기 전 값) 구하기\r\n",
        "decisions = lr.decision_function(train_bream_smelt[:5])\r\n",
        "print(decisions)"
      ],
      "execution_count": 56,
      "outputs": [
        {
          "output_type": "stream",
          "text": [
            "[-6.02927744  3.57123907 -5.26568906 -4.24321775 -6.0607117 ]\n"
          ],
          "name": "stdout"
        }
      ]
    },
    {
      "cell_type": "code",
      "metadata": {
        "colab": {
          "base_uri": "https://localhost:8080/"
        },
        "id": "oBOuOfyaHW2l",
        "outputId": "de1258c8-2e2c-4098-824a-7bf4e30c9e2e"
      },
      "source": [
        "# scify에서 시그모이드 함수 제공\r\n",
        "from scipy.special import expit\r\n",
        "print(expit(decisions))"
      ],
      "execution_count": 57,
      "outputs": [
        {
          "output_type": "stream",
          "text": [
            "[0.00240145 0.97264817 0.00513928 0.01415798 0.00232731]\n"
          ],
          "name": "stdout"
        }
      ]
    },
    {
      "cell_type": "markdown",
      "metadata": {
        "id": "J2TJRUOuHyq5"
      },
      "source": [
        "이는 predict_proba() 매서드 출력의 2번째 열의 값과 동일  \r\n",
        "decision_function() 메서드는 양성 클래스(1, 여기서는 Smelt)에 대한 z 값을 반환한다."
      ]
    },
    {
      "cell_type": "markdown",
      "metadata": {
        "id": "PMlxDUzBKCew"
      },
      "source": [
        "#### 로지스틱 회귀로 다중 분류 수행하기"
      ]
    },
    {
      "cell_type": "code",
      "metadata": {
        "colab": {
          "base_uri": "https://localhost:8080/"
        },
        "id": "kojq2oiGHpaN",
        "outputId": "5e50b56a-2954-4190-9a9f-dc7f7889646f"
      },
      "source": [
        "# 로지스틱 회귀 다중 분류 모델 훈련하기\r\n",
        "lr = LogisticRegression(C = 20, max_iter=1000)\r\n",
        "lr.fit(train_scaled, train_target)\r\n",
        "print(lr.score(train_scaled, train_target))\r\n",
        "print(lr.score(test_scaled, test_target))"
      ],
      "execution_count": 58,
      "outputs": [
        {
          "output_type": "stream",
          "text": [
            "0.9327731092436975\n",
            "0.925\n"
          ],
          "name": "stdout"
        }
      ]
    },
    {
      "cell_type": "markdown",
      "metadata": {
        "id": "xxY241p-Kqct"
      },
      "source": [
        "LogisticRegresson() 클래스의 파라메터  \r\n",
        "C: L2 규제의 강도, 작을수록 규제가 커짐, 디폴트값은 1  \r\n",
        "max_iter: 반복 횟수, 디폴트값은 100"
      ]
    },
    {
      "cell_type": "code",
      "metadata": {
        "colab": {
          "base_uri": "https://localhost:8080/"
        },
        "id": "E3JLj-04Kkjn",
        "outputId": "aabcb2a4-80a7-46f1-fb76-7c20625ecf9e"
      },
      "source": [
        "# 테스트 세트의 처음 5개 샘플에 대한 예측 확인\r\n",
        "print(lr.predict(test_scaled[:5]))"
      ],
      "execution_count": 59,
      "outputs": [
        {
          "output_type": "stream",
          "text": [
            "['Perch' 'Smelt' 'Pike' 'Roach' 'Perch']\n"
          ],
          "name": "stdout"
        }
      ]
    },
    {
      "cell_type": "code",
      "metadata": {
        "colab": {
          "base_uri": "https://localhost:8080/"
        },
        "id": "xlxbDDamMqJ-",
        "outputId": "4e9f7f99-f366-4d66-9629-259e419129b7"
      },
      "source": [
        "# 처음 5개 샘플에 대한 확률 출력\r\n",
        "print(lr.classes_)\r\n",
        "proba = lr.predict_proba(test_scaled[:5])\r\n",
        "print(np.round(proba, 3))"
      ],
      "execution_count": 60,
      "outputs": [
        {
          "output_type": "stream",
          "text": [
            "['Bream' 'Parkki' 'Perch' 'Pike' 'Roach' 'Smelt' 'Whitefish']\n",
            "[[0.    0.014 0.841 0.    0.136 0.007 0.003]\n",
            " [0.    0.003 0.044 0.    0.007 0.946 0.   ]\n",
            " [0.    0.    0.034 0.935 0.015 0.016 0.   ]\n",
            " [0.011 0.034 0.306 0.007 0.567 0.    0.076]\n",
            " [0.    0.    0.904 0.002 0.089 0.002 0.001]]\n"
          ],
          "name": "stdout"
        }
      ]
    },
    {
      "cell_type": "code",
      "metadata": {
        "colab": {
          "base_uri": "https://localhost:8080/"
        },
        "id": "oNBrs5lONa_z",
        "outputId": "f88604c4-6c32-4689-a584-1097cd6f8159"
      },
      "source": [
        "# 다중 분류 선형방정식의 크기 출력\r\n",
        "print(lr.coef_.shape, lr.intercept_.shape)"
      ],
      "execution_count": 61,
      "outputs": [
        {
          "output_type": "stream",
          "text": [
            "(7, 5) (7,)\n"
          ],
          "name": "stdout"
        }
      ]
    },
    {
      "cell_type": "markdown",
      "metadata": {
        "id": "UUg0CEkqRplD"
      },
      "source": [
        "다중 분류 모델은 시그모이드 함수가 아닌 소프트맥스 함수에 넣어 확률을 구함  \r\n",
        "소프트맥스 함수는 지수함수 $e^z$의 가중치 비율"
      ]
    },
    {
      "cell_type": "code",
      "metadata": {
        "colab": {
          "base_uri": "https://localhost:8080/"
        },
        "id": "SGiKWoSSOtvJ",
        "outputId": "b032fb06-f6d9-4a18-cad7-d394a97a8271"
      },
      "source": [
        "# 처음 5개 샘플의 z값 (소프트맥스 함수에 넣기 전의 값) 구하기\r\n",
        "decision = lr.decision_function(test_scaled[:5])\r\n",
        "print(np.round(decision, 2))"
      ],
      "execution_count": 62,
      "outputs": [
        {
          "output_type": "stream",
          "text": [
            "[[ -6.5    1.03   5.16  -2.73   3.34   0.33  -0.63]\n",
            " [-10.86   1.93   4.77  -2.4    2.98   7.84  -4.26]\n",
            " [ -4.34  -6.23   3.17   6.49   2.36   2.42  -3.87]\n",
            " [ -0.68   0.45   2.65  -1.19   3.26  -5.75   1.26]\n",
            " [ -6.4   -1.99   5.82  -0.11   3.5   -0.11  -0.71]]\n"
          ],
          "name": "stdout"
        }
      ]
    },
    {
      "cell_type": "code",
      "metadata": {
        "colab": {
          "base_uri": "https://localhost:8080/"
        },
        "id": "3BxXf9XEQvgt",
        "outputId": "b54322d7-7072-4ed3-cb04-a099a8659474"
      },
      "source": [
        "# scipy에서 소프트맥스 함수를 제공\r\n",
        "from scipy.special import softmax\r\n",
        "proba = softmax(decision, axis = 1) # 각 행에 대해서 계산, 이 파라메터를 넣지 않으면 전체 샘플에 대해 소프트맥스 실행\r\n",
        "print(np.round(proba, 3))"
      ],
      "execution_count": 63,
      "outputs": [
        {
          "output_type": "stream",
          "text": [
            "[[0.    0.014 0.841 0.    0.136 0.007 0.003]\n",
            " [0.    0.003 0.044 0.    0.007 0.946 0.   ]\n",
            " [0.    0.    0.034 0.935 0.015 0.016 0.   ]\n",
            " [0.011 0.034 0.306 0.007 0.567 0.    0.076]\n",
            " [0.    0.    0.904 0.002 0.089 0.002 0.001]]\n"
          ],
          "name": "stdout"
        }
      ]
    },
    {
      "cell_type": "markdown",
      "metadata": {
        "id": "rdMjZBMQSdVE"
      },
      "source": [
        "predict_proba() 메서드를 이용해 구한 값과 동일함을 확인할 수 있다."
      ]
    },
    {
      "cell_type": "markdown",
      "metadata": {
        "id": "bXk3lSKwSqnK"
      },
      "source": [
        "## 확률적 경사 하강법"
      ]
    },
    {
      "cell_type": "markdown",
      "metadata": {
        "id": "acH4o5q1VWyA"
      },
      "source": [
        "#### SGDClassifier\r\n",
        "Stochastic Gradient Decent"
      ]
    },
    {
      "cell_type": "code",
      "metadata": {
        "colab": {
          "base_uri": "https://localhost:8080/",
          "height": 202
        },
        "id": "mLu-3BwmSMEm",
        "outputId": "062fa648-da27-4c9b-a228-bffdf61e8ef9"
      },
      "source": [
        "# 데이터 불러오기\r\n",
        "import pandas as pd\r\n",
        "fish = pd.read_csv(\"https://raw.githubusercontent.com/rickiepark/hongong-ml/master/fish.csv\")\r\n",
        "fish.head()"
      ],
      "execution_count": 64,
      "outputs": [
        {
          "output_type": "execute_result",
          "data": {
            "text/html": [
              "<div>\n",
              "<style scoped>\n",
              "    .dataframe tbody tr th:only-of-type {\n",
              "        vertical-align: middle;\n",
              "    }\n",
              "\n",
              "    .dataframe tbody tr th {\n",
              "        vertical-align: top;\n",
              "    }\n",
              "\n",
              "    .dataframe thead th {\n",
              "        text-align: right;\n",
              "    }\n",
              "</style>\n",
              "<table border=\"1\" class=\"dataframe\">\n",
              "  <thead>\n",
              "    <tr style=\"text-align: right;\">\n",
              "      <th></th>\n",
              "      <th>Species</th>\n",
              "      <th>Weight</th>\n",
              "      <th>Length</th>\n",
              "      <th>Diagonal</th>\n",
              "      <th>Height</th>\n",
              "      <th>Width</th>\n",
              "    </tr>\n",
              "  </thead>\n",
              "  <tbody>\n",
              "    <tr>\n",
              "      <th>0</th>\n",
              "      <td>Bream</td>\n",
              "      <td>242.0</td>\n",
              "      <td>25.4</td>\n",
              "      <td>30.0</td>\n",
              "      <td>11.5200</td>\n",
              "      <td>4.0200</td>\n",
              "    </tr>\n",
              "    <tr>\n",
              "      <th>1</th>\n",
              "      <td>Bream</td>\n",
              "      <td>290.0</td>\n",
              "      <td>26.3</td>\n",
              "      <td>31.2</td>\n",
              "      <td>12.4800</td>\n",
              "      <td>4.3056</td>\n",
              "    </tr>\n",
              "    <tr>\n",
              "      <th>2</th>\n",
              "      <td>Bream</td>\n",
              "      <td>340.0</td>\n",
              "      <td>26.5</td>\n",
              "      <td>31.1</td>\n",
              "      <td>12.3778</td>\n",
              "      <td>4.6961</td>\n",
              "    </tr>\n",
              "    <tr>\n",
              "      <th>3</th>\n",
              "      <td>Bream</td>\n",
              "      <td>363.0</td>\n",
              "      <td>29.0</td>\n",
              "      <td>33.5</td>\n",
              "      <td>12.7300</td>\n",
              "      <td>4.4555</td>\n",
              "    </tr>\n",
              "    <tr>\n",
              "      <th>4</th>\n",
              "      <td>Bream</td>\n",
              "      <td>430.0</td>\n",
              "      <td>29.0</td>\n",
              "      <td>34.0</td>\n",
              "      <td>12.4440</td>\n",
              "      <td>5.1340</td>\n",
              "    </tr>\n",
              "  </tbody>\n",
              "</table>\n",
              "</div>"
            ],
            "text/plain": [
              "  Species  Weight  Length  Diagonal   Height   Width\n",
              "0   Bream   242.0    25.4      30.0  11.5200  4.0200\n",
              "1   Bream   290.0    26.3      31.2  12.4800  4.3056\n",
              "2   Bream   340.0    26.5      31.1  12.3778  4.6961\n",
              "3   Bream   363.0    29.0      33.5  12.7300  4.4555\n",
              "4   Bream   430.0    29.0      34.0  12.4440  5.1340"
            ]
          },
          "metadata": {
            "tags": []
          },
          "execution_count": 64
        }
      ]
    },
    {
      "cell_type": "code",
      "metadata": {
        "id": "sJP-4Nq5VsAW"
      },
      "source": [
        "# 인풋 데이터, 타깃 데이터 나누기\r\n",
        "fish_input = fish.iloc[:, 1:].to_numpy()\r\n",
        "fish_target = fish['Species'].to_numpy()\r\n",
        "\r\n",
        "# 인풋 데이터를 훈련 세트와 테스트 세트로 나누기\r\n",
        "from sklearn.model_selection import train_test_split\r\n",
        "train_input, test_input, train_target, test_target = train_test_split(fish_input, fish_target, random_state = 42)\r\n",
        "\r\n",
        "# 훈련 세트의 통계량으로 훈련 세트와 테스트 세트 표준화하기\r\n",
        "from sklearn.preprocessing import StandardScaler\r\n",
        "ss = StandardScaler()\r\n",
        "ss.fit(train_input, train_target)\r\n",
        "train_scaled = ss.transform(train_input)\r\n",
        "test_scaled = ss.transform(test_input)"
      ],
      "execution_count": 65,
      "outputs": []
    },
    {
      "cell_type": "markdown",
      "metadata": {
        "id": "0omGUQE3YJfw"
      },
      "source": [
        "SGDClassifier()의 파라메터  \r\n",
        "- loss: 손실함수 지정 'log'는 로지스틱 손실함수, 디폴트값은 'hinge'  \r\n",
        "- max_iter: 수행할 에포크 횟수, 디폴트값은 1000\r\n",
        "- penalty: 규제의 종류 지정, 디폴트값은 'l2' L2 규제, L1 규제를 적용하려면 'l1'\r\n",
        "- tol: 반복을 멈출 조건: n_iter_no_change 파라메터에서 지정한 에포크 동안 손실이 tol만큼 줄어들지 않으면 알고리즘이 중단됨, 디폴트값은 0.001, n_ter_no_change의 디폴트값은 5"
      ]
    },
    {
      "cell_type": "code",
      "metadata": {
        "colab": {
          "base_uri": "https://localhost:8080/"
        },
        "id": "cJ4ToygkXTYJ",
        "outputId": "fa4c5b30-2e1e-4e46-a5fa-bdf3d14de929"
      },
      "source": [
        "# 확률적 경사 하강 분류기\r\n",
        "from sklearn.linear_model import SGDClassifier\r\n",
        "sc = SGDClassifier(loss = 'log', max_iter=10, random_state=42)\r\n",
        "sc.fit(train_scaled, train_target)\r\n",
        "print(sc.score(train_scaled, train_target))\r\n",
        "print(sc.score(test_scaled, test_target))"
      ],
      "execution_count": 66,
      "outputs": [
        {
          "output_type": "stream",
          "text": [
            "0.773109243697479\n",
            "0.775\n"
          ],
          "name": "stdout"
        },
        {
          "output_type": "stream",
          "text": [
            "/usr/local/lib/python3.7/dist-packages/sklearn/linear_model/_stochastic_gradient.py:557: ConvergenceWarning: Maximum number of iteration reached before convergence. Consider increasing max_iter to improve the fit.\n",
            "  ConvergenceWarning)\n"
          ],
          "name": "stderr"
        }
      ]
    },
    {
      "cell_type": "markdown",
      "metadata": {
        "id": "_gqvSeyNaCXO"
      },
      "source": [
        "반복횟수가 부족하다는 뜻의 ConvergenceWarning 경고를 출력"
      ]
    },
    {
      "cell_type": "code",
      "metadata": {
        "colab": {
          "base_uri": "https://localhost:8080/"
        },
        "id": "RKNW1ysfZ-PJ",
        "outputId": "a1bd3c1b-eea2-4573-9410-b4e17607f885"
      },
      "source": [
        "# 에포크 추가 훈련\r\n",
        "sc.partial_fit(train_scaled, train_target)\r\n",
        "print(sc.score(train_scaled, train_target))\r\n",
        "print(sc.score(test_scaled, test_target))"
      ],
      "execution_count": 67,
      "outputs": [
        {
          "output_type": "stream",
          "text": [
            "0.8151260504201681\n",
            "0.825\n"
          ],
          "name": "stdout"
        }
      ]
    },
    {
      "cell_type": "markdown",
      "metadata": {
        "id": "4M4lZ-SIYbrz"
      },
      "source": [
        "#### 에포크의 과대/과소적합"
      ]
    },
    {
      "cell_type": "markdown",
      "metadata": {
        "id": "o3aDLF6MY8rT"
      },
      "source": [
        "partial_fit() 매서드만 사용하려면 훈련 세트의 전체 클래스의 목록을 partial_fit() 매서드에 전달해주어야 한다."
      ]
    },
    {
      "cell_type": "code",
      "metadata": {
        "id": "YgKjq-JnacAR"
      },
      "source": [
        "import numpy as np\r\n",
        "sc = SGDClassifier(loss = 'log', random_state=42)\r\n",
        "train_score = []\r\n",
        "test_score = []\r\n",
        "classes = np.unique(train_target)"
      ],
      "execution_count": 68,
      "outputs": []
    },
    {
      "cell_type": "code",
      "metadata": {
        "id": "SrKeYyFPZgkn"
      },
      "source": [
        "# 300번의 에포크 동안 훈련 반복 진행하여 점수 변화 비교\r\n",
        "for _ in range(0, 300):\r\n",
        "  sc.partial_fit(train_scaled, train_target, classes=classes)\r\n",
        "  train_score.append(sc.score(train_scaled, train_target))\r\n",
        "  test_score.append(sc.score(test_scaled, test_target))"
      ],
      "execution_count": 69,
      "outputs": []
    },
    {
      "cell_type": "code",
      "metadata": {
        "colab": {
          "base_uri": "https://localhost:8080/",
          "height": 279
        },
        "id": "9QGFZZbGZ9X_",
        "outputId": "27f1d88d-7e58-4c32-8af9-0e0915e1ae87"
      },
      "source": [
        "# 훈련 세트와 테스트 세트의 점수 변화 그래프 그리기\r\n",
        "import matplotlib.pyplot as plt\r\n",
        "plt.plot(train_score)\r\n",
        "plt.plot(test_score)\r\n",
        "plt.xlabel('epoch')\r\n",
        "plt.ylabel('accuracy')\r\n",
        "plt.show()"
      ],
      "execution_count": 70,
      "outputs": [
        {
          "output_type": "display_data",
          "data": {
            "image/png": "[encoded data removed]",
            "text/plain": [
              "<Figure size 432x288 with 1 Axes>"
            ]
          },
          "metadata": {
            "tags": [],
            "needs_background": "light"
          }
        }
      ]
    },
    {
      "cell_type": "markdown",
      "metadata": {
        "id": "4xYHr5WGadbf"
      },
      "source": [
        "파란색이 훈련 세트 그래프, 주황색이 테스트 세트 그래프  \r\n",
        "100번째 에포크가 적절한 반복횟수로 보임"
      ]
    },
    {
      "cell_type": "code",
      "metadata": {
        "colab": {
          "base_uri": "https://localhost:8080/"
        },
        "id": "A-pRNpOLaaul",
        "outputId": "7d51c968-a11f-4b3d-d74a-02d3504513d2"
      },
      "source": [
        "# 에포크 100번 반복\r\n",
        "sc = SGDClassifier(loss='log', max_iter=100, tol=None, random_state=42)\r\n",
        "sc.fit(train_scaled, train_target)\r\n",
        "print(sc.score(train_scaled, train_target))\r\n",
        "print(sc.score(test_scaled, test_target))"
      ],
      "execution_count": 71,
      "outputs": [
        {
          "output_type": "stream",
          "text": [
            "0.957983193277311\n",
            "0.925\n"
          ],
          "name": "stdout"
        }
      ]
    },
    {
      "cell_type": "markdown",
      "metadata": {
        "id": "4Jkf9jnd14T0"
      },
      "source": [
        "SGDClassifier() 매서드의 loss 파라메터의 기본값인 'hinge'는 서포트 벡터 머신을 위한 손실함수인 힌지 손실 함수다."
      ]
    },
    {
      "cell_type": "code",
      "metadata": {
        "colab": {
          "base_uri": "https://localhost:8080/"
        },
        "id": "UVhY4Yd91pZT",
        "outputId": "2aaa75d7-cd9f-4d21-e27a-04cfe5ab971c"
      },
      "source": [
        "sc = SGDClassifier(loss='hinge', max_iter=100, tol=None, random_state=42)\r\n",
        "sc.fit(train_scaled, train_target)\r\n",
        "print(sc.score(train_scaled, train_target))\r\n",
        "print(sc.score(test_scaled, test_target))"
      ],
      "execution_count": 72,
      "outputs": [
        {
          "output_type": "stream",
          "text": [
            "0.9495798319327731\n",
            "0.925\n"
          ],
          "name": "stdout"
        }
      ]
    },
    {
      "cell_type": "code",
      "metadata": {
        "id": "f59q-2lj2UY_"
      },
      "source": [
        ""
      ],
      "execution_count": null,
      "outputs": []
    }
  ]
}